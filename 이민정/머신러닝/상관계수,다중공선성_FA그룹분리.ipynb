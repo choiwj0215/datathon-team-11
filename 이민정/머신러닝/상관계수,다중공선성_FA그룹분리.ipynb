{
 "cells": [
  {
   "cell_type": "code",
   "execution_count": 38,
   "id": "4586313f-8ec9-4ac2-bfbf-5e03e30c6dd4",
   "metadata": {},
   "outputs": [],
   "source": [
    "import pandas as pd\n",
    "from statsmodels.stats.outliers_influence import variance_inflation_factor\n",
    "from statsmodels.tools.tools import add_constant\n",
    "pd.set_option('display.max_columns', None)\n",
    "pd.set_option('display.max_rows', None)"
   ]
  },
  {
   "cell_type": "code",
   "execution_count": 30,
   "id": "b5a348a5-0209-496f-a44f-df73a1fc7322",
   "metadata": {},
   "outputs": [],
   "source": [
    "df = pd.read_csv('머신러닝_2013~2016FA.csv')\n",
    "df1 = pd.read_csv('머신러닝_2017~2024FA.csv')"
   ]
  },
  {
   "cell_type": "markdown",
   "id": "c13833d0-58be-481d-939d-ce1cf382fae8",
   "metadata": {},
   "source": [
    "### 상관계수"
   ]
  },
  {
   "cell_type": "code",
   "execution_count": 32,
   "id": "8c1505ce-0323-4e94-aa65-aa524d01a264",
   "metadata": {},
   "outputs": [
    {
     "data": {
      "text/plain": [
       "1년당 계약 총액    1.000000\n",
       "국대출전횟수       0.715276\n",
       "공격WAR        0.638439\n",
       "안타           0.614724\n",
       "타점           0.610014\n",
       "득점           0.593880\n",
       "타석수          0.575560\n",
       "볼넷           0.561892\n",
       "타수           0.561239\n",
       "2루타          0.544366\n",
       "홈런           0.535104\n",
       "wRC+         0.534928\n",
       "OPS          0.525618\n",
       "출루율          0.510654\n",
       "사구           0.505519\n",
       "연봉           0.487746\n",
       "장타율          0.480942\n",
       "희생플라이        0.451567\n",
       "3번 타순        0.431932\n",
       "게임수          0.427092\n",
       "나이           0.359750\n",
       "병살타          0.355260\n",
       "메인 타순        0.335525\n",
       "4번 타순        0.302474\n",
       "삼진           0.285286\n",
       "9번 타순        0.283731\n",
       "8번 타순        0.273693\n",
       "포지션_SS       0.241154\n",
       "구단지역_대구      0.229304\n",
       "구분_자격유지      0.228137\n",
       "FA년도         0.215091\n",
       "7번 타순        0.211678\n",
       "1번 타순        0.207380\n",
       "5번 타순        0.173726\n",
       "도루성공         0.164630\n",
       "2번 타순        0.159900\n",
       "포지션_3B       0.151522\n",
       "플레이년도        0.121357\n",
       "도루실패         0.116014\n",
       "포지션_2B       0.113861\n",
       "비고_대졸        0.096239\n",
       "포지션_CF       0.086541\n",
       "구단지역_대전      0.084236\n",
       "구단지역_부산      0.067335\n",
       "6번 타순        0.067083\n",
       "구단지역_인천      0.064648\n",
       "포지션_LF       0.060774\n",
       "투_좌투         0.060199\n",
       "포지션_DH       0.055361\n",
       "포지션_C        0.055361\n",
       "구단지역_수원      0.051728\n",
       "원클럽맨여부       0.048752\n",
       "득점파크팩터       0.048010\n",
       "장타파크팩터       0.045102\n",
       "구분_재자격       0.040655\n",
       "구단지역_서울      0.030501\n",
       "3루타          0.028988\n",
       "포지션_RF       0.018673\n",
       "타_좌타         0.006142\n",
       "홈런파크팩터       0.004548\n",
       "Name: 1년당 계약 총액, dtype: float64"
      ]
     },
     "execution_count": 32,
     "metadata": {},
     "output_type": "execute_result"
    }
   ],
   "source": [
    "correlation = df.corr(numeric_only=True)['1년당 계약 총액'].abs().sort_values(ascending=False)\n",
    "correlation"
   ]
  },
  {
   "cell_type": "code",
   "execution_count": 40,
   "id": "925ffdf0-733c-45ad-9aa2-7a14630e087e",
   "metadata": {},
   "outputs": [
    {
     "data": {
      "text/plain": [
       "1년당 계약 총액         1.000000\n",
       "공격WAR             0.674804\n",
       "타점                0.578713\n",
       "wRC+              0.568345\n",
       "득점                0.563327\n",
       "WPA+              0.563047\n",
       "홈런                0.555812\n",
       "홈런기여점수            0.540194\n",
       "OPS               0.531440\n",
       "1점 홈런             0.523160\n",
       "WPA               0.521193\n",
       "장타율               0.517033\n",
       "2루타               0.512089\n",
       "안타                0.498724\n",
       "2점 홈런             0.497148\n",
       "타석수               0.489626\n",
       "타수                0.474866\n",
       "국대출전횟수            0.470805\n",
       "볼넷                0.467841\n",
       "출루율               0.439489\n",
       "타격 WPA            0.427093\n",
       "삼진                0.407910\n",
       "사구                0.388343\n",
       "3점 홈런             0.384254\n",
       "WPA-              0.367791\n",
       "FA등급_C            0.355162\n",
       "연봉                0.335717\n",
       "나이                0.311224\n",
       "3번 타순             0.298964\n",
       "게임수               0.297797\n",
       "4번 타순             0.266700\n",
       "희생플라이             0.259239\n",
       "만루 홈런             0.246323\n",
       "메인 타순             0.232232\n",
       "5번 타순             0.228421\n",
       "병살타               0.225162\n",
       "9번 타순             0.222832\n",
       "포지션_RF            0.217554\n",
       "3루타               0.207649\n",
       "비고_고졸             0.204077\n",
       "구단지역_서울           0.200854\n",
       "7번 타순             0.192247\n",
       "비고_대졸             0.184209\n",
       "홈런파크팩터            0.180689\n",
       "포지션_SS            0.173932\n",
       "비고_35세 이상         0.145162\n",
       "도루성공              0.143677\n",
       "득점파크팩터            0.130696\n",
       "구단지역_인천           0.128579\n",
       "타_좌타              0.128570\n",
       "포지션_C             0.119406\n",
       "투_좌투              0.117640\n",
       "포지션_LF            0.114737\n",
       "8번 타순             0.113911\n",
       "비고_35세 이상 해외복귀    0.107833\n",
       "구분_자격유지           0.107009\n",
       "포지션_CF            0.106194\n",
       "구단지역_수원           0.104586\n",
       "구분_신규             0.098736\n",
       "도루실패              0.095891\n",
       "주루 WPA            0.094566\n",
       "1번 타순             0.088882\n",
       "FA년도              0.061966\n",
       "구단지역_부산           0.059432\n",
       "포지션_2B            0.058920\n",
       "구단지역_창원           0.058628\n",
       "플레이년도             0.057063\n",
       "구분_재자격            0.054456\n",
       "구단지역_대전           0.050109\n",
       "FA등급_B            0.038116\n",
       "장타파크팩터            0.037541\n",
       "포지션_3B            0.037293\n",
       "원클럽맨여부            0.033980\n",
       "6번 타순             0.032834\n",
       "비고_2번째 FA         0.025668\n",
       "비고_3번째 FA         0.019455\n",
       "2번 타순             0.015273\n",
       "포지션_DH            0.009711\n",
       "구단지역_대구           0.007746\n",
       "비고_35세 이상 대졸      0.000502\n",
       "FA등급_다년계약         0.000322\n",
       "비고_다년계약           0.000322\n",
       "Name: 1년당 계약 총액, dtype: float64"
      ]
     },
     "execution_count": 40,
     "metadata": {},
     "output_type": "execute_result"
    }
   ],
   "source": [
    "correlation = df1.corr(numeric_only=True)['1년당 계약 총액'].abs().sort_values(ascending=False)\n",
    "correlation"
   ]
  },
  {
   "cell_type": "markdown",
   "id": "539d4f3a-110e-4579-8433-c37ec3377b40",
   "metadata": {
    "jp-MarkdownHeadingCollapsed": true
   },
   "source": [
    "### 다중공선성 확인"
   ]
  },
  {
   "cell_type": "code",
   "execution_count": 131,
   "id": "2068ce2d-d503-41b6-8b79-7eefec47b909",
   "metadata": {},
   "outputs": [
    {
     "name": "stdout",
     "output_type": "stream",
     "text": [
      "     Feature          VIF\n",
      "0      const     0.000000\n",
      "1       FA년도          inf\n",
      "2      플레이년도          inf\n",
      "3         나이     2.390942\n",
      "4        게임수    10.597677\n",
      "5        타석수  1073.218167\n",
      "6         타수   923.513679\n",
      "7         득점    19.368968\n",
      "8         안타   120.477214\n",
      "9        2루타     8.606709\n",
      "10       3루타     2.300212\n",
      "11        사구     3.656702\n",
      "12        홈런    16.596103\n",
      "13        타점    19.478365\n",
      "14      도루성공     5.029452\n",
      "15      도루실패     3.749546\n",
      "16        볼넷    32.863964\n",
      "17        삼진     4.903735\n",
      "18       병살타     2.541782\n",
      "19     희생플라이     2.413792\n",
      "20     공격WAR    18.561177\n",
      "21        연봉     3.119867\n",
      "22  FA 계약 연수     4.542977\n",
      "23  FA 계약 총액     4.627896\n",
      "24      wRC+    23.105770\n",
      "25       장타율          inf\n",
      "26       출루율          inf\n",
      "27       OPS          inf\n",
      "28    득점파크팩터     2.140346\n",
      "29    홈런파크팩터     2.339785\n",
      "30    장타파크팩터     1.228336\n",
      "31    국대출전횟수     2.855512\n",
      "32    원클럽맨여부     1.500502\n",
      "33     1번 타순    12.556107\n",
      "34     2번 타순     5.896727\n",
      "35     3번 타순    11.663500\n",
      "36     4번 타순     9.659175\n",
      "37     5번 타순     9.194924\n",
      "38     6번 타순     4.705371\n",
      "39     7번 타순     3.200440\n",
      "40     8번 타순     3.257671\n",
      "41     9번 타순     3.950936\n"
     ]
    },
    {
     "name": "stderr",
     "output_type": "stream",
     "text": [
      "C:\\ProgramData\\anaconda3\\Lib\\site-packages\\statsmodels\\regression\\linear_model.py:1783: RuntimeWarning: divide by zero encountered in scalar divide\n",
      "  return 1 - self.ssr/self.centered_tss\n",
      "C:\\ProgramData\\anaconda3\\Lib\\site-packages\\statsmodels\\stats\\outliers_influence.py:197: RuntimeWarning: divide by zero encountered in scalar divide\n",
      "  vif = 1. / (1. - r_squared_i)\n"
     ]
    }
   ],
   "source": [
    "X = df.select_dtypes(include=['float64', 'int64'])\n",
    "\n",
    "X = add_constant(X)\n",
    "\n",
    "vif = pd.DataFrame()\n",
    "vif['Feature'] = X.columns\n",
    "vif['VIF'] = [variance_inflation_factor(X.values, i) for i in range(X.shape[1])]\n",
    "\n",
    "print(vif)"
   ]
  },
  {
   "cell_type": "raw",
   "id": "0fc88b98-f525-478f-ae3d-f777a1061aee",
   "metadata": {},
   "source": [
    "# 다중공선성이 5 밑으로 떨어질 때 까지 하나씩 빼본다. \n",
    "# 컬럼 ('나이','2루타', '3루타', '사구', '홈런', '도루성공', '도루실패', '삼진', '병살타', '희생플라이',\n",
    "'연봉', 'FA 계약 연수', 'FA 계약 총액','출루율', '득점파크팩터', '홈런파크팩터', '장타파크팩터', '국대출전횟수', '원클럽맨여부', '2번 타순',\n",
    "'3번 타순', '4번 타순', '5번 타순', '6번 타순', '7번 타순', '8번 타순', '9번 타순')"
   ]
  },
  {
   "cell_type": "code",
   "execution_count": 129,
   "id": "e71100eb-10d9-45ff-ae00-de6a577901b9",
   "metadata": {},
   "outputs": [
    {
     "name": "stdout",
     "output_type": "stream",
     "text": [
      "     Feature          VIF\n",
      "0      const  1787.334831\n",
      "1         나이     1.929499\n",
      "2        2루타     3.985833\n",
      "3        3루타     1.867223\n",
      "4         사구     1.783031\n",
      "5         홈런     4.473046\n",
      "6       도루성공     3.722167\n",
      "7       도루실패     3.097207\n",
      "8         삼진     2.967761\n",
      "9        병살타     2.208393\n",
      "10     희생플라이     2.033707\n",
      "11        연봉     2.832436\n",
      "12  FA 계약 연수     3.890416\n",
      "13  FA 계약 총액     3.965814\n",
      "14       출루율     2.296091\n",
      "15    득점파크팩터     1.941601\n",
      "16    홈런파크팩터     2.061664\n",
      "17    장타파크팩터     1.152113\n",
      "18    국대출전횟수     2.175291\n",
      "19    원클럽맨여부     1.217569\n",
      "20     2번 타순     1.732726\n",
      "21     3번 타순     2.954231\n",
      "22     4번 타순     3.165372\n",
      "23     5번 타순     3.120597\n",
      "24     6번 타순     1.815136\n",
      "25     7번 타순     1.525840\n",
      "26     8번 타순     1.614951\n",
      "27     9번 타순     1.495742\n"
     ]
    }
   ],
   "source": [
    "X = df[['나이','2루타', '3루타', '사구', '홈런', '도루성공', '도루실패', '삼진', '병살타', '희생플라이',\n",
    "'연봉', 'FA 계약 연수', 'FA 계약 총액','출루율', '득점파크팩터', '홈런파크팩터', '장타파크팩터', '국대출전횟수', '원클럽맨여부', '2번 타순',\n",
    "'3번 타순', '4번 타순', '5번 타순', '6번 타순', '7번 타순', '8번 타순', '9번 타순']]\n",
    "\n",
    "X = add_constant(X)\n",
    "\n",
    "vif = pd.DataFrame()\n",
    "vif['Feature'] = X.columns\n",
    "vif['VIF'] = [variance_inflation_factor(X.values, i) for i in range(X.shape[1])]\n",
    "\n",
    "print(vif)"
   ]
  },
  {
   "cell_type": "code",
   "execution_count": null,
   "id": "90291edc-4c69-4b64-8fe0-4b52c8d477fc",
   "metadata": {},
   "outputs": [],
   "source": []
  }
 ],
 "metadata": {
  "kernelspec": {
   "display_name": "Python [conda env:base] *",
   "language": "python",
   "name": "conda-base-py"
  },
  "language_info": {
   "codemirror_mode": {
    "name": "ipython",
    "version": 3
   },
   "file_extension": ".py",
   "mimetype": "text/x-python",
   "name": "python",
   "nbconvert_exporter": "python",
   "pygments_lexer": "ipython3",
   "version": "3.12.7"
  }
 },
 "nbformat": 4,
 "nbformat_minor": 5
}
