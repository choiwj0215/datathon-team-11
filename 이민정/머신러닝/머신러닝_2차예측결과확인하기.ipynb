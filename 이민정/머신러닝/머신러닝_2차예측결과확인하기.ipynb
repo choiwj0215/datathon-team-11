{
 "cells": [
  {
   "cell_type": "code",
   "execution_count": 4,
   "id": "d3e9b17f-8ca3-47a2-a3bc-47e24807dafb",
   "metadata": {},
   "outputs": [],
   "source": [
    "import pandas as pd\n",
    "import numpy as np"
   ]
  },
  {
   "cell_type": "code",
   "execution_count": 6,
   "id": "ac03cc37-6bde-4422-bbe9-f449389a03b5",
   "metadata": {},
   "outputs": [],
   "source": [
    "df = pd.read_csv(\"model/regression_prediction_2016_hardvoting.csv\")"
   ]
  },
  {
   "cell_type": "code",
   "execution_count": 31,
   "id": "76f5ccac-31ef-47d8-beb1-af3b535ee6be",
   "metadata": {},
   "outputs": [],
   "source": [
    "df1 = pd.read_csv(\"model/regression_prediction_2024_lgbm.csv\")"
   ]
  },
  {
   "cell_type": "code",
   "execution_count": 10,
   "id": "34662343-0bf8-491f-934e-ea690a81c329",
   "metadata": {},
   "outputs": [],
   "source": [
    "a1 = pd.read_csv('2026_FA예정_타자.csv')"
   ]
  },
  {
   "cell_type": "code",
   "execution_count": 12,
   "id": "11c2ab33-4507-4a6b-a4e8-6123eb4f9e1d",
   "metadata": {},
   "outputs": [],
   "source": [
    "a1 = a1['선수명']"
   ]
  },
  {
   "cell_type": "code",
   "execution_count": 14,
   "id": "5fc79635-f61b-416c-99b9-8db251c6d1e8",
   "metadata": {},
   "outputs": [],
   "source": [
    "df = pd.concat([df,a1], axis = 1)"
   ]
  },
  {
   "cell_type": "code",
   "execution_count": 33,
   "id": "4551d686-2ca8-443a-939c-066aee53e1d0",
   "metadata": {},
   "outputs": [],
   "source": [
    "df1 = pd.concat([df1,a1], axis = 1)"
   ]
  },
  {
   "cell_type": "code",
   "execution_count": 35,
   "id": "0add0a6e-700b-48bc-98b7-7329bd612ebf",
   "metadata": {},
   "outputs": [],
   "source": [
    "pd.options.display.float_format = '{:,.0f}'.format\n",
    "# print(df1['1년당 계약 총액'])"
   ]
  },
  {
   "cell_type": "code",
   "execution_count": 22,
   "id": "52df3891-3787-4e63-bc25-15315963a7ae",
   "metadata": {},
   "outputs": [
    {
     "name": "stdout",
     "output_type": "stream",
     "text": [
      "    선수명  1년당 계약 총액\n",
      "0   강민호    209,829\n",
      "1   강백호    134,779\n",
      "2   김재환    160,926\n",
      "3   박병호    181,338\n",
      "4   박승욱     90,955\n",
      "5   박찬호    134,125\n",
      "6   박해민    148,135\n",
      "7   손아섭    185,213\n",
      "8   이재원     84,963\n",
      "9   장성우    135,306\n",
      "10   정훈    103,826\n",
      "11  조수행    101,509\n",
      "12  최원준    150,343\n",
      "13  최형우    152,866\n",
      "14  황재균    178,915\n"
     ]
    }
   ],
   "source": [
    "# ~2016년 단순평균 \n",
    "player_fa_avg = df.groupby('선수명')['1년당 계약 총액'].mean().reset_index()\n",
    "\n",
    "print(player_fa_avg)"
   ]
  },
  {
   "cell_type": "code",
   "execution_count": 24,
   "id": "f03462f1-7976-4fa3-843f-47d296f562d4",
   "metadata": {},
   "outputs": [
    {
     "name": "stdout",
     "output_type": "stream",
     "text": [
      "    선수명  가중평균 1년당 계약 총액\n",
      "0   강민호         209,530\n",
      "1   강백호         136,707\n",
      "2   김재환         157,778\n",
      "3   박병호         180,980\n",
      "4   박승욱          91,537\n",
      "5   박찬호         134,475\n",
      "6   박해민         144,227\n",
      "7   손아섭         180,436\n",
      "8   이재원          81,723\n",
      "9   장성우         134,839\n",
      "10   정훈         100,803\n",
      "11  조수행         102,104\n",
      "12  최원준         143,703\n",
      "13  최형우         154,531\n",
      "14  황재균         178,876\n"
     ]
    },
    {
     "name": "stderr",
     "output_type": "stream",
     "text": [
      "C:\\Users\\이민정\\AppData\\Local\\Temp\\ipykernel_16476\\962039894.py:14: DeprecationWarning: DataFrameGroupBy.apply operated on the grouping columns. This behavior is deprecated, and in a future version of pandas the grouping columns will be excluded from the operation. Either pass `include_groups=False` to exclude the groupings or explicitly select the grouping columns after groupby to silence this warning.\n",
      "  df.groupby('선수명').apply(\n"
     ]
    }
   ],
   "source": [
    "# ~2016 년도별 가중치 평균\n",
    "latest_year = df.groupby('선수명')['플레이년도'].transform('max')\n",
    "\n",
    "# 최신 연도 대비 몇 년 전인지 계산\n",
    "df['연도차'] = latest_year - df['플레이년도'] + 1\n",
    "\n",
    "# 가중치 딕셔너리\n",
    "weights = {1: 0.4, 2: 0.4, 3: 0.3, 4: 0.2, 5:0.1}  # 최신 연도일수록 가중치 높음\n",
    "\n",
    "df['가중치'] = df['연도차'].map(weights)\n",
    "\n",
    "# 가중평균 FA 계약 총액 계산\n",
    "player_fa_weighted_avg = (\n",
    "    df.groupby('선수명').apply(\n",
    "        lambda x: np.average(x['1년당 계약 총액'], weights=x['가중치'])\n",
    "    ).reset_index(name='가중평균 1년당 계약 총액')\n",
    ")\n",
    "\n",
    "print(player_fa_weighted_avg)"
   ]
  },
  {
   "cell_type": "code",
   "execution_count": 37,
   "id": "df5622d2-b97e-462c-96e8-e0daca1e8cb9",
   "metadata": {},
   "outputs": [
    {
     "name": "stdout",
     "output_type": "stream",
     "text": [
      "    선수명  1년당 계약 총액\n",
      "0   강민호    106,166\n",
      "1   강백호    151,665\n",
      "2   김재환    135,347\n",
      "3   박병호    112,318\n",
      "4   박승욱     48,025\n",
      "5   박찬호     91,553\n",
      "6   박해민    113,663\n",
      "7   손아섭     93,620\n",
      "8   이재원     73,924\n",
      "9   장성우    129,738\n",
      "10   정훈     15,674\n",
      "11  조수행     56,480\n",
      "12  최원준    114,879\n",
      "13  최형우    102,513\n",
      "14  황재균     93,090\n"
     ]
    }
   ],
   "source": [
    "# 2017년~ 단순평균 \n",
    "player_fa_avg = df1.groupby('선수명')['1년당 계약 총액'].mean().reset_index()\n",
    "\n",
    "print(player_fa_avg)"
   ]
  },
  {
   "cell_type": "code",
   "execution_count": 39,
   "id": "9eb3ba86-4346-4f33-b054-9e785bb0b778",
   "metadata": {},
   "outputs": [
    {
     "name": "stdout",
     "output_type": "stream",
     "text": [
      "    선수명  가중평균 1년당 계약 총액\n",
      "0   강민호         106,225\n",
      "1   강백호         156,857\n",
      "2   김재환         132,088\n",
      "3   박병호         106,048\n",
      "4   박승욱          48,403\n",
      "5   박찬호          91,629\n",
      "6   박해민         109,736\n",
      "7   손아섭          91,665\n",
      "8   이재원          71,382\n",
      "9   장성우         124,440\n",
      "10   정훈          11,092\n",
      "11  조수행          53,135\n",
      "12  최원준         110,484\n",
      "13  최형우         102,486\n",
      "14  황재균          92,391\n"
     ]
    },
    {
     "name": "stderr",
     "output_type": "stream",
     "text": [
      "C:\\Users\\이민정\\AppData\\Local\\Temp\\ipykernel_16476\\2614044802.py:14: DeprecationWarning: DataFrameGroupBy.apply operated on the grouping columns. This behavior is deprecated, and in a future version of pandas the grouping columns will be excluded from the operation. Either pass `include_groups=False` to exclude the groupings or explicitly select the grouping columns after groupby to silence this warning.\n",
      "  df1.groupby('선수명').apply(\n"
     ]
    }
   ],
   "source": [
    "# 2017년~ 년도별 가중치 평균\n",
    "latest_year = df1.groupby('선수명')['플레이년도'].transform('max')\n",
    "\n",
    "# 최신 연도 대비 몇 년 전인지 계산\n",
    "df1['연도차'] = latest_year - df1['플레이년도'] + 1\n",
    "\n",
    "# 가중치 딕셔너리\n",
    "weights = {1: 0.4, 2: 0.4, 3: 0.3, 4: 0.2, 5:0.1}  # 최신 연도일수록 가중치 높음\n",
    "\n",
    "df1['가중치'] = df1['연도차'].map(weights)\n",
    "\n",
    "# 가중평균 FA 계약 총액 계산\n",
    "player_fa_weighted_avg = (\n",
    "    df1.groupby('선수명').apply(\n",
    "        lambda x: np.average(x['1년당 계약 총액'], weights=x['가중치'])\n",
    "    ).reset_index(name='가중평균 1년당 계약 총액')\n",
    ")\n",
    "\n",
    "print(player_fa_weighted_avg)"
   ]
  },
  {
   "cell_type": "code",
   "execution_count": null,
   "id": "c3d1d85f-95b1-484c-ae3c-fd20a8cde1f7",
   "metadata": {},
   "outputs": [],
   "source": []
  },
  {
   "cell_type": "code",
   "execution_count": null,
   "id": "de480a46-c050-4ad4-bdb5-e4919b036882",
   "metadata": {},
   "outputs": [],
   "source": []
  }
 ],
 "metadata": {
  "kernelspec": {
   "display_name": "Python [conda env:base] *",
   "language": "python",
   "name": "conda-base-py"
  },
  "language_info": {
   "codemirror_mode": {
    "name": "ipython",
    "version": 3
   },
   "file_extension": ".py",
   "mimetype": "text/x-python",
   "name": "python",
   "nbconvert_exporter": "python",
   "pygments_lexer": "ipython3",
   "version": "3.12.7"
  }
 },
 "nbformat": 4,
 "nbformat_minor": 5
}
