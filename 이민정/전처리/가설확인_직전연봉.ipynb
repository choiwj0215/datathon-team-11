{
 "cells": [
  {
   "cell_type": "code",
   "execution_count": 11,
   "id": "f50afdba-a7a4-4540-a27d-df0a9271f767",
   "metadata": {},
   "outputs": [],
   "source": [
    "import pandas as pd\n",
    "import statsmodels.api as sm\n",
    "import matplotlib.pyplot as plt\n",
    "from matplotlib import rc\n",
    "import platform\n",
    "\n",
    "import warnings\n",
    "warnings.simplefilter(action='ignore', category=pd.errors.SettingWithCopyWarning)\n",
    "\n",
    "# 한글 폰트 설정\n",
    "plt.rc('font', family='Malgun Gothic')\n",
    "\n",
    "# 마이너스 깨짐 방지\n",
    "plt.rcParams['axes.unicode_minus'] = False"
   ]
  },
  {
   "cell_type": "code",
   "execution_count": 4,
   "id": "90167777-641a-4c64-b24b-3d205e838d96",
   "metadata": {},
   "outputs": [],
   "source": [
    "df = pd.read_csv('야수_직전1년.csv')"
   ]
  },
  {
   "cell_type": "markdown",
   "id": "f1cb6df3-e52d-4ef5-8815-880e275adfa7",
   "metadata": {},
   "source": [
    "### 가설리스트 8 직전해 받는 연봉과 계약 총액의 관련성"
   ]
  },
  {
   "cell_type": "code",
   "execution_count": 16,
   "id": "604ab3ec-9505-4d82-9c1b-f348c9b17de7",
   "metadata": {},
   "outputs": [
    {
     "data": {
      "text/plain": [
       "Index(['년도', '선수명', '계약기간', '총액', '구단명', '포지션', '투', '타', '구분', 'FA등급',\n",
       "       '플레이년도', '나이', '게임수', '타석수', '타수', '득점', '안타', '2루타', '3루타', '사구', '홈런',\n",
       "       '타점', '도루성공', '도루실패', '볼넷', '삼진', '병살타', '희생플라이', '공격WAR', '연봉', '비고',\n",
       "       '잔류 여부', 'wRC+', '장타율', '출루율', 'OPS', '득점파크팩터', '홈런파크팩터', '장타파크팩터',\n",
       "       '구단지역', '국대출전횟수', '원클럽맨여부'],\n",
       "      dtype='object')"
      ]
     },
     "execution_count": 16,
     "metadata": {},
     "output_type": "execute_result"
    }
   ],
   "source": [
    "df.columns"
   ]
  },
  {
   "cell_type": "code",
   "execution_count": 16,
   "id": "f991c5eb-957d-4f3f-9cb2-fbff133dd764",
   "metadata": {},
   "outputs": [],
   "source": [
    "df = df.dropna()"
   ]
  },
  {
   "cell_type": "code",
   "execution_count": 18,
   "id": "c66ed37a-9c17-4674-af86-e46b4078ff81",
   "metadata": {},
   "outputs": [
    {
     "data": {
      "text/html": [
       "<div>\n",
       "<style scoped>\n",
       "    .dataframe tbody tr th:only-of-type {\n",
       "        vertical-align: middle;\n",
       "    }\n",
       "\n",
       "    .dataframe tbody tr th {\n",
       "        vertical-align: top;\n",
       "    }\n",
       "\n",
       "    .dataframe thead th {\n",
       "        text-align: right;\n",
       "    }\n",
       "</style>\n",
       "<table border=\"1\" class=\"dataframe\">\n",
       "  <thead>\n",
       "    <tr style=\"text-align: right;\">\n",
       "      <th></th>\n",
       "      <th>연봉</th>\n",
       "      <th>총액</th>\n",
       "    </tr>\n",
       "  </thead>\n",
       "  <tbody>\n",
       "    <tr>\n",
       "      <th>연봉</th>\n",
       "      <td>1.000000</td>\n",
       "      <td>0.420338</td>\n",
       "    </tr>\n",
       "    <tr>\n",
       "      <th>총액</th>\n",
       "      <td>0.420338</td>\n",
       "      <td>1.000000</td>\n",
       "    </tr>\n",
       "  </tbody>\n",
       "</table>\n",
       "</div>"
      ],
      "text/plain": [
       "          연봉        총액\n",
       "연봉  1.000000  0.420338\n",
       "총액  0.420338  1.000000"
      ]
     },
     "execution_count": 18,
     "metadata": {},
     "output_type": "execute_result"
    }
   ],
   "source": [
    "df[['연봉', '총액']].corr(method='pearson')"
   ]
  },
  {
   "cell_type": "code",
   "execution_count": 20,
   "id": "49adaca0-f37b-424c-9ea9-5b0b8b043b32",
   "metadata": {},
   "outputs": [
    {
     "name": "stdout",
     "output_type": "stream",
     "text": [
      "                            OLS Regression Results                            \n",
      "==============================================================================\n",
      "Dep. Variable:                     총액   R-squared:                       0.177\n",
      "Model:                            OLS   Adj. R-squared:                  0.170\n",
      "Method:                 Least Squares   F-statistic:                     26.83\n",
      "Date:                Tue, 29 Jul 2025   Prob (F-statistic):           8.65e-07\n",
      "Time:                        15:38:09   Log-Likelihood:                -616.66\n",
      "No. Observations:                 127   AIC:                             1237.\n",
      "Df Residuals:                     125   BIC:                             1243.\n",
      "Df Model:                           1                                         \n",
      "Covariance Type:            nonrobust                                         \n",
      "==============================================================================\n",
      "                 coef    std err          t      P>|t|      [0.025      0.975]\n",
      "------------------------------------------------------------------------------\n",
      "const         21.5695      4.237      5.090      0.000      13.183      29.955\n",
      "연봉             0.0004   7.96e-05      5.179      0.000       0.000       0.001\n",
      "==============================================================================\n",
      "Omnibus:                       21.212   Durbin-Watson:                   1.430\n",
      "Prob(Omnibus):                  0.000   Jarque-Bera (JB):               29.375\n",
      "Skew:                           0.877   Prob(JB):                     4.18e-07\n",
      "Kurtosis:                       4.574   Cond. No.                     8.11e+04\n",
      "==============================================================================\n",
      "\n",
      "Notes:\n",
      "[1] Standard Errors assume that the covariance matrix of the errors is correctly specified.\n",
      "[2] The condition number is large, 8.11e+04. This might indicate that there are\n",
      "strong multicollinearity or other numerical problems.\n"
     ]
    }
   ],
   "source": [
    "X = df[['연봉']]\n",
    "X = sm.add_constant(X)\n",
    "y = df['총액']\n",
    "\n",
    "model = sm.OLS(y, X).fit()\n",
    "print(model.summary())"
   ]
  },
  {
   "cell_type": "code",
   "execution_count": null,
   "id": "c176c2de-7279-433e-9237-01ddec223ff9",
   "metadata": {},
   "outputs": [],
   "source": []
  },
  {
   "cell_type": "code",
   "execution_count": null,
   "id": "e73a5146-4638-4de4-bed5-67375a3f3d86",
   "metadata": {},
   "outputs": [],
   "source": []
  },
  {
   "cell_type": "code",
   "execution_count": null,
   "id": "94c7b66d-6f4c-4f2d-a9b7-623648437bfc",
   "metadata": {},
   "outputs": [],
   "source": []
  }
 ],
 "metadata": {
  "kernelspec": {
   "display_name": "Python [conda env:base] *",
   "language": "python",
   "name": "conda-base-py"
  },
  "language_info": {
   "codemirror_mode": {
    "name": "ipython",
    "version": 3
   },
   "file_extension": ".py",
   "mimetype": "text/x-python",
   "name": "python",
   "nbconvert_exporter": "python",
   "pygments_lexer": "ipython3",
   "version": "3.12.7"
  }
 },
 "nbformat": 4,
 "nbformat_minor": 5
}
