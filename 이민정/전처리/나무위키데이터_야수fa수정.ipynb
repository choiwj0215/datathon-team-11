{
 "cells": [
  {
   "cell_type": "code",
   "execution_count": 21,
   "id": "a8ce645a-880a-4efd-a983-6129cb6abd8f",
   "metadata": {},
   "outputs": [],
   "source": [
    "import pandas as pd\n",
    "pd.set_option('display.max_columns', None)"
   ]
  },
  {
   "cell_type": "code",
   "execution_count": 23,
   "id": "6f3e51f6-20b0-44a0-99eb-fd0371639941",
   "metadata": {},
   "outputs": [
    {
     "name": "stderr",
     "output_type": "stream",
     "text": [
      "<>:2: SyntaxWarning: invalid escape sequence '\\D'\n",
      "<>:2: SyntaxWarning: invalid escape sequence '\\D'\n",
      "C:\\Users\\이민정\\AppData\\Local\\Temp\\ipykernel_23040\\2469702028.py:2: SyntaxWarning: invalid escape sequence '\\D'\n",
      "  df1 = pd.read_excel(\"C:/Users/이민정\\Desktop/FA_계약_정보_전체_2013_2025.xlsx\")\n"
     ]
    },
    {
     "data": {
      "text/html": [
       "<div>\n",
       "<style scoped>\n",
       "    .dataframe tbody tr th:only-of-type {\n",
       "        vertical-align: middle;\n",
       "    }\n",
       "\n",
       "    .dataframe tbody tr th {\n",
       "        vertical-align: top;\n",
       "    }\n",
       "\n",
       "    .dataframe thead th {\n",
       "        text-align: right;\n",
       "    }\n",
       "</style>\n",
       "<table border=\"1\" class=\"dataframe\">\n",
       "  <thead>\n",
       "    <tr style=\"text-align: right;\">\n",
       "      <th></th>\n",
       "      <th>년도</th>\n",
       "      <th>선수명</th>\n",
       "      <th>원소속팀</th>\n",
       "      <th>이적팀</th>\n",
       "      <th>계약기간</th>\n",
       "      <th>총액</th>\n",
       "      <th>옵션</th>\n",
       "      <th>보상선수</th>\n",
       "    </tr>\n",
       "  </thead>\n",
       "  <tbody>\n",
       "    <tr>\n",
       "      <th>0</th>\n",
       "      <td>2013</td>\n",
       "      <td>정성훈</td>\n",
       "      <td>LG</td>\n",
       "      <td>LG</td>\n",
       "      <td>4년</td>\n",
       "      <td>34억</td>\n",
       "      <td>-</td>\n",
       "      <td>-</td>\n",
       "    </tr>\n",
       "    <tr>\n",
       "      <th>1</th>\n",
       "      <td>2013</td>\n",
       "      <td>이진영</td>\n",
       "      <td>LG</td>\n",
       "      <td>LG</td>\n",
       "      <td>4년</td>\n",
       "      <td>34억</td>\n",
       "      <td>-</td>\n",
       "      <td>-</td>\n",
       "    </tr>\n",
       "    <tr>\n",
       "      <th>2</th>\n",
       "      <td>2013</td>\n",
       "      <td>김원섭</td>\n",
       "      <td>KIA</td>\n",
       "      <td>KIA</td>\n",
       "      <td>3년</td>\n",
       "      <td>14억</td>\n",
       "      <td>-</td>\n",
       "      <td>-</td>\n",
       "    </tr>\n",
       "    <tr>\n",
       "      <th>3</th>\n",
       "      <td>2014</td>\n",
       "      <td>박한이</td>\n",
       "      <td>삼성</td>\n",
       "      <td>삼성</td>\n",
       "      <td>4년</td>\n",
       "      <td>28억</td>\n",
       "      <td>-</td>\n",
       "      <td>-</td>\n",
       "    </tr>\n",
       "    <tr>\n",
       "      <th>4</th>\n",
       "      <td>2014</td>\n",
       "      <td>이병규</td>\n",
       "      <td>LG</td>\n",
       "      <td>LG</td>\n",
       "      <td>3년</td>\n",
       "      <td>25.5억</td>\n",
       "      <td>-</td>\n",
       "      <td>-</td>\n",
       "    </tr>\n",
       "    <tr>\n",
       "      <th>...</th>\n",
       "      <td>...</td>\n",
       "      <td>...</td>\n",
       "      <td>...</td>\n",
       "      <td>...</td>\n",
       "      <td>...</td>\n",
       "      <td>...</td>\n",
       "      <td>...</td>\n",
       "      <td>...</td>\n",
       "    </tr>\n",
       "    <tr>\n",
       "      <th>128</th>\n",
       "      <td>2023</td>\n",
       "      <td>노진혁</td>\n",
       "      <td>NC</td>\n",
       "      <td>롯데</td>\n",
       "      <td>4년</td>\n",
       "      <td>50억</td>\n",
       "      <td>4억</td>\n",
       "      <td>안중열</td>\n",
       "    </tr>\n",
       "    <tr>\n",
       "      <th>129</th>\n",
       "      <td>2023</td>\n",
       "      <td>박세혁</td>\n",
       "      <td>두산</td>\n",
       "      <td>NC</td>\n",
       "      <td>4년</td>\n",
       "      <td>46억</td>\n",
       "      <td>4억</td>\n",
       "      <td>박준영</td>\n",
       "    </tr>\n",
       "    <tr>\n",
       "      <th>130</th>\n",
       "      <td>2023</td>\n",
       "      <td>김상수</td>\n",
       "      <td>삼성</td>\n",
       "      <td>KT</td>\n",
       "      <td>4년</td>\n",
       "      <td>29억</td>\n",
       "      <td>6억</td>\n",
       "      <td>김태훈</td>\n",
       "    </tr>\n",
       "    <tr>\n",
       "      <th>131</th>\n",
       "      <td>2023</td>\n",
       "      <td>오선진</td>\n",
       "      <td>삼성</td>\n",
       "      <td>한화</td>\n",
       "      <td>2년</td>\n",
       "      <td>4억</td>\n",
       "      <td>2500만</td>\n",
       "      <td>현금 보상[C]</td>\n",
       "    </tr>\n",
       "    <tr>\n",
       "      <th>132</th>\n",
       "      <td>2024</td>\n",
       "      <td>안치홍</td>\n",
       "      <td>롯데</td>\n",
       "      <td>한화</td>\n",
       "      <td>6년</td>\n",
       "      <td>72억</td>\n",
       "      <td>25억</td>\n",
       "      <td>현금 보상</td>\n",
       "    </tr>\n",
       "  </tbody>\n",
       "</table>\n",
       "<p>133 rows × 8 columns</p>\n",
       "</div>"
      ],
      "text/plain": [
       "       년도  선수명 원소속팀  이적팀 계약기간     총액     옵션      보상선수\n",
       "0    2013  정성훈   LG   LG   4년    34억      -         -\n",
       "1    2013  이진영   LG   LG   4년    34억      -         -\n",
       "2    2013  김원섭  KIA  KIA   3년    14억      -         -\n",
       "3    2014  박한이   삼성   삼성   4년    28억      -         -\n",
       "4    2014  이병규   LG   LG   3년  25.5억      -         -\n",
       "..    ...  ...  ...  ...  ...    ...    ...       ...\n",
       "128  2023  노진혁   NC   롯데   4년    50억     4억       안중열\n",
       "129  2023  박세혁   두산   NC   4년    46억     4억       박준영\n",
       "130  2023  김상수   삼성   KT   4년    29억     6억       김태훈\n",
       "131  2023  오선진   삼성   한화   2년     4억  2500만  현금 보상[C]\n",
       "132  2024  안치홍   롯데   한화   6년    72억    25억     현금 보상\n",
       "\n",
       "[133 rows x 8 columns]"
      ]
     },
     "execution_count": 23,
     "metadata": {},
     "output_type": "execute_result"
    }
   ],
   "source": [
    "df = pd.read_csv(\"FA_야수데이터.csv\")\n",
    "df1 = pd.read_excel(\"C:/Users/이민정\\Desktop/FA_계약_정보_전체_2013_2025.xlsx\")\n",
    "df1"
   ]
  },
  {
   "cell_type": "code",
   "execution_count": 25,
   "id": "cd8ea702-8136-4ff0-b999-7c012f58748d",
   "metadata": {},
   "outputs": [
    {
     "name": "stdout",
     "output_type": "stream",
     "text": [
      "df에는 있고 df1에는 없는 선수명:\n",
      "['용덕한' '이병규(9)' '이우민']\n",
      "\n",
      "df1에는 있고 df에는 없는 선수명:\n",
      "['이병규']\n"
     ]
    }
   ],
   "source": [
    "선수명_차이_1 = df[~df['선수명'].isin(df1['선수명'])]['선수명'].unique()\n",
    "\n",
    "# df1에는 있고 df에는 없는 선수명 목록\n",
    "선수명_차이_2 = df1[~df1['선수명'].isin(df['선수명'])]['선수명'].unique()\n",
    "\n",
    "# 출력\n",
    "print(\"df에는 있고 df1에는 없는 선수명:\")\n",
    "print(선수명_차이_1)\n",
    "\n",
    "print(\"\\ndf1에는 있고 df에는 없는 선수명:\")\n",
    "print(선수명_차이_2)"
   ]
  },
  {
   "cell_type": "code",
   "execution_count": 27,
   "id": "76e1f77a-7f2c-4b32-b42b-9e53adf4f3b5",
   "metadata": {},
   "outputs": [],
   "source": [
    "df['선수명'] = df['선수명'].str.replace(r\"\\(.*\\)\", \"\", regex=True).str.strip()"
   ]
  },
  {
   "cell_type": "code",
   "execution_count": 29,
   "id": "f79fb858-037c-4a68-9ac4-45fae157e6fd",
   "metadata": {},
   "outputs": [],
   "source": [
    "merged_df = df1.merge(df, left_on=['선수명', '년도'], right_on=['선수명', 'FA년도'], how='left')"
   ]
  },
  {
   "cell_type": "code",
   "execution_count": 31,
   "id": "40304191-0bdd-4849-8baf-55153f4d0ece",
   "metadata": {},
   "outputs": [
    {
     "data": {
      "text/plain": [
       "Index(['년도', '선수명', '원소속팀', '이적팀', '계약기간', '총액', '옵션', '보상선수', 'FA년도', '구단명',\n",
       "       '포지션', '투', '타', '인정년수', '구분', 'FA등급', '플레이년도', '나이', '게임수', '타석수',\n",
       "       '타수', '득점', '안타', '2루타', '3루타', '사구', '홈런', '타점', '도루성공', '도루실패', '볼넷',\n",
       "       '삼진', '병살타', '희생플라이', '평균대비수비득점기여', '수비_포지션 RAA', '전체수비 RAA', '공격WAR',\n",
       "       '수비WAR', '연봉', '비고', '잔류 여부', 'FA 계약 연수', 'FA 계약 총액', 'wRC+',\n",
       "       '1년당_계약금액'],\n",
       "      dtype='object')"
      ]
     },
     "execution_count": 31,
     "metadata": {},
     "output_type": "execute_result"
    }
   ],
   "source": [
    "merged_df.columns"
   ]
  },
  {
   "cell_type": "code",
   "execution_count": 33,
   "id": "027af2b8-f833-4fc9-b6e3-df85d0f52c77",
   "metadata": {},
   "outputs": [],
   "source": [
    "result = merged_df.drop(['FA 계약 연수','FA 계약 총액','인정년수','원소속팀','FA년도'],axis=1)"
   ]
  },
  {
   "cell_type": "code",
   "execution_count": 37,
   "id": "4810e30f-55ae-4b70-b9db-721d0bf8651b",
   "metadata": {},
   "outputs": [],
   "source": [
    "result.reset_index()\n",
    "result.to_csv('FA_야수_수정데이터.csv', index= False)"
   ]
  },
  {
   "cell_type": "code",
   "execution_count": null,
   "id": "3958141b-48c7-4169-b15d-968ca55c2b6f",
   "metadata": {},
   "outputs": [],
   "source": []
  },
  {
   "cell_type": "code",
   "execution_count": null,
   "id": "314ae91b-9f14-4eee-b006-f599241f1125",
   "metadata": {},
   "outputs": [],
   "source": []
  }
 ],
 "metadata": {
  "kernelspec": {
   "display_name": "Python [conda env:base] *",
   "language": "python",
   "name": "conda-base-py"
  },
  "language_info": {
   "codemirror_mode": {
    "name": "ipython",
    "version": 3
   },
   "file_extension": ".py",
   "mimetype": "text/x-python",
   "name": "python",
   "nbconvert_exporter": "python",
   "pygments_lexer": "ipython3",
   "version": "3.12.7"
  }
 },
 "nbformat": 4,
 "nbformat_minor": 5
}
