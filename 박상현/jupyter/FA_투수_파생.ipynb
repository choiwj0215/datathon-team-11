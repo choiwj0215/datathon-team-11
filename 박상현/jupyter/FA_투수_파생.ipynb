{
 "cells": [
  {
   "cell_type": "code",
   "execution_count": 1,
   "id": "ae504344-dfa6-4c73-8bc3-991d3a68d5c3",
   "metadata": {},
   "outputs": [],
   "source": [
    "import pandas as pd\n",
    "import numpy as np\n",
    "import matplotlib.pyplot as plt\n",
    "import seaborn as sns\n",
    "\n",
    "import gc\n",
    "import glob\n",
    "\n",
    "# 그래프 기본 테마 설정\n",
    "# https://coldbrown.co.kr/2023/07/%ED%8C%8C%EC%9D%B4%EC%8D%AC-%EC%8B%A4%EC%A0%84%ED%8E%B8-08-seaborn-sns-set%EC%9D%84-%ED%86%B5%ED%95%B4-%EC%8A%A4%ED%83%80%EC%9D%BC-%EC%84%A4%EC%A0%95%ED%95%98%EA%B8%B0/\n",
    "sns.set()\n",
    "\n",
    "# 그래프 기본 설정\n",
    "plt.rcParams['font.family'] = 'Malgun Gothic'\n",
    "# plt.rcParams['font.family'] = 'AppleGothic'\n",
    "plt.rcParams['figure.figsize'] = 12, 6\n",
    "plt.rcParams['font.size'] = 14\n",
    "plt.rcParams['axes.unicode_minus'] = False\n",
    "\n",
    "\n",
    "# 복잡한 통계 처리를 위한 라이브러리\n",
    "from scipy import stats"
   ]
  },
  {
   "cell_type": "code",
   "execution_count": 2,
   "id": "a96cb73b-98aa-40ec-8282-72a26022b358",
   "metadata": {},
   "outputs": [],
   "source": [
    "# data_type = \"train\"\n",
    "# month = \"07\"\n",
    "# category = \"잔액정보\"\n",
    "\n",
    "# local\n",
    "root_path = '../../data'\n",
    "\n",
    "# colab\n",
    "# root_path = '/content/drive/MyDrive/12조 파이널프로젝트/data'\n",
    "\n",
    "#drive_folder = f'{root_path}/스탯티즈_Raw_data/'"
   ]
  },
  {
   "cell_type": "code",
   "execution_count": 3,
   "id": "68ef507c-cd97-4e34-92e9-fada6e0e713b",
   "metadata": {},
   "outputs": [],
   "source": [
    "df1 = pd.read_csv(f'{root_path}/KBO FA 투수 [2013-2024]_최종_전처리.csv', encoding='utf-8')"
   ]
  },
  {
   "cell_type": "markdown",
   "id": "1b534dfa-74c5-4033-bb76-3ee7b2e2cc72",
   "metadata": {},
   "source": [
    "## '피장타율' 파생 컬럼\n",
    "- 선수명, 플레이년도만 엑셀파일로 저장\n",
    "- 수기로 피장타율 입력\n",
    "- 다시 가져와서 선수명, 플레이년도로 merge"
   ]
  },
  {
   "cell_type": "code",
   "execution_count": 5,
   "id": "d861d7ab-2bb4-47fd-9318-c1a322a0b717",
   "metadata": {},
   "outputs": [],
   "source": [
    "# template_df = df1[['선수명', '플레이년도']].drop_duplicates().sort_values(['선수명', '플레이년도'])\n",
    "# template_df['피장타율_입력'] = None  # 수기로 채울 컬럼 추가\n",
    "\n",
    "# template_df.to_excel(\"../../data/피장타율_입력템플릿.xlsx\", index=False)"
   ]
  },
  {
   "cell_type": "markdown",
   "id": "0fa10925-2ba1-4d86-b50d-30b030327f54",
   "metadata": {},
   "source": [
    "## '완투' / '완봉' 파생 컬럼"
   ]
  },
  {
   "cell_type": "code",
   "execution_count": 7,
   "id": "fff3bc0e-0913-42db-bdd6-6ad6ce31a112",
   "metadata": {},
   "outputs": [],
   "source": [
    "# template_df2 = df1[['선수명', '플레이년도']].drop_duplicates().sort_values(['선수명', '플레이년도'])\n",
    "# template_df2['완투_입력'] = None  # 수기로 채울 컬럼 추가\n",
    "# template_df2['완봉_입력'] = None  # 수기로 채울 컬럼 추가\n",
    "\n",
    "# template_df2.to_excel(\"../../data/완투완봉_입력템플릿.xlsx\", index=False)"
   ]
  },
  {
   "cell_type": "markdown",
   "id": "d4ef6ae2-1f41-4e9e-bc33-30a325b6c1ac",
   "metadata": {},
   "source": [
    "## '사사구' 파생 컬럼\n",
    "- 볼넷 + 사구"
   ]
  },
  {
   "cell_type": "code",
   "execution_count": 9,
   "id": "761a6574-f3a8-4e7c-ad55-6b2453702498",
   "metadata": {},
   "outputs": [],
   "source": [
    "df1['사사구'] = df1['볼넷허용'] + df1['사구허용']"
   ]
  },
  {
   "cell_type": "code",
   "execution_count": 10,
   "id": "7db1f1d5-5aa5-47ca-a76c-5fd093a47797",
   "metadata": {},
   "outputs": [
    {
     "data": {
      "text/plain": [
       "0      25.0\n",
       "1      24.0\n",
       "2      19.0\n",
       "3      21.0\n",
       "4      26.0\n",
       "       ... \n",
       "360    59.0\n",
       "361    47.0\n",
       "362    18.0\n",
       "363    33.0\n",
       "364    16.0\n",
       "Name: 사사구, Length: 365, dtype: float64"
      ]
     },
     "execution_count": 10,
     "metadata": {},
     "output_type": "execute_result"
    }
   ],
   "source": [
    "df1['사사구']"
   ]
  },
  {
   "cell_type": "markdown",
   "id": "3286a42d-524b-4b8a-8359-65b0afe69473",
   "metadata": {},
   "source": [
    "## '원클럽맨' 파생 컬럼\n",
    "- 같은 선수명이 한 구단에서만 활동한 경우"
   ]
  },
  {
   "cell_type": "code",
   "execution_count": 12,
   "id": "9d0699af-eb49-4960-a838-3f171191a462",
   "metadata": {},
   "outputs": [],
   "source": [
    "# # 선수명 기준으로 몇 개의 구단에서 뛰었는지 count\n",
    "# club_counts = df1.groupby('선수명')['구단명'].nunique()\n",
    "\n",
    "# # 원클럽맨 여부 판단: 구단 수가 1인 경우 True\n",
    "# df1['원클럽맨'] = df1['선수명'].map(lambda name: club_counts[name] == 1)"
   ]
  },
  {
   "cell_type": "code",
   "execution_count": 13,
   "id": "9e3b3d3c-2007-4759-ae68-a8174b8f1170",
   "metadata": {},
   "outputs": [],
   "source": [
    "# df1['원클럽맨'].value_counts()"
   ]
  },
  {
   "cell_type": "markdown",
   "id": "9811b8ea-d2c2-4130-9698-8935e85b68da",
   "metadata": {},
   "source": [
    "## '투구수' 파생 컬럼\n",
    "- 나중에 필요시, 이닝으로 나누면 '게임당 투구수'"
   ]
  },
  {
   "cell_type": "code",
   "execution_count": 15,
   "id": "0c013a25-b9b5-4aba-9948-85fdf20c3b01",
   "metadata": {},
   "outputs": [],
   "source": [
    "# template_df3 = df1[['선수명', '플레이년도']].drop_duplicates().sort_values(['선수명', '플레이년도'])\n",
    "# template_df3['투구수_입력'] = None  # 수기로 채울 컬럼 추가\n",
    "\n",
    "# template_df3.to_excel(\"../../data/투구수_입력템플릿.xlsx\", index=False)"
   ]
  },
  {
   "cell_type": "markdown",
   "id": "e61c722d-160a-468c-9ac9-2f2da1a351cb",
   "metadata": {},
   "source": [
    "## Merge"
   ]
  },
  {
   "cell_type": "code",
   "execution_count": 17,
   "id": "6500d1f2-8824-45db-af3d-b5c976349202",
   "metadata": {},
   "outputs": [],
   "source": [
    "# ✔ 완투완봉\n",
    "df_wan = pd.read_excel('../../data/완투완봉_입력템플릿.xlsx')\n",
    "df_wan = df_wan.rename(columns={\n",
    "    '완투_입력': '완투',\n",
    "    '완봉_입력': '완봉'\n",
    "})\n",
    "\n",
    "# ✔ 투구수\n",
    "df_pitch = pd.read_excel('../../data/투구수_입력템플릿.xlsx')\n",
    "df_pitch = df_pitch.rename(columns={\n",
    "    '투구수_입력': '투구수'\n",
    "})\n",
    "\n",
    "# ✔ 피장타율\n",
    "df_slg = pd.read_excel('../../data/피장타율_입력템플릿.xlsx')\n",
    "df_slg = df_slg.rename(columns={\n",
    "    '피장타율_입력': '피장타율'\n",
    "})\n",
    "\n",
    "# ✔ 원클럽맨여부\n",
    "df_club = pd.read_csv('../../data/FA투수데이터_원클럽맨여부.csv')\n",
    "\n",
    "# 필요한 컬럼만 선택\n",
    "df_club = df_club[['선수명', '플레이년도', '원클럽맨여부']]"
   ]
  },
  {
   "cell_type": "code",
   "execution_count": 18,
   "id": "3c75e0e8-05da-443d-840b-a8ca939ef7ab",
   "metadata": {},
   "outputs": [],
   "source": [
    "df1 = df1.merge(df_wan, on=['선수명', '플레이년도'], how='left')\n",
    "df1 = df1.merge(df_pitch, on=['선수명', '플레이년도'], how='left')\n",
    "df1 = df1.merge(df_slg, on=['선수명', '플레이년도'], how='left')\n",
    "df1 = df1.merge(df_club, on=['선수명', '플레이년도'], how='left')"
   ]
  },
  {
   "cell_type": "markdown",
   "id": "d13821f4-6c08-4607-974d-02aaa73628d6",
   "metadata": {},
   "source": [
    "## 비FA 선수들의 원클럽맨여부"
   ]
  },
  {
   "cell_type": "code",
   "execution_count": 43,
   "id": "1e3d7dea-8a27-4c82-b305-d4dd9b07d630",
   "metadata": {},
   "outputs": [],
   "source": [
    "df1.loc[df1['선수명'] == '문승원', '원클럽맨여부'] = 1\n",
    "df1.loc[df1['선수명'] == '박종훈', '원클럽맨여부'] = 1\n",
    "df1.loc[df1['선수명'] == '박세웅', '원클럽맨여부'] = 0\n",
    "df1.loc[df1['선수명'] == '김광현', '원클럽맨여부'] = 1\n",
    "df1.loc[df1['선수명'] == '류현진', '원클럽맨여부'] = 1\n",
    "df1.loc[df1['선수명'] == '김상수', '원클럽맨여부'] = 0\n",
    "df1.loc[df1['선수명'] == '고영표', '원클럽맨여부'] = 1\n",
    "df1.loc[df1['선수명'] == '구창모', '원클럽맨여부'] = 1"
   ]
  },
  {
   "cell_type": "code",
   "execution_count": 45,
   "id": "1dec2648-f0c7-4b96-bf78-ef375c53d379",
   "metadata": {},
   "outputs": [
    {
     "name": "stdout",
     "output_type": "stream",
     "text": [
      "Index(['FA년도', '구단명', '선수명', '세부 포지션', '투', '구분', 'FA등급', '플레이년도', '나이', '게임수',\n",
      "       '선발등판', '구원등판', '승리', '패전', '세이브', '블론세이브', '홀드', '블론홀드', '이닝수', '자책점',\n",
      "       '피안타', '2루타허용', '3루타허용', '피홈런', '볼넷허용', '사구허용', '탈삼진', '폭투', 'ERA',\n",
      "       'FIP', '선발 이닝', '구원 이닝', '선발 WAR', '구원 WAR', '종합 WAR', '연봉', '비고1',\n",
      "       '잔류 여부', 'FA 계약 연수', 'FA 계약 총액', '사사구', '완투', '완봉', '투구수', '피장타율',\n",
      "       '원클럽맨여부'],\n",
      "      dtype='object')\n",
      "FA년도        0\n",
      "구단명         0\n",
      "선수명         0\n",
      "세부 포지션      0\n",
      "투           0\n",
      "구분          0\n",
      "FA등급        0\n",
      "플레이년도       0\n",
      "나이          0\n",
      "게임수         0\n",
      "선발등판        0\n",
      "구원등판        0\n",
      "승리          0\n",
      "패전          0\n",
      "세이브         0\n",
      "블론세이브       0\n",
      "홀드          0\n",
      "블론홀드        0\n",
      "이닝수         0\n",
      "자책점         0\n",
      "피안타         0\n",
      "2루타허용       0\n",
      "3루타허용       0\n",
      "피홈런         0\n",
      "볼넷허용        0\n",
      "사구허용        0\n",
      "탈삼진         0\n",
      "폭투          0\n",
      "ERA         0\n",
      "FIP         0\n",
      "선발 이닝       0\n",
      "구원 이닝       0\n",
      "선발 WAR      0\n",
      "구원 WAR      0\n",
      "종합 WAR      0\n",
      "연봉          0\n",
      "비고1         0\n",
      "잔류 여부       0\n",
      "FA 계약 연수    0\n",
      "FA 계약 총액    0\n",
      "사사구         0\n",
      "완투          0\n",
      "완봉          0\n",
      "투구수         0\n",
      "피장타율        0\n",
      "원클럽맨여부      0\n",
      "dtype: int64\n"
     ]
    }
   ],
   "source": [
    "print(df1.columns)\n",
    "print(df1.isna().sum())  # 병합된 컬럼들에 결측치 있는지 확인"
   ]
  },
  {
   "cell_type": "code",
   "execution_count": 47,
   "id": "8f26212e-c152-4626-bf8f-230e8d6429a0",
   "metadata": {},
   "outputs": [],
   "source": [
    "df1.to_csv('../../data/KBO FA 투수 [2013-2024]_최종_전처리+파생.csv', index=False, encoding='utf-8-sig')"
   ]
  },
  {
   "cell_type": "code",
   "execution_count": null,
   "id": "18c79628-8765-4bf3-b13b-1884eab6c729",
   "metadata": {},
   "outputs": [],
   "source": []
  }
 ],
 "metadata": {
  "kernelspec": {
   "display_name": "Python [conda env:base] *",
   "language": "python",
   "name": "conda-base-py"
  },
  "language_info": {
   "codemirror_mode": {
    "name": "ipython",
    "version": 3
   },
   "file_extension": ".py",
   "mimetype": "text/x-python",
   "name": "python",
   "nbconvert_exporter": "python",
   "pygments_lexer": "ipython3",
   "version": "3.12.7"
  }
 },
 "nbformat": 4,
 "nbformat_minor": 5
}
