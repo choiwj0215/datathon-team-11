{
 "cells": [
  {
   "cell_type": "markdown",
   "id": "fe453412-aeb3-4028-8eea-5fb86b230631",
   "metadata": {},
   "source": [
    "### 선수별 1행 요약 (스텟 : 평균)"
   ]
  },
  {
   "cell_type": "code",
   "execution_count": 2,
   "id": "895bc1f7-21ce-412b-b5b1-efd0c3c31523",
   "metadata": {},
   "outputs": [],
   "source": [
    "# 기본\n",
    "import pandas as pd\n",
    "import numpy as np\n",
    "import matplotlib.pyplot as plt\n",
    "import seaborn as sns\n",
    "import time\n",
    "\n",
    "# 경고 뜨지 않게 설정\n",
    "import warnings\n",
    "warnings.filterwarnings('ignore')\n",
    "\n",
    "# 그래프 설정\n",
    "sns.set()\n",
    "\n",
    "# 그래프 기본 설정\n",
    "plt.rcParams['font.family'] = 'Malgun Gothic'\n",
    "# plt.rcParams['font.family'] = 'AppleGothic'\n",
    "plt.rcParams['figure.figsize'] = 12, 6\n",
    "plt.rcParams['font.size'] = 14\n",
    "plt.rcParams['axes.unicode_minus'] = False\n",
    "\n",
    "# 데이터 전처리 알고리즘\n",
    "from sklearn.preprocessing import LabelEncoder\n",
    "from sklearn.preprocessing import StandardScaler\n",
    "\n",
    "# 학습용과 검증용으로 나누는 함수\n",
    "from sklearn.model_selection import train_test_split\n",
    "\n",
    "# 교차 검증\n",
    "from sklearn.model_selection import cross_val_score\n",
    "from sklearn.model_selection import cross_validate\n",
    "from sklearn.model_selection import KFold\n",
    "from sklearn.model_selection import StratifiedKFold\n",
    "\n",
    "# 평가함수\n",
    "# 분류용\n",
    "from sklearn.metrics import accuracy_score\n",
    "from sklearn.metrics import precision_score\n",
    "from sklearn.metrics import recall_score\n",
    "from sklearn.metrics import f1_score\n",
    "from sklearn.metrics import roc_auc_score\n",
    "\n",
    "# 회귀용\n",
    "from sklearn.metrics import r2_score\n",
    "from sklearn.metrics import mean_squared_error\n",
    "\n",
    "# 모델의 최적의 하이퍼 파라미터를 찾기 위한 도구\n",
    "from sklearn.model_selection import GridSearchCV\n",
    "\n",
    "# 머신러닝 알고리즘 - 분류\n",
    "from sklearn.neighbors import KNeighborsClassifier\n",
    "from sklearn.linear_model import LogisticRegression\n",
    "from sklearn.svm import SVC\n",
    "from sklearn.tree import DecisionTreeClassifier\n",
    "from sklearn.ensemble import RandomForestClassifier\n",
    "from sklearn.ensemble import AdaBoostClassifier\n",
    "from sklearn.ensemble import GradientBoostingClassifier\n",
    "from lightgbm import LGBMClassifier\n",
    "from xgboost import XGBClassifier\n",
    "from sklearn.ensemble import VotingClassifier\n",
    "from catboost import CatBoostClassifier\n",
    "\n",
    "# 머신러닝 알고리즘 - 회귀\n",
    "from sklearn.neighbors import KNeighborsRegressor\n",
    "from sklearn.linear_model import LinearRegression\n",
    "from sklearn.linear_model import Ridge\n",
    "from sklearn.linear_model import Lasso\n",
    "from sklearn.linear_model import ElasticNet\n",
    "from sklearn.svm import SVR\n",
    "from sklearn.tree import DecisionTreeRegressor\n",
    "from sklearn.ensemble import RandomForestRegressor\n",
    "from sklearn.ensemble import AdaBoostRegressor\n",
    "from sklearn.ensemble import GradientBoostingRegressor\n",
    "from lightgbm import LGBMRegressor\n",
    "from xgboost import XGBRegressor\n",
    "from sklearn.ensemble import VotingRegressor\n",
    "\n",
    "# 학습 모델 저장을 위한 라이브러리\n",
    "import pickle\n",
    "\n",
    "from sklearn.metrics import confusion_matrix, ConfusionMatrixDisplay, classification_report"
   ]
  },
  {
   "cell_type": "code",
   "execution_count": 3,
   "id": "ab0ea992-7fe2-4dc4-b839-9191aae79df1",
   "metadata": {},
   "outputs": [],
   "source": [
    "# data_type = \"train\"\n",
    "# month = \"07\"\n",
    "# category = \"잔액정보\"\n",
    "\n",
    "# local\n",
    "root_path = '../../data'\n",
    "\n",
    "# colab\n",
    "# root_path = '/content/drive/MyDrive/12조 파이널프로젝트/data'\n",
    "\n",
    "#drive_folder = f'{root_path}/스탯티즈_Raw_data/'"
   ]
  },
  {
   "cell_type": "code",
   "execution_count": 4,
   "id": "c9c6483b-d15d-4109-a2d0-20b1527d9307",
   "metadata": {},
   "outputs": [],
   "source": [
    "train = pd.read_csv(f'{root_path}/KBO FA 투수 [2013-2024]_최종_전처리_ver03.csv', encoding='utf-8')"
   ]
  },
  {
   "cell_type": "code",
   "execution_count": 5,
   "id": "59349898-747c-43e1-9550-8d4fbf186042",
   "metadata": {},
   "outputs": [],
   "source": [
    "# 1. AAV 생성 및 결측치 제거\n",
    "train[\"AAV\"] = train[\"FA 계약 총액\"] / train[\"FA 계약 연수\"]\n",
    "train = train.dropna(subset=[\"AAV\"])"
   ]
  },
  {
   "cell_type": "code",
   "execution_count": 6,
   "id": "d39a7512-e2fd-40a1-ba8c-1427bbba4daf",
   "metadata": {},
   "outputs": [],
   "source": [
    "# 2. 필요 없는 컬럼 제거\n",
    "drop_cols = [\n",
    "    'FA 계약 총액', 'FA년도', '구단명', 'FA등급',\n",
    "    '비고1', '구분', '잔류 여부', '구종1', '구종2', '구종1 구종가치'\n",
    "]\n",
    "train = train.drop(columns=drop_cols, errors='ignore')"
   ]
  },
  {
   "cell_type": "code",
   "execution_count": 7,
   "id": "3dbea9f9-55a4-462a-964e-f94cd67fa760",
   "metadata": {},
   "outputs": [],
   "source": [
    "# 3. 선수별 수치 피처 평균 요약\n",
    "train_grouped = train.groupby('선수명').mean(numeric_only=True).reset_index()"
   ]
  },
  {
   "cell_type": "code",
   "execution_count": 8,
   "id": "457c3a9e-1e90-40fb-bc1c-cc8dcf0e80a4",
   "metadata": {},
   "outputs": [],
   "source": [
    "# 4. 범주형 변수 원핫 인코딩 후 병합\n",
    "cat_cols = ['투', '세부 포지션']\n",
    "for col in cat_cols:\n",
    "    if col in train.columns:\n",
    "        temp = pd.get_dummies(train[[col, '선수명']], columns=[col])\n",
    "        temp = temp.groupby('선수명').max().reset_index()\n",
    "        train_grouped = pd.merge(train_grouped, temp, on='선수명', how='left')"
   ]
  },
  {
   "cell_type": "code",
   "execution_count": 9,
   "id": "edc1aacf-8d2e-454e-87ef-7d8792590b82",
   "metadata": {},
   "outputs": [],
   "source": [
    "# 6. 피처 / 타겟 정의\n",
    "X = train_grouped.drop(columns=['AAV', '선수명'])\n",
    "y = train_grouped['AAV']"
   ]
  },
  {
   "cell_type": "code",
   "execution_count": 10,
   "id": "92596904-ed18-4a18-9c38-382fb588f814",
   "metadata": {},
   "outputs": [],
   "source": [
    "# 7. train/val 분리\n",
    "X_train, X_val, y_train, y_val = train_test_split(\n",
    "    X, y, test_size=0.2, random_state=42\n",
    ")"
   ]
  },
  {
   "cell_type": "code",
   "execution_count": 14,
   "id": "23076ae7-c732-4f6d-a3f6-96482c274cfb",
   "metadata": {},
   "outputs": [
    {
     "name": "stdout",
     "output_type": "stream",
     "text": [
      "📌 RandomForest\n",
      "   RMSE: 26,647 원\n",
      "   R²:   0.7276\n",
      "   MES:   8641.7857\n",
      "------------------------------\n"
     ]
    }
   ],
   "source": [
    "# 8. 모델 정의 및 성능 비교\n",
    "models = {\n",
    "    \"RandomForest\": RandomForestRegressor(random_state=42),\n",
    "}\n",
    "\n",
    "for name, model in models.items():\n",
    "    model.fit(X_train, y_train)\n",
    "    preds = model.predict(X_val)\n",
    "    rmse = mean_squared_error(y_val, preds, squared=False)\n",
    "    r2 = r2_score(y_val, preds)\n",
    "    mes = np.mean(preds - y_val)\n",
    "    \n",
    "    print(f\"📌 {name}\")\n",
    "    print(f\"   RMSE: {rmse:,.0f} 원\")\n",
    "    print(f\"   R²:   {r2:.4f}\")\n",
    "    print(f\"   MES:   {mes:.4f}\")\n",
    "    print(\"-\" * 30)"
   ]
  },
  {
   "cell_type": "markdown",
   "id": "fed91e57-e317-497e-95f9-6c1cb78e7290",
   "metadata": {},
   "source": [
    "### 튜닝"
   ]
  },
  {
   "cell_type": "code",
   "execution_count": null,
   "id": "8a4e92ba-9c0e-41c8-83c3-f2613b22db41",
   "metadata": {},
   "outputs": [],
   "source": [
    "# 1. 파라미터 탐색 범위 정의 (최소 범위로 간단하게)\n",
    "param_grid = {\n",
    "    'n_estimators': [100, 200],\n",
    "    'max_depth': [None, 10],\n",
    "    'min_samples_split': [2, 5],\n",
    "    'min_samples_leaf': [1, 2]\n",
    "}"
   ]
  },
  {
   "cell_type": "code",
   "execution_count": null,
   "id": "7b57eb8c-fa07-4f20-80b2-7397a47882b2",
   "metadata": {},
   "outputs": [],
   "source": [
    "# 2. GridSearchCV 설정\n",
    "grid_search = GridSearchCV(\n",
    "    estimator=RandomForestRegressor(random_state=42),\n",
    "    param_grid=param_grid,\n",
    "    scoring='r2',\n",
    "    cv=3,\n",
    "    n_jobs=-1,\n",
    "    verbose=1\n",
    ")"
   ]
  },
  {
   "cell_type": "code",
   "execution_count": null,
   "id": "0ad33026-cd02-4323-a22c-f76941675c67",
   "metadata": {},
   "outputs": [],
   "source": [
    "# 3. 학습\n",
    "grid_search.fit(X_train, y_train)"
   ]
  },
  {
   "cell_type": "code",
   "execution_count": null,
   "id": "635b8112-e59f-4b59-ba20-a037f75e8514",
   "metadata": {},
   "outputs": [],
   "source": [
    "# 4. 최적 모델\n",
    "best_model = grid_search.best_estimator_\n",
    "print(\"📌 Best Params:\", grid_search.best_params_)"
   ]
  },
  {
   "cell_type": "code",
   "execution_count": null,
   "id": "0ee8c6d6-1080-4776-98e7-54c16f1214e1",
   "metadata": {},
   "outputs": [],
   "source": [
    "# 5. 검증 데이터 평가\n",
    "val_preds = best_model.predict(X_val)\n",
    "rmse = mean_squared_error(y_val, val_preds, squared=False)\n",
    "r2 = r2_score(y_val, val_preds)"
   ]
  },
  {
   "cell_type": "code",
   "execution_count": null,
   "id": "4140cb7d-22d8-47e0-af49-7cdfc7394ac9",
   "metadata": {},
   "outputs": [],
   "source": [
    "print(f\"✅ 튜닝 후 RMSE: {rmse:,.0f} 원\")\n",
    "print(f\"✅ 튜닝 후 R²: {r2:.4f}\")"
   ]
  },
  {
   "cell_type": "markdown",
   "id": "99ae9c2d-0273-4631-8a6f-aac061463da9",
   "metadata": {},
   "source": [
    "- 별 의미 없다"
   ]
  },
  {
   "cell_type": "code",
   "execution_count": null,
   "id": "769918a1-1a0b-4d9f-8926-2b21dd7365e7",
   "metadata": {},
   "outputs": [],
   "source": [
    "# train_grouped.to_csv(\"../../data/train_선수요약_AAV.csv\", index=False, encoding=\"utf-8-sig\")"
   ]
  },
  {
   "cell_type": "code",
   "execution_count": null,
   "id": "0c52c1ff-01c1-4837-b03d-3c7e481bcf77",
   "metadata": {},
   "outputs": [],
   "source": []
  }
 ],
 "metadata": {
  "kernelspec": {
   "display_name": "Python [conda env:base] *",
   "language": "python",
   "name": "conda-base-py"
  },
  "language_info": {
   "codemirror_mode": {
    "name": "ipython",
    "version": 3
   },
   "file_extension": ".py",
   "mimetype": "text/x-python",
   "name": "python",
   "nbconvert_exporter": "python",
   "pygments_lexer": "ipython3",
   "version": "3.12.7"
  }
 },
 "nbformat": 4,
 "nbformat_minor": 5
}
