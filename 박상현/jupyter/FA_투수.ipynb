{
 "cells": [
  {
   "cell_type": "code",
   "execution_count": 1,
   "id": "a7ffe60c-5c35-44de-be0d-528d99e29445",
   "metadata": {},
   "outputs": [],
   "source": [
    "import pandas as pd\n",
    "import numpy as np\n",
    "import matplotlib.pyplot as plt\n",
    "import seaborn as sns\n",
    "\n",
    "import gc\n",
    "import glob\n",
    "\n",
    "# 그래프 기본 테마 설정\n",
    "# https://coldbrown.co.kr/2023/07/%ED%8C%8C%EC%9D%B4%EC%8D%AC-%EC%8B%A4%EC%A0%84%ED%8E%B8-08-seaborn-sns-set%EC%9D%84-%ED%86%B5%ED%95%B4-%EC%8A%A4%ED%83%80%EC%9D%BC-%EC%84%A4%EC%A0%95%ED%95%98%EA%B8%B0/\n",
    "sns.set()\n",
    "\n",
    "# 그래프 기본 설정\n",
    "plt.rcParams['font.family'] = 'Malgun Gothic'\n",
    "# plt.rcParams['font.family'] = 'AppleGothic'\n",
    "plt.rcParams['figure.figsize'] = 12, 6\n",
    "plt.rcParams['font.size'] = 14\n",
    "plt.rcParams['axes.unicode_minus'] = False\n",
    "\n",
    "\n",
    "# 복잡한 통계 처리를 위한 라이브러리\n",
    "from scipy import stats"
   ]
  },
  {
   "cell_type": "code",
   "execution_count": 3,
   "id": "226b76cb-012f-41eb-bf77-00528ea8d519",
   "metadata": {},
   "outputs": [],
   "source": [
    "# data_type = \"train\"\n",
    "# month = \"07\"\n",
    "# category = \"잔액정보\"\n",
    "\n",
    "# local\n",
    "root_path = '../../data/야구데이터'\n",
    "\n",
    "# colab\n",
    "# root_path = '/content/drive/MyDrive/12조 파이널프로젝트/data'\n",
    "\n",
    "drive_folder = f'{root_path}/스탯티즈_Raw_data/'"
   ]
  },
  {
   "cell_type": "code",
   "execution_count": 5,
   "id": "f4cc01ce-c132-4043-8a57-8be5d536f597",
   "metadata": {},
   "outputs": [
    {
     "data": {
      "text/html": [
       "<div>\n",
       "<style scoped>\n",
       "    .dataframe tbody tr th:only-of-type {\n",
       "        vertical-align: middle;\n",
       "    }\n",
       "\n",
       "    .dataframe tbody tr th {\n",
       "        vertical-align: top;\n",
       "    }\n",
       "\n",
       "    .dataframe thead th {\n",
       "        text-align: right;\n",
       "    }\n",
       "</style>\n",
       "<table border=\"1\" class=\"dataframe\">\n",
       "  <thead>\n",
       "    <tr style=\"text-align: right;\">\n",
       "      <th></th>\n",
       "      <th>FA년도</th>\n",
       "      <th>구단명</th>\n",
       "      <th>선수명</th>\n",
       "      <th>세부 포지션</th>\n",
       "      <th>투</th>\n",
       "      <th>인정년수</th>\n",
       "      <th>구분</th>\n",
       "      <th>FA등급</th>\n",
       "      <th>플레이년도</th>\n",
       "      <th>나이</th>\n",
       "      <th>...</th>\n",
       "      <th>구원 이닝</th>\n",
       "      <th>선발 WAR</th>\n",
       "      <th>구원 WAR</th>\n",
       "      <th>종합 WAR</th>\n",
       "      <th>연봉</th>\n",
       "      <th>비고1</th>\n",
       "      <th>비고2</th>\n",
       "      <th>잔류 여부</th>\n",
       "      <th>FA 계약 연수</th>\n",
       "      <th>FA 계약 총액</th>\n",
       "    </tr>\n",
       "  </thead>\n",
       "  <tbody>\n",
       "    <tr>\n",
       "      <th>0</th>\n",
       "      <td>2011</td>\n",
       "      <td>롯데</td>\n",
       "      <td>강영식</td>\n",
       "      <td>RP</td>\n",
       "      <td>좌투</td>\n",
       "      <td>12.0</td>\n",
       "      <td>자격유지</td>\n",
       "      <td>A</td>\n",
       "      <td>2010</td>\n",
       "      <td>29.0</td>\n",
       "      <td>...</td>\n",
       "      <td>NaN</td>\n",
       "      <td>NaN</td>\n",
       "      <td>1.09</td>\n",
       "      <td>1.09</td>\n",
       "      <td>12000.0</td>\n",
       "      <td>고졸</td>\n",
       "      <td>NaN</td>\n",
       "      <td>NaN</td>\n",
       "      <td>NaN</td>\n",
       "      <td>NaN</td>\n",
       "    </tr>\n",
       "    <tr>\n",
       "      <th>1</th>\n",
       "      <td>2012</td>\n",
       "      <td>롯데</td>\n",
       "      <td>강영식</td>\n",
       "      <td>RP</td>\n",
       "      <td>좌투</td>\n",
       "      <td>12.0</td>\n",
       "      <td>자격유지</td>\n",
       "      <td>A</td>\n",
       "      <td>2011</td>\n",
       "      <td>30.0</td>\n",
       "      <td>...</td>\n",
       "      <td>NaN</td>\n",
       "      <td>NaN</td>\n",
       "      <td>1.26</td>\n",
       "      <td>1.26</td>\n",
       "      <td>30000.0</td>\n",
       "      <td>고졸</td>\n",
       "      <td>NaN</td>\n",
       "      <td>NaN</td>\n",
       "      <td>NaN</td>\n",
       "      <td>NaN</td>\n",
       "    </tr>\n",
       "    <tr>\n",
       "      <th>2</th>\n",
       "      <td>2013</td>\n",
       "      <td>롯데</td>\n",
       "      <td>강영식</td>\n",
       "      <td>RP</td>\n",
       "      <td>좌투</td>\n",
       "      <td>12.0</td>\n",
       "      <td>자격유지</td>\n",
       "      <td>A</td>\n",
       "      <td>2012</td>\n",
       "      <td>31.0</td>\n",
       "      <td>...</td>\n",
       "      <td>NaN</td>\n",
       "      <td>NaN</td>\n",
       "      <td>0.66</td>\n",
       "      <td>0.66</td>\n",
       "      <td>30000.0</td>\n",
       "      <td>고졸</td>\n",
       "      <td>NaN</td>\n",
       "      <td>NaN</td>\n",
       "      <td>NaN</td>\n",
       "      <td>NaN</td>\n",
       "    </tr>\n",
       "    <tr>\n",
       "      <th>3</th>\n",
       "      <td>2014</td>\n",
       "      <td>롯데</td>\n",
       "      <td>강영식</td>\n",
       "      <td>RP</td>\n",
       "      <td>좌투</td>\n",
       "      <td>12.0</td>\n",
       "      <td>자격유지</td>\n",
       "      <td>A</td>\n",
       "      <td>2013</td>\n",
       "      <td>32.0</td>\n",
       "      <td>...</td>\n",
       "      <td>39.2</td>\n",
       "      <td>NaN</td>\n",
       "      <td>0.49</td>\n",
       "      <td>0.49</td>\n",
       "      <td>30000.0</td>\n",
       "      <td>고졸</td>\n",
       "      <td>NaN</td>\n",
       "      <td>잔류</td>\n",
       "      <td>4.0</td>\n",
       "      <td>17.0</td>\n",
       "    </tr>\n",
       "    <tr>\n",
       "      <th>4</th>\n",
       "      <td>2015</td>\n",
       "      <td>롯데</td>\n",
       "      <td>강영식</td>\n",
       "      <td>RP</td>\n",
       "      <td>좌투</td>\n",
       "      <td>NaN</td>\n",
       "      <td>FA 1년차</td>\n",
       "      <td>NaN</td>\n",
       "      <td>2014</td>\n",
       "      <td>33.0</td>\n",
       "      <td>...</td>\n",
       "      <td>47.0</td>\n",
       "      <td>NaN</td>\n",
       "      <td>1.18</td>\n",
       "      <td>1.18</td>\n",
       "      <td>30000.0</td>\n",
       "      <td>NaN</td>\n",
       "      <td>NaN</td>\n",
       "      <td>NaN</td>\n",
       "      <td>NaN</td>\n",
       "      <td>NaN</td>\n",
       "    </tr>\n",
       "    <tr>\n",
       "      <th>...</th>\n",
       "      <td>...</td>\n",
       "      <td>...</td>\n",
       "      <td>...</td>\n",
       "      <td>...</td>\n",
       "      <td>...</td>\n",
       "      <td>...</td>\n",
       "      <td>...</td>\n",
       "      <td>...</td>\n",
       "      <td>...</td>\n",
       "      <td>...</td>\n",
       "      <td>...</td>\n",
       "      <td>...</td>\n",
       "      <td>...</td>\n",
       "      <td>...</td>\n",
       "      <td>...</td>\n",
       "      <td>...</td>\n",
       "      <td>...</td>\n",
       "      <td>...</td>\n",
       "      <td>...</td>\n",
       "      <td>...</td>\n",
       "      <td>...</td>\n",
       "    </tr>\n",
       "    <tr>\n",
       "      <th>322</th>\n",
       "      <td>2021</td>\n",
       "      <td>두산</td>\n",
       "      <td>홍건희</td>\n",
       "      <td>RP</td>\n",
       "      <td>우투</td>\n",
       "      <td>8.0</td>\n",
       "      <td>신규</td>\n",
       "      <td>A</td>\n",
       "      <td>2020</td>\n",
       "      <td>28.0</td>\n",
       "      <td>...</td>\n",
       "      <td>68.2</td>\n",
       "      <td>NaN</td>\n",
       "      <td>0.22</td>\n",
       "      <td>0.22</td>\n",
       "      <td>5300.0</td>\n",
       "      <td>고졸</td>\n",
       "      <td>NaN</td>\n",
       "      <td>NaN</td>\n",
       "      <td>NaN</td>\n",
       "      <td>NaN</td>\n",
       "    </tr>\n",
       "    <tr>\n",
       "      <th>323</th>\n",
       "      <td>2022</td>\n",
       "      <td>두산</td>\n",
       "      <td>홍건희</td>\n",
       "      <td>RP</td>\n",
       "      <td>우투</td>\n",
       "      <td>8.0</td>\n",
       "      <td>신규</td>\n",
       "      <td>A</td>\n",
       "      <td>2021</td>\n",
       "      <td>29.0</td>\n",
       "      <td>...</td>\n",
       "      <td>74.1</td>\n",
       "      <td>NaN</td>\n",
       "      <td>2.67</td>\n",
       "      <td>2.67</td>\n",
       "      <td>11000.0</td>\n",
       "      <td>고졸</td>\n",
       "      <td>NaN</td>\n",
       "      <td>NaN</td>\n",
       "      <td>NaN</td>\n",
       "      <td>NaN</td>\n",
       "    </tr>\n",
       "    <tr>\n",
       "      <th>324</th>\n",
       "      <td>2023</td>\n",
       "      <td>두산</td>\n",
       "      <td>홍건희</td>\n",
       "      <td>CP</td>\n",
       "      <td>우투</td>\n",
       "      <td>8.0</td>\n",
       "      <td>신규</td>\n",
       "      <td>A</td>\n",
       "      <td>2022</td>\n",
       "      <td>30.0</td>\n",
       "      <td>...</td>\n",
       "      <td>62.0</td>\n",
       "      <td>NaN</td>\n",
       "      <td>0.49</td>\n",
       "      <td>0.49</td>\n",
       "      <td>25000.0</td>\n",
       "      <td>고졸</td>\n",
       "      <td>NaN</td>\n",
       "      <td>NaN</td>\n",
       "      <td>NaN</td>\n",
       "      <td>NaN</td>\n",
       "    </tr>\n",
       "    <tr>\n",
       "      <th>325</th>\n",
       "      <td>2024</td>\n",
       "      <td>두산</td>\n",
       "      <td>홍건희</td>\n",
       "      <td>CP</td>\n",
       "      <td>우투</td>\n",
       "      <td>8.0</td>\n",
       "      <td>신규</td>\n",
       "      <td>A</td>\n",
       "      <td>2023</td>\n",
       "      <td>31.0</td>\n",
       "      <td>...</td>\n",
       "      <td>61.2</td>\n",
       "      <td>NaN</td>\n",
       "      <td>1.23</td>\n",
       "      <td>1.23</td>\n",
       "      <td>30000.0</td>\n",
       "      <td>고졸</td>\n",
       "      <td>NaN</td>\n",
       "      <td>잔류</td>\n",
       "      <td>4.0</td>\n",
       "      <td>24.5</td>\n",
       "    </tr>\n",
       "    <tr>\n",
       "      <th>326</th>\n",
       "      <td>2025</td>\n",
       "      <td>두산</td>\n",
       "      <td>홍건희</td>\n",
       "      <td>CP</td>\n",
       "      <td>우투</td>\n",
       "      <td>NaN</td>\n",
       "      <td>FA 1년차</td>\n",
       "      <td>NaN</td>\n",
       "      <td>2024</td>\n",
       "      <td>32.0</td>\n",
       "      <td>...</td>\n",
       "      <td>59.1</td>\n",
       "      <td>NaN</td>\n",
       "      <td>1.59</td>\n",
       "      <td>1.59</td>\n",
       "      <td>30000.0</td>\n",
       "      <td>NaN</td>\n",
       "      <td>NaN</td>\n",
       "      <td>NaN</td>\n",
       "      <td>NaN</td>\n",
       "      <td>NaN</td>\n",
       "    </tr>\n",
       "  </tbody>\n",
       "</table>\n",
       "<p>327 rows × 42 columns</p>\n",
       "</div>"
      ],
      "text/plain": [
       "     FA년도 구단명  선수명 세부 포지션   투  인정년수      구분 FA등급  플레이년도    나이  ...  구원 이닝  \\\n",
       "0    2011  롯데  강영식     RP  좌투  12.0    자격유지    A   2010  29.0  ...    NaN   \n",
       "1    2012  롯데  강영식     RP  좌투  12.0    자격유지    A   2011  30.0  ...    NaN   \n",
       "2    2013  롯데  강영식     RP  좌투  12.0    자격유지    A   2012  31.0  ...    NaN   \n",
       "3    2014  롯데  강영식     RP  좌투  12.0    자격유지    A   2013  32.0  ...   39.2   \n",
       "4    2015  롯데  강영식     RP  좌투   NaN  FA 1년차  NaN   2014  33.0  ...   47.0   \n",
       "..    ...  ..  ...    ...  ..   ...     ...  ...    ...   ...  ...    ...   \n",
       "322  2021  두산  홍건희     RP  우투   8.0      신규    A   2020  28.0  ...   68.2   \n",
       "323  2022  두산  홍건희     RP  우투   8.0      신규    A   2021  29.0  ...   74.1   \n",
       "324  2023  두산  홍건희     CP  우투   8.0      신규    A   2022  30.0  ...   62.0   \n",
       "325  2024  두산  홍건희     CP  우투   8.0      신규    A   2023  31.0  ...   61.2   \n",
       "326  2025  두산  홍건희     CP  우투   NaN  FA 1년차  NaN   2024  32.0  ...   59.1   \n",
       "\n",
       "     선발 WAR  구원 WAR  종합 WAR       연봉  비고1  비고2  잔류 여부  FA 계약 연수  FA 계약 총액  \n",
       "0       NaN    1.09    1.09  12000.0   고졸  NaN    NaN       NaN       NaN  \n",
       "1       NaN    1.26    1.26  30000.0   고졸  NaN    NaN       NaN       NaN  \n",
       "2       NaN    0.66    0.66  30000.0   고졸  NaN    NaN       NaN       NaN  \n",
       "3       NaN    0.49    0.49  30000.0   고졸  NaN     잔류       4.0      17.0  \n",
       "4       NaN    1.18    1.18  30000.0  NaN  NaN    NaN       NaN       NaN  \n",
       "..      ...     ...     ...      ...  ...  ...    ...       ...       ...  \n",
       "322     NaN    0.22    0.22   5300.0   고졸  NaN    NaN       NaN       NaN  \n",
       "323     NaN    2.67    2.67  11000.0   고졸  NaN    NaN       NaN       NaN  \n",
       "324     NaN    0.49    0.49  25000.0   고졸  NaN    NaN       NaN       NaN  \n",
       "325     NaN    1.23    1.23  30000.0   고졸  NaN     잔류       4.0      24.5  \n",
       "326     NaN    1.59    1.59  30000.0  NaN  NaN    NaN       NaN       NaN  \n",
       "\n",
       "[327 rows x 42 columns]"
      ]
     },
     "execution_count": 5,
     "metadata": {},
     "output_type": "execute_result"
    }
   ],
   "source": [
    "df1 = pd.read_csv(f'{drive_folder}FA투수데이터 1차.csv', encoding='utf-8')\n",
    "df1"
   ]
  },
  {
   "cell_type": "markdown",
   "id": "9f135576-03a8-44e4-9842-3b1800365450",
   "metadata": {},
   "source": [
    "#### 우진님께서 1차로 \"TEAM\"이 들어간 컬럼, 구단명이 \"은퇴\"인 row 삭제 진행"
   ]
  },
  {
   "cell_type": "code",
   "execution_count": 8,
   "id": "5b4afd6f-ac4c-48a2-be38-68beda2c842a",
   "metadata": {},
   "outputs": [],
   "source": [
    "# 출력 옵션 조정 (생략 없이 dtypes 포함 모든 열 보기)\n",
    "pd.set_option('display.max_columns', None)\n",
    "pd.set_option('display.max_rows', None) "
   ]
  },
  {
   "cell_type": "markdown",
   "id": "fce774c7-ee02-4b51-8c48-e3aef089c7b0",
   "metadata": {},
   "source": [
    "### 🔎 결측치 확인"
   ]
  },
  {
   "cell_type": "code",
   "execution_count": 11,
   "id": "a249d696-9988-4823-a2b2-540946c3b630",
   "metadata": {},
   "outputs": [
    {
     "name": "stdout",
     "output_type": "stream",
     "text": [
      "🔍 [결측치 개수]\n",
      "▶ df1:\n",
      " 비고2         324\n",
      "FA 계약 총액    264\n",
      "FA 계약 연수    264\n",
      "잔류 여부       257\n",
      "선발 WAR      171\n",
      "2루타허용        53\n",
      "선발 이닝        53\n",
      "구원 이닝        53\n",
      "FA등급         53\n",
      "비고1          53\n",
      "인정년수         53\n",
      "3루타허용        53\n",
      "구원 WAR       48\n",
      "블론세이브        36\n",
      "블론홀드         36\n",
      "연봉            7\n",
      "FIP           4\n",
      "이닝수           4\n",
      "종합 WAR        0\n",
      "볼넷허용          0\n",
      "ERA           0\n",
      "폭투            0\n",
      "탈삼진           0\n",
      "사구허용          0\n",
      "FA년도          0\n",
      "피홈런           0\n",
      "게임수           0\n",
      "선수명           0\n",
      "세부 포지션        0\n",
      "투             0\n",
      "구분            0\n",
      "플레이년도         0\n",
      "나이            0\n",
      "선발등판          0\n",
      "구단명           0\n",
      "구원등판          0\n",
      "승리            0\n",
      "패전            0\n",
      "세이브           0\n",
      "홀드            0\n",
      "자책점           0\n",
      "피안타           0\n",
      "dtype: int64\n"
     ]
    }
   ],
   "source": [
    "print(\"🔍 [결측치 개수]\")\n",
    "print(\"▶ df1:\\n\", df1.isnull().sum().sort_values(ascending=False))"
   ]
  },
  {
   "cell_type": "code",
   "execution_count": 13,
   "id": "eb9eb277-76f4-40e6-b950-e28b23c2f7ea",
   "metadata": {},
   "outputs": [],
   "source": [
    "pd.reset_option('display.max_columns')\n",
    "pd.reset_option('display.max_rows')"
   ]
  },
  {
   "cell_type": "code",
   "execution_count": 15,
   "id": "18ee9e03-68a2-4545-8253-09e49c080b8f",
   "metadata": {},
   "outputs": [],
   "source": [
    "# 둘다 결측치가 대부분이고, 분석에 영향이 크지 않아보여 삭제\n",
    "df1 = df1.drop(columns=['비고2'], errors='ignore')"
   ]
  },
  {
   "cell_type": "code",
   "execution_count": 17,
   "id": "7d3e3561-5943-4d19-a433-549ec6225476",
   "metadata": {},
   "outputs": [],
   "source": [
    "# \"TEAM\"이 들어간 컬럼에 결측치가 많다.\n",
    "# 일단 정말 필요한 컬럼들의 전처리를 위해 삭제하고 진행\n",
    "# 필요시 나중에 따로 전처리 하는걸로\n",
    "# df1 = df1.loc[:, ~df1.columns.str.contains(\"TEAM\", case=False, na=False)]"
   ]
  },
  {
   "cell_type": "code",
   "execution_count": 55,
   "id": "5eaf14df-9d46-4df0-b79a-8823e49291fb",
   "metadata": {},
   "outputs": [],
   "source": [
    "# excel로 살펴보기 해해\n",
    "# df1.to_excel(\"KBO FA 투수 [2013-2024]_1차_전처리.xlsx\", index=False)"
   ]
  },
  {
   "cell_type": "code",
   "execution_count": 19,
   "id": "a351bf92-5622-4903-a704-0e7726ec598e",
   "metadata": {},
   "outputs": [
    {
     "name": "stdout",
     "output_type": "stream",
     "text": [
      "🔍 [결측치 개수]\n",
      "▶ df1:\n",
      " FA 계약 총액    264\n",
      "FA 계약 연수    264\n",
      "잔류 여부       257\n",
      "선발 WAR      171\n",
      "FA등급         53\n",
      "2루타허용        53\n",
      "구원 이닝        53\n",
      "선발 이닝        53\n",
      "인정년수         53\n",
      "비고1          53\n",
      "3루타허용        53\n",
      "구원 WAR       48\n",
      "블론세이브        36\n",
      "블론홀드         36\n",
      "연봉            7\n",
      "FIP           4\n",
      "이닝수           4\n",
      "종합 WAR        0\n",
      "피홈런           0\n",
      "ERA           0\n",
      "폭투            0\n",
      "탈삼진           0\n",
      "사구허용          0\n",
      "볼넷허용          0\n",
      "FA년도          0\n",
      "피안타           0\n",
      "구단명           0\n",
      "홀드            0\n",
      "세이브           0\n",
      "패전            0\n",
      "승리            0\n",
      "구원등판          0\n",
      "선발등판          0\n",
      "게임수           0\n",
      "나이            0\n",
      "플레이년도         0\n",
      "구분            0\n",
      "투             0\n",
      "세부 포지션        0\n",
      "선수명           0\n",
      "자책점           0\n",
      "dtype: int64\n"
     ]
    }
   ],
   "source": [
    "print(\"🔍 [결측치 개수]\")\n",
    "print(\"▶ df1:\\n\", df1.isnull().sum().sort_values(ascending=False))"
   ]
  },
  {
   "cell_type": "code",
   "execution_count": 21,
   "id": "dc6d5c40-609b-42d7-8a33-872d66920681",
   "metadata": {},
   "outputs": [
    {
     "data": {
      "text/plain": [
       "구단명\n",
       "삼성     66\n",
       "한화     44\n",
       "LG     39\n",
       "롯데     37\n",
       "넥센     25\n",
       "SK     24\n",
       "두산     24\n",
       "KIA    21\n",
       "NC     17\n",
       "키움     14\n",
       "KT     12\n",
       "SSG     3\n",
       "우리      1\n",
       "Name: count, dtype: int64"
      ]
     },
     "execution_count": 21,
     "metadata": {},
     "output_type": "execute_result"
    }
   ],
   "source": [
    "df1['구단명'].value_counts()"
   ]
  },
  {
   "cell_type": "markdown",
   "id": "250174db-3906-4264-b670-624e8e07a3a1",
   "metadata": {},
   "source": [
    "#### 우리 --> 마일영 의 기록은 2010년도부터 한화로 되어있어서 한화로 교체\n",
    "#### 넥센 --> 키움\n",
    "#### SK --> SSG"
   ]
  },
  {
   "cell_type": "code",
   "execution_count": 24,
   "id": "6a0adc22-b0e5-40f3-83e9-cf314e858a57",
   "metadata": {},
   "outputs": [],
   "source": [
    "# 팀명 변경 딕셔너리\n",
    "team_rename_map = {\n",
    "    '넥센': '키움',\n",
    "    'SK': 'SSG',\n",
    "}\n",
    "\n",
    "# 1. 일반적인 팀명 변경 적용\n",
    "df1['구단명'] = df1['구단명'].replace(team_rename_map)\n",
    "\n",
    "# 2. 마일영 선수의 2010년도 기록만 예외적으로 '한화'로 수정\n",
    "df1.loc[(df1['선수명'] == '마일영') & (df1['FA년도'] == 2010), '구단명'] = '한화'"
   ]
  },
  {
   "cell_type": "code",
   "execution_count": 26,
   "id": "c548e661-da92-480d-8b52-5a15e43e37db",
   "metadata": {},
   "outputs": [
    {
     "data": {
      "text/plain": [
       "구단명\n",
       "삼성     66\n",
       "한화     45\n",
       "키움     39\n",
       "LG     39\n",
       "롯데     37\n",
       "SSG    27\n",
       "두산     24\n",
       "KIA    21\n",
       "NC     17\n",
       "KT     12\n",
       "Name: count, dtype: int64"
      ]
     },
     "execution_count": 26,
     "metadata": {},
     "output_type": "execute_result"
    }
   ],
   "source": [
    "df1['구단명'].value_counts()"
   ]
  },
  {
   "cell_type": "code",
   "execution_count": 36,
   "id": "ec503ce6-37cf-435e-b1f9-6d22f8d1e5c5",
   "metadata": {},
   "outputs": [
    {
     "data": {
      "text/plain": [
       "array(['고졸', nan, '신규 35세 23년 C등급', '35세 이상', '대졸', '신규 35세 해외 복귀',\n",
       "       '23년 B등급'], dtype=object)"
      ]
     },
     "execution_count": 36,
     "metadata": {},
     "output_type": "execute_result"
    }
   ],
   "source": [
    "df1['비고1'].unique()"
   ]
  },
  {
   "cell_type": "markdown",
   "id": "fa0813d8-b2e1-4f0c-b263-9faa8f9cbdd7",
   "metadata": {},
   "source": [
    "#### 비고1은 결측치 바로 위에값으로 결측치를 처리해준다."
   ]
  },
  {
   "cell_type": "code",
   "execution_count": 41,
   "id": "8afc197d-b843-4478-8ebe-e3a92a4d90c4",
   "metadata": {},
   "outputs": [],
   "source": [
    "df1['비고1'] = df1['비고1'].ffill()"
   ]
  },
  {
   "cell_type": "code",
   "execution_count": 51,
   "id": "846e3d4a-d378-48b0-acbd-7403bd357d4a",
   "metadata": {},
   "outputs": [
    {
     "data": {
      "text/plain": [
       "비고1\n",
       "고졸                242\n",
       "대졸                 50\n",
       "35세 이상             15\n",
       "신규 35세 23년 C등급     10\n",
       "신규 35세 해외 복귀        5\n",
       "23년 B등급             5\n",
       "Name: count, dtype: int64"
      ]
     },
     "execution_count": 51,
     "metadata": {},
     "output_type": "execute_result"
    }
   ],
   "source": [
    "df1['비고1'].value_counts()"
   ]
  },
  {
   "cell_type": "code",
   "execution_count": 54,
   "id": "b9229061-cb91-41fb-ac38-742be9f4986e",
   "metadata": {},
   "outputs": [
    {
     "data": {
      "text/plain": [
       "4"
      ]
     },
     "execution_count": 54,
     "metadata": {},
     "output_type": "execute_result"
    }
   ],
   "source": [
    "df1['이닝수'].isna().sum()"
   ]
  },
  {
   "cell_type": "markdown",
   "id": "69415069-e81a-4768-80c6-450e6f91dc8f",
   "metadata": {},
   "source": [
    "#### 이닝수 = 선발 이닝 + 구원 이닝 ---> (일단 값이 정확하진 않지만 결측치 채우고 추후 생각)"
   ]
  },
  {
   "cell_type": "code",
   "execution_count": 57,
   "id": "edbfc484-909b-4687-ac76-e6eb838ef84b",
   "metadata": {},
   "outputs": [],
   "source": [
    "df1['이닝수'] = df1['이닝수'].fillna(df1['선발 이닝'] + df1['구원 이닝'])"
   ]
  },
  {
   "cell_type": "code",
   "execution_count": 59,
   "id": "9a53ab3c-f6f0-4449-8545-924380258dad",
   "metadata": {},
   "outputs": [
    {
     "data": {
      "text/plain": [
       "0"
      ]
     },
     "execution_count": 59,
     "metadata": {},
     "output_type": "execute_result"
    }
   ],
   "source": [
    "df1['이닝수'].isna().sum()"
   ]
  },
  {
   "cell_type": "code",
   "execution_count": 61,
   "id": "41186ab4-ae5f-422f-866f-ecff1d4398a1",
   "metadata": {},
   "outputs": [
    {
     "data": {
      "text/plain": [
       "4"
      ]
     },
     "execution_count": 61,
     "metadata": {},
     "output_type": "execute_result"
    }
   ],
   "source": [
    "df1['FIP'].isna().sum()"
   ]
  },
  {
   "cell_type": "markdown",
   "id": "3a25c047-044b-4558-b1c4-01df136320d4",
   "metadata": {},
   "source": [
    "#### FIP : 수비 무관 평균 자책점\n",
    "#### 지금 데이터엔, FIP가 전년도 것으로 써져있는 것 같음 (스탯티즈)\n",
    "#### --> 알고보니 다 전년도 기록임 (ex : 스탯티즈의 2013년 -- 데이터의 2014년)\n",
    "#### 결측치인 부분은 그 선수가 이적을 해서, FIP가 2개\n",
    "#### 즉, 다른 FIP는 1년 기준이지만 결측치인 FIP는 1년에 값이 2개 나와있음 그래서 결측치인 것"
   ]
  },
  {
   "cell_type": "code",
   "execution_count": 66,
   "id": "15f05d34-7f85-451f-b4eb-06cd16b7f59e",
   "metadata": {},
   "outputs": [
    {
     "data": {
      "text/plain": [
       "36"
      ]
     },
     "execution_count": 66,
     "metadata": {},
     "output_type": "execute_result"
    }
   ],
   "source": [
    "df1['블론홀드'].isna().sum()"
   ]
  },
  {
   "cell_type": "code",
   "execution_count": 68,
   "id": "507d83c3-d98a-464e-b296-072f4ef2b09c",
   "metadata": {},
   "outputs": [
    {
     "data": {
      "text/plain": [
       "36"
      ]
     },
     "execution_count": 68,
     "metadata": {},
     "output_type": "execute_result"
    }
   ],
   "source": [
    "df1['블론세이브'].isna().sum()"
   ]
  },
  {
   "cell_type": "markdown",
   "id": "da13ef17-c9de-48e8-a2d7-a2f45a1977fd",
   "metadata": {},
   "source": [
    "#### 블론홀드나 세이브의 결측치는 스탯티즈에 값이 없는 값이라 결측치이다.\n",
    "#### -> 0으로 처리해도 되려나 ?? : 이미 기록이 없는데 0으로 들어간 값도 있기 때문\n",
    "#### -> 기록이 없는게 진짜 기록이 0인게 맞나?"
   ]
  },
  {
   "cell_type": "code",
   "execution_count": 80,
   "id": "729d9621-3457-4398-9796-5fb91265321a",
   "metadata": {},
   "outputs": [
    {
     "data": {
      "text/plain": [
       "171"
      ]
     },
     "execution_count": 80,
     "metadata": {},
     "output_type": "execute_result"
    }
   ],
   "source": [
    "# 선발 WAR = 종합 WAR - 구원 WAR\n",
    "df1['선발 WAR'].isna().sum()"
   ]
  },
  {
   "cell_type": "code",
   "execution_count": 82,
   "id": "836f26d2-b8e7-481b-8aba-1f60fddfbf95",
   "metadata": {},
   "outputs": [
    {
     "data": {
      "text/plain": [
       "48"
      ]
     },
     "execution_count": 82,
     "metadata": {},
     "output_type": "execute_result"
    }
   ],
   "source": [
    "# 구원 WAR = 종합 WAR - 선발 WAR\n",
    "df1['구원 WAR'].isna().sum()"
   ]
  },
  {
   "cell_type": "code",
   "execution_count": 84,
   "id": "3b95055a-ca24-487a-b060-fac03f77d27b",
   "metadata": {},
   "outputs": [
    {
     "data": {
      "text/plain": [
       "0"
      ]
     },
     "execution_count": 84,
     "metadata": {},
     "output_type": "execute_result"
    }
   ],
   "source": [
    "df1['종합 WAR'].isna().sum()"
   ]
  },
  {
   "cell_type": "markdown",
   "id": "c82da77e-68a3-4a14-8699-0612ef7d5987",
   "metadata": {},
   "source": [
    "#### 종합 WAR = 선발 WAR + 구원 WAR "
   ]
  },
  {
   "cell_type": "code",
   "execution_count": 86,
   "id": "767ef8f7-7b43-46c0-877e-48ab2402bac2",
   "metadata": {},
   "outputs": [],
   "source": [
    "# 구원 WAR 결측치 채우기\n",
    "df1['구원 WAR'] = df1['구원 WAR'].fillna(df1['종합 WAR'] - df1['선발 WAR'])"
   ]
  },
  {
   "cell_type": "code",
   "execution_count": 90,
   "id": "6ec7ae49-9d31-4308-9bc8-15560ad122ee",
   "metadata": {},
   "outputs": [],
   "source": [
    "# 선발 WAR 결측치 채우기\n",
    "df1['선발 WAR'] = df1['선발 WAR'].fillna(df1['종합 WAR'] - df1['구원 WAR'])"
   ]
  },
  {
   "cell_type": "code",
   "execution_count": 94,
   "id": "ea602ac3-9529-4ef4-92d9-2da0756f993e",
   "metadata": {},
   "outputs": [
    {
     "data": {
      "text/plain": [
       "53"
      ]
     },
     "execution_count": 94,
     "metadata": {},
     "output_type": "execute_result"
    }
   ],
   "source": [
    "df1['선발 이닝'].isna().sum()"
   ]
  },
  {
   "cell_type": "code",
   "execution_count": 96,
   "id": "5b28062e-b2c8-498b-8054-ac18d5565954",
   "metadata": {},
   "outputs": [
    {
     "data": {
      "text/plain": [
       "53"
      ]
     },
     "execution_count": 96,
     "metadata": {},
     "output_type": "execute_result"
    }
   ],
   "source": [
    "df1['구원 이닝'].isna().sum()"
   ]
  },
  {
   "cell_type": "markdown",
   "id": "0da33088-2f1c-4bb1-9946-b0f3aa4e6172",
   "metadata": {},
   "source": [
    "#### 마찬가지로 선발 이닝과 구원 이닝이 결측치인 것은\n",
    "#### 기록이 없어서 결측치로 되어있다. -> 어떻게 처리?"
   ]
  },
  {
   "cell_type": "code",
   "execution_count": null,
   "id": "2a8bcdf4-e6b2-4c7c-8fb3-a953b947f7bf",
   "metadata": {},
   "outputs": [],
   "source": []
  }
 ],
 "metadata": {
  "kernelspec": {
   "display_name": "Python [conda env:base] *",
   "language": "python",
   "name": "conda-base-py"
  },
  "language_info": {
   "codemirror_mode": {
    "name": "ipython",
    "version": 3
   },
   "file_extension": ".py",
   "mimetype": "text/x-python",
   "name": "python",
   "nbconvert_exporter": "python",
   "pygments_lexer": "ipython3",
   "version": "3.12.7"
  }
 },
 "nbformat": 4,
 "nbformat_minor": 5
}
