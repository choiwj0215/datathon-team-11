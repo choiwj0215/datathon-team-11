{
 "cells": [
  {
   "cell_type": "markdown",
   "id": "12450e04-7208-42ed-8dd7-3430d253be51",
   "metadata": {},
   "source": [
    "- 학습용 데이터 2025년 FA 투수 추가"
   ]
  },
  {
   "cell_type": "code",
   "execution_count": 2,
   "id": "71aacc57-22ff-4737-9b59-24858f216865",
   "metadata": {},
   "outputs": [],
   "source": [
    "import pandas as pd\n",
    "import numpy as np\n",
    "import matplotlib.pyplot as plt\n",
    "import seaborn as sns\n",
    "\n",
    "import gc\n",
    "import glob\n",
    "\n",
    "# 그래프 기본 테마 설정\n",
    "# https://coldbrown.co.kr/2023/07/%ED%8C%8C%EC%9D%B4%EC%8D%AC-%EC%8B%A4%EC%A0%84%ED%8E%B8-08-seaborn-sns-set%EC%9D%84-%ED%86%B5%ED%95%B4-%EC%8A%A4%ED%83%80%EC%9D%BC-%EC%84%A4%EC%A0%95%ED%95%98%EA%B8%B0/\n",
    "sns.set()\n",
    "\n",
    "# 그래프 기본 설정\n",
    "plt.rcParams['font.family'] = 'Malgun Gothic'\n",
    "# plt.rcParams['font.family'] = 'AppleGothic'\n",
    "plt.rcParams['figure.figsize'] = 12, 6\n",
    "plt.rcParams['font.size'] = 14\n",
    "plt.rcParams['axes.unicode_minus'] = False\n",
    "\n",
    "\n",
    "# 복잡한 통계 처리를 위한 라이브러리\n",
    "from scipy import stats"
   ]
  },
  {
   "cell_type": "code",
   "execution_count": 3,
   "id": "a2010f24-4f2f-47e5-a1dc-1884a7e8bf7a",
   "metadata": {},
   "outputs": [],
   "source": [
    "# data_type = \"train\"\n",
    "# month = \"07\"\n",
    "# category = \"잔액정보\"\n",
    "\n",
    "# local\n",
    "root_path = '../../data'\n",
    "\n",
    "# colab\n",
    "# root_path = '/content/drive/MyDrive/12조 파이널프로젝트/data'\n",
    "\n",
    "#drive_folder = f'{root_path}/스탯티즈_Raw_data/'"
   ]
  },
  {
   "cell_type": "code",
   "execution_count": 4,
   "id": "9341536f-49cd-4151-881f-489606666343",
   "metadata": {},
   "outputs": [],
   "source": [
    "df1 = pd.read_csv(f'{root_path}/KBO FA 투수 [2013-2024]_최종_전처리_ver03.csv')\n",
    "df2 = pd.read_csv(f'{root_path}/2025_FA_투수_데이터.csv', encoding='cp949')"
   ]
  },
  {
   "cell_type": "code",
   "execution_count": 5,
   "id": "e0c5d3ce-933e-4042-9593-82d5d54b270a",
   "metadata": {},
   "outputs": [
    {
     "name": "stdout",
     "output_type": "stream",
     "text": [
      "Index(['FA년도', '구단명', '선수명', '세부 포지션', '투', '구분', 'FA등급', '플레이년도', '나이', '게임수',\n",
      "       '선발등판', '구원등판', '승리', '패전', '세이브', '블론세이브', '홀드', '블론홀드', '이닝수', '자책점',\n",
      "       '피안타', '2루타허용', '3루타허용', '피홈런', '볼넷허용', '사구허용', '탈삼진', '폭투', 'ERA',\n",
      "       'FIP', '선발 이닝', '구원 이닝', '선발 WAR', '구원 WAR', '종합 WAR', '연봉', '비고1',\n",
      "       '잔류 여부', 'FA 계약 연수', 'FA 계약 총액', '사사구', '완투', '완봉', '투구수', '피장타율',\n",
      "       '원클럽맨여부', '득점파크팩터', '홈런파크팩터', '장타파크팩터', '국대출전횟수', '구종1', '구종2',\n",
      "       '구종1 구종가치'],\n",
      "      dtype='object')\n",
      "Index(['FA년도', '구단명', '선수명', '세부 포지션', '투', '구분', 'FA등급', '플레이년도', '나이', '게임수',\n",
      "       '선발등판', '구원등판', '승리', '패전', '세이브', '블론세이브', '홀드', '이닝수', '자책점', '피안타',\n",
      "       '2루타허용', '3루타허용', '피홈런', '볼넷허용', '사구허용', '탈삼진', '폭투', 'ERA', 'FIP',\n",
      "       '선발 이닝', '구원 이닝', '선발 WAR', '구원 WAR', '종합 WAR', '연봉', '비고1', '잔류 여부',\n",
      "       'FA 계약 연수', 'FA 계약 총액', '사사구', '완투', '완봉', '투구수', '피장타율', '원클럽맨여부',\n",
      "       '국대출전횟수', 'AAV'],\n",
      "      dtype='object')\n"
     ]
    }
   ],
   "source": [
    "print(df1.columns)\n",
    "print(df2.columns)"
   ]
  },
  {
   "cell_type": "code",
   "execution_count": 6,
   "id": "bbcc9524-6e60-481f-a199-7199d4d91fdb",
   "metadata": {},
   "outputs": [],
   "source": [
    "df1 = df1[df2.columns.intersection(df1.columns)]  # 공통 컬럼만 남기기"
   ]
  },
  {
   "cell_type": "code",
   "execution_count": 7,
   "id": "f318a30a-856d-45fb-8413-b38249c26149",
   "metadata": {},
   "outputs": [],
   "source": [
    "df2 = df2[df1.columns.intersection(df2.columns)]  # 공통 컬럼만 남기기"
   ]
  },
  {
   "cell_type": "code",
   "execution_count": 8,
   "id": "b518784d-351d-4516-8a31-b06d931ccb1a",
   "metadata": {},
   "outputs": [
    {
     "name": "stdout",
     "output_type": "stream",
     "text": [
      "Index(['FA년도', '구단명', '선수명', '세부 포지션', '투', '구분', 'FA등급', '플레이년도', '나이', '게임수',\n",
      "       '선발등판', '구원등판', '승리', '패전', '세이브', '블론세이브', '홀드', '이닝수', '자책점', '피안타',\n",
      "       '2루타허용', '3루타허용', '피홈런', '볼넷허용', '사구허용', '탈삼진', '폭투', 'ERA', 'FIP',\n",
      "       '선발 이닝', '구원 이닝', '선발 WAR', '구원 WAR', '종합 WAR', '연봉', '비고1', '잔류 여부',\n",
      "       'FA 계약 연수', 'FA 계약 총액', '사사구', '완투', '완봉', '투구수', '피장타율', '원클럽맨여부',\n",
      "       '국대출전횟수'],\n",
      "      dtype='object')\n",
      "Index(['FA년도', '구단명', '선수명', '세부 포지션', '투', '구분', 'FA등급', '플레이년도', '나이', '게임수',\n",
      "       '선발등판', '구원등판', '승리', '패전', '세이브', '블론세이브', '홀드', '이닝수', '자책점', '피안타',\n",
      "       '2루타허용', '3루타허용', '피홈런', '볼넷허용', '사구허용', '탈삼진', '폭투', 'ERA', 'FIP',\n",
      "       '선발 이닝', '구원 이닝', '선발 WAR', '구원 WAR', '종합 WAR', '연봉', '비고1', '잔류 여부',\n",
      "       'FA 계약 연수', 'FA 계약 총액', '사사구', '완투', '완봉', '투구수', '피장타율', '원클럽맨여부',\n",
      "       '국대출전횟수'],\n",
      "      dtype='object')\n"
     ]
    }
   ],
   "source": [
    "print(df1.columns)\n",
    "print(df2.columns)"
   ]
  },
  {
   "cell_type": "code",
   "execution_count": 9,
   "id": "33d8ceb6-c06b-4266-b001-5f7bc5454099",
   "metadata": {},
   "outputs": [],
   "source": [
    "# 데이터프레임 합치기\n",
    "df_all = pd.concat([df1, df2], ignore_index=True)"
   ]
  },
  {
   "cell_type": "code",
   "execution_count": 10,
   "id": "078716cd-478e-44cf-8fc9-54d6194c60a6",
   "metadata": {},
   "outputs": [
    {
     "name": "stdout",
     "output_type": "stream",
     "text": [
      "(409, 46)\n",
      "선수명\n",
      "우규민    13\n",
      "김상수    10\n",
      "송은범    10\n",
      "오승환     9\n",
      "양현종     9\n",
      "차우찬     9\n",
      "김광현     9\n",
      "이용찬     9\n",
      "윤성환     9\n",
      "노경은     9\n",
      "Name: count, dtype: int64\n"
     ]
    }
   ],
   "source": [
    "print(df_all.shape)  # (행, 열)\n",
    "print(df_all['선수명'].value_counts().head(10))  # 혹시 중복 있는지 확인"
   ]
  },
  {
   "cell_type": "code",
   "execution_count": 43,
   "id": "425f783d-c470-4bcc-8b61-093dc1730bbe",
   "metadata": {},
   "outputs": [
    {
     "data": {
      "text/html": [
       "<div>\n",
       "<style scoped>\n",
       "    .dataframe tbody tr th:only-of-type {\n",
       "        vertical-align: middle;\n",
       "    }\n",
       "\n",
       "    .dataframe tbody tr th {\n",
       "        vertical-align: top;\n",
       "    }\n",
       "\n",
       "    .dataframe thead th {\n",
       "        text-align: right;\n",
       "    }\n",
       "</style>\n",
       "<table border=\"1\" class=\"dataframe\">\n",
       "  <thead>\n",
       "    <tr style=\"text-align: right;\">\n",
       "      <th></th>\n",
       "      <th>구단명</th>\n",
       "      <th>플레이년도</th>\n",
       "      <th>FA년도</th>\n",
       "      <th>구분</th>\n",
       "    </tr>\n",
       "  </thead>\n",
       "  <tbody>\n",
       "    <tr>\n",
       "      <th>252</th>\n",
       "      <td>두산</td>\n",
       "      <td>2017</td>\n",
       "      <td>2018</td>\n",
       "      <td>신규</td>\n",
       "    </tr>\n",
       "    <tr>\n",
       "      <th>253</th>\n",
       "      <td>두산</td>\n",
       "      <td>2018</td>\n",
       "      <td>2019</td>\n",
       "      <td>신규</td>\n",
       "    </tr>\n",
       "    <tr>\n",
       "      <th>254</th>\n",
       "      <td>두산</td>\n",
       "      <td>2019</td>\n",
       "      <td>2020</td>\n",
       "      <td>신규</td>\n",
       "    </tr>\n",
       "    <tr>\n",
       "      <th>255</th>\n",
       "      <td>두산</td>\n",
       "      <td>2020</td>\n",
       "      <td>2021</td>\n",
       "      <td>신규</td>\n",
       "    </tr>\n",
       "    <tr>\n",
       "      <th>256</th>\n",
       "      <td>NC</td>\n",
       "      <td>2021</td>\n",
       "      <td>2022</td>\n",
       "      <td>FA 1년차</td>\n",
       "    </tr>\n",
       "    <tr>\n",
       "      <th>402</th>\n",
       "      <td>NC</td>\n",
       "      <td>2022</td>\n",
       "      <td>2023</td>\n",
       "      <td>재자격</td>\n",
       "    </tr>\n",
       "    <tr>\n",
       "      <th>403</th>\n",
       "      <td>NC</td>\n",
       "      <td>2023</td>\n",
       "      <td>2024</td>\n",
       "      <td>재자격</td>\n",
       "    </tr>\n",
       "    <tr>\n",
       "      <th>404</th>\n",
       "      <td>NC</td>\n",
       "      <td>2024</td>\n",
       "      <td>2025</td>\n",
       "      <td>재자격</td>\n",
       "    </tr>\n",
       "  </tbody>\n",
       "</table>\n",
       "</div>"
      ],
      "text/plain": [
       "    구단명  플레이년도  FA년도      구분\n",
       "252  두산   2017  2018      신규\n",
       "253  두산   2018  2019      신규\n",
       "254  두산   2019  2020      신규\n",
       "255  두산   2020  2021      신규\n",
       "256  NC   2021  2022  FA 1년차\n",
       "402  NC   2022  2023     재자격\n",
       "403  NC   2023  2024     재자격\n",
       "404  NC   2024  2025     재자격"
      ]
     },
     "execution_count": 43,
     "metadata": {},
     "output_type": "execute_result"
    }
   ],
   "source": [
    "df_all[df_all['선수명'] == '이용찬'][['구단명', '플레이년도', 'FA년도', '구분']]"
   ]
  },
  {
   "cell_type": "code",
   "execution_count": 12,
   "id": "21f58b81-bda5-47c5-a857-9f4eaa0a7478",
   "metadata": {},
   "outputs": [],
   "source": [
    "# 김상수 2020, 2021 / 우규민 2021 / 이용찬 2021 중복"
   ]
  },
  {
   "cell_type": "code",
   "execution_count": 29,
   "id": "7bb9ba93-430e-49a3-811b-00a57197604b",
   "metadata": {},
   "outputs": [],
   "source": [
    "# 삭제 조건 정의\n",
    "drop_idx = df_all[\n",
    "    ((df_all['선수명'] == '김상수') & (df_all['플레이년도'] == 2020) & (df_all['구분'] == '다년계약')) |\n",
    "    ((df_all['선수명'] == '김상수') & (df_all['플레이년도'] == 2021) & (df_all['구분'] == '다년계약'))\n",
    "].index\n",
    "\n",
    "# 삭제\n",
    "df_all.drop(index=drop_idx, inplace=True)"
   ]
  },
  {
   "cell_type": "code",
   "execution_count": 37,
   "id": "14bc6fe5-6871-4cf7-80bf-1f3b7a0beffe",
   "metadata": {},
   "outputs": [],
   "source": [
    "# 삭제 조건 정의\n",
    "drop_idx = df_all[\n",
    "    ((df_all['선수명'] == '우규민') & (df_all['플레이년도'] == 2021) & (df_all['구분'] == '재자격'))\n",
    "   \n",
    "].index\n",
    "\n",
    "# 삭제\n",
    "df_all.drop(index=drop_idx, inplace=True)"
   ]
  },
  {
   "cell_type": "code",
   "execution_count": 41,
   "id": "bf88b3f7-0d52-4b84-8608-1ed98f248c4f",
   "metadata": {},
   "outputs": [],
   "source": [
    "# 삭제 조건 정의\n",
    "drop_idx = df_all[\n",
    "    ((df_all['선수명'] == '이용찬') & (df_all['플레이년도'] == 2021) & (df_all['구분'] == '재자격'))\n",
    "   \n",
    "].index\n",
    "\n",
    "# 삭제\n",
    "df_all.drop(index=drop_idx, inplace=True)"
   ]
  },
  {
   "cell_type": "markdown",
   "id": "3baa5eed-0cf0-4028-8a17-373639649be6",
   "metadata": {},
   "source": [
    "- 해외계약, FA 1년차 row 제거"
   ]
  },
  {
   "cell_type": "code",
   "execution_count": 66,
   "id": "71c8eb51-8cb6-4173-8467-6e1a746ec63b",
   "metadata": {},
   "outputs": [],
   "source": [
    "# 1. FA 1년차 제거\n",
    "mask_fa1 = df_all['구분'] == 'FA 1년차'\n",
    "\n",
    "# 2. '해외'가 들어간 구분 제거\n",
    "mask_oversea = df_all['구분'].astype(str).str.contains('해외', na=False)\n",
    "\n",
    "# 3. 둘 다 제외한 데이터 만들기\n",
    "df_cleaned = df_all[~(mask_fa1 | mask_oversea)].copy()"
   ]
  },
  {
   "cell_type": "code",
   "execution_count": 68,
   "id": "f71092eb-ecf2-4ac3-81bb-7aa1b4540162",
   "metadata": {},
   "outputs": [
    {
     "name": "stdout",
     "output_type": "stream",
     "text": [
      "원본 행 수: 405\n",
      "제거 후 행 수: 328\n",
      "제거된 행 수: 77\n"
     ]
    }
   ],
   "source": [
    "print(f\"원본 행 수: {len(df_all)}\")\n",
    "print(f\"제거 후 행 수: {len(df_cleaned)}\")\n",
    "print(f\"제거된 행 수: {len(df_all) - len(df_cleaned)}\")"
   ]
  },
  {
   "cell_type": "code",
   "execution_count": 70,
   "id": "ac3e5079-e25e-4868-a277-9688dcc77049",
   "metadata": {},
   "outputs": [],
   "source": [
    "# 저장\n",
    "df_cleaned.to_csv(\"../../data/FA_투수_기존+2025.csv\", index=False, encoding='utf-8-sig')"
   ]
  },
  {
   "cell_type": "code",
   "execution_count": null,
   "id": "53d61006-ec6c-48f7-a07d-358f1071c437",
   "metadata": {},
   "outputs": [],
   "source": []
  }
 ],
 "metadata": {
  "kernelspec": {
   "display_name": "Python [conda env:base] *",
   "language": "python",
   "name": "conda-base-py"
  },
  "language_info": {
   "codemirror_mode": {
    "name": "ipython",
    "version": 3
   },
   "file_extension": ".py",
   "mimetype": "text/x-python",
   "name": "python",
   "nbconvert_exporter": "python",
   "pygments_lexer": "ipython3",
   "version": "3.12.7"
  }
 },
 "nbformat": 4,
 "nbformat_minor": 5
}
