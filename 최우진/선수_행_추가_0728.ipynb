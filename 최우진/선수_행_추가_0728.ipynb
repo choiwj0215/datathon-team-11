{
 "cells": [
  {
   "cell_type": "code",
   "execution_count": null,
   "id": "c485162f-8764-4555-b3e7-622b571ecbf3",
   "metadata": {},
   "outputs": [],
   "source": [
    "import pandas as pd\n",
    "import numpy as np\n",
    "import matplotlib.pyplot as plt\n",
    "import seaborn as sns\n",
    "\n",
    "import gc\n",
    "import glob\n",
    "\n",
    "# 그래프 기본 테마 설정\n",
    "# https://coldbrown.co.kr/2023/07/%ED%8C%8C%EC%9D%B4%EC%8D%AC-%EC%8B%A4%EC%A0%84%ED%8E%B8-08-seaborn-sns-set%EC%9D%84-%ED%86%B5%ED%95%B4-%EC%8A%A4%ED%83%80%EC%9D%BC-%EC%84%A4%EC%A0%95%ED%95%98%EA%B8%B0/\n",
    "sns.set()\n",
    "\n",
    "# 그래프 기본 설정\n",
    "plt.rcParams['font.family'] = 'Malgun Gothic'\n",
    "# plt.rcParams['font.family'] = 'AppleGothic'\n",
    "plt.rcParams['figure.figsize'] = 12, 6\n",
    "plt.rcParams['font.size'] = 14\n",
    "plt.rcParams['axes.unicode_minus'] = False\n",
    "\n",
    "\n",
    "# 복잡한 통계 처리를 위한 라이브러리\n",
    "from scipy import stats"
   ]
  },
  {
   "cell_type": "code",
   "execution_count": null,
   "id": "8070f20f-2036-4f39-81c1-7ab40308954d",
   "metadata": {},
   "outputs": [],
   "source": [
    "df1 = pd.read_csv('KBO FA 투수 [2013-2024]_최종_전처리+파생완료.csv', encoding='utf-8')"
   ]
  },
  {
   "cell_type": "code",
   "execution_count": null,
   "id": "7917a1c9-1a57-424b-b6b1-d3dfbfcf2c0b",
   "metadata": {},
   "outputs": [],
   "source": [
    "df1.dtypes"
   ]
  },
  {
   "cell_type": "code",
   "execution_count": null,
   "id": "31a2d358-6659-480a-a42d-0d19c1f15def",
   "metadata": {},
   "outputs": [],
   "source": [
    "# 15 윤석민 (fa 1년차)+ 계약 규모\n",
    "# 15 송은범 (fa 1년차)\n",
    "# 노경은 1차 fa 계약규모+ 2차 fa 관련 기록 \n",
    "# 22 양현종 (fa 1년차)+ 계약 규모"
   ]
  },
  {
   "cell_type": "markdown",
   "id": "9c2dbefa-a725-4e9a-b8b4-247257ee0f15",
   "metadata": {},
   "source": [
    "## 15 윤석민 (fa 1년차)+ 계약 규모"
   ]
  },
  {
   "cell_type": "code",
   "execution_count": null,
   "id": "8ac501b4-b68f-4e6e-94ea-0cab943a0e7c",
   "metadata": {},
   "outputs": [],
   "source": [
    "# 15 윤석민 (fa 1년차)+ 계약 규모\n",
    "df1[df1['선수명'] == '윤석민'].index"
   ]
  },
  {
   "cell_type": "code",
   "execution_count": null,
   "id": "f5ce0c4a-ea9a-4cac-814d-350d9bf7f3bc",
   "metadata": {},
   "outputs": [],
   "source": [
    "len(df1)"
   ]
  },
  {
   "cell_type": "code",
   "execution_count": null,
   "id": "3cf49bf4-b018-47b3-b330-2cd6f810fb05",
   "metadata": {},
   "outputs": [],
   "source": [
    "df2 = df1.copy()"
   ]
  },
  {
   "cell_type": "code",
   "execution_count": null,
   "id": "5e063305-a819-4064-b9f4-43d47c963e03",
   "metadata": {},
   "outputs": [],
   "source": [
    "df2.loc[193, ['FA 계약 연수', 'FA 계약 총액']] = [4, 900000]"
   ]
  },
  {
   "cell_type": "code",
   "execution_count": null,
   "id": "f7dbc171-046d-4a55-93b7-8ba0317d30e9",
   "metadata": {},
   "outputs": [],
   "source": [
    "new_row = {'FA년도': 2016, \n",
    "           '구단명':'KIA',\n",
    "          '선수명': '윤석민',\n",
    "          '세부 포지션': 'CP',\n",
    "          '투':'우투',\n",
    "          '구분':'FA 1년차',\n",
    "          'FA등급':'A',\n",
    "          '플레이년도':2015,\n",
    "          '나이': 29,\n",
    "          '게임수':51,\n",
    "          '선발등판':0,\n",
    "          '구원등판':51,\n",
    "          '승리':2,\n",
    "          '패전':6,\n",
    "          '세이브':30,\n",
    "          '블론세이브': 8,\n",
    "          '홀드':0,\n",
    "          '블론홀드':0,\n",
    "          '이닝수':70,\n",
    "          '자책점':23,\n",
    "          '피안타':69,\n",
    "          '2루타허용':11,\n",
    "          '3루타허용':4,\n",
    "          '피홈런':4,\n",
    "          '볼넷허용':24,\n",
    "          '사구허용':2,\n",
    "          '탈삼진':68,\n",
    "          '폭투':1,\n",
    "          'ERA':2.96,\n",
    "          'FIP':3.23,\n",
    "          '선발 이닝':0,\n",
    "          '구원 이닝':70,\n",
    "          '선발 WAR':0,\n",
    "          '구원 WAR':2.26,\n",
    "          '종합 WAR':2.26,\n",
    "          '연봉':125000,\n",
    "          '비고1':'고졸',\n",
    "          '잔류 여부':'잔류',\n",
    "          'FA 계약 연수':0,\n",
    "          'FA 계약 총액':0,\n",
    "          '사사구':24,\n",
    "          '완투':0,\n",
    "          '완봉':0,\n",
    "          '투구수':1146,\n",
    "          '피장타율':0.385,\n",
    "          '원클럽맨여부':1,\n",
    "          '득점파크팩터':1011,\n",
    "          '홈런파크팩터':1019,\n",
    "          '장타파크팩터':1006,\n",
    "          '국대출전횟수':5,\n",
    "          '구종1':'포심',\n",
    "          '구종2':'슬라',\n",
    "          '구종1 구종가치':10,}\n",
    "\n",
    "# 삽입할 위치 (예: 인덱스 2번 자리에 추가)\n",
    "insert_at = 194\n",
    "\n",
    "# 위/아래로 나눠서 concat\n",
    "df_top = df2.iloc[:insert_at]\n",
    "df_bottom = df2.iloc[insert_at:]\n",
    "\n",
    "# 새 행을 데이터프레임으로 만들어서 붙임\n",
    "df2 = pd.concat([df_top, pd.DataFrame([new_row]), df_bottom], ignore_index=True)"
   ]
  },
  {
   "cell_type": "code",
   "execution_count": null,
   "id": "1673e1c0-cf8e-429f-a0b7-5224b298cd1d",
   "metadata": {},
   "outputs": [],
   "source": [
    "len(df2)"
   ]
  },
  {
   "cell_type": "code",
   "execution_count": null,
   "id": "fc6ab69d-cd87-44e6-b815-68e88e3e6785",
   "metadata": {},
   "outputs": [],
   "source": [
    "df2.loc[194, '플레이년도']"
   ]
  },
  {
   "cell_type": "markdown",
   "id": "c90c0e33-00e9-41a2-9826-d7a1970037bc",
   "metadata": {},
   "source": [
    "## 15 송은범 (fa 1년차)"
   ]
  },
  {
   "cell_type": "code",
   "execution_count": null,
   "id": "d485e6ae-668e-4b1d-88d2-92329fb5fb7b",
   "metadata": {},
   "outputs": [],
   "source": [
    "df2[df2['선수명'] == '송은범'].index"
   ]
  },
  {
   "cell_type": "code",
   "execution_count": null,
   "id": "ad99e783-49ff-442c-bb7b-e8a60e76af14",
   "metadata": {},
   "outputs": [],
   "source": [
    "new_row = {'FA년도': 2016, \n",
    "           '구단명':'한화',\n",
    "          '선수명': '송은범',\n",
    "          '세부 포지션': 'RP',\n",
    "          '투':'우투',\n",
    "          '구분':'FA 1년차',\n",
    "          'FA등급':'A',\n",
    "          '플레이년도':2015,\n",
    "          '나이': 31,\n",
    "          '게임수':33,\n",
    "          '선발등판':14,\n",
    "          '구원등판':19,\n",
    "          '승리':2,\n",
    "          '패전':9,\n",
    "          '세이브':4,\n",
    "          '블론세이브': 1,\n",
    "          '홀드':1,\n",
    "          '블론홀드':0,\n",
    "          '이닝수':70.1,\n",
    "          '자책점':55,\n",
    "          '피안타':103,\n",
    "          '2루타허용':22,\n",
    "          '3루타허용':2,\n",
    "          '피홈런':10,\n",
    "          '볼넷허용':30,\n",
    "          '사구허용':4,\n",
    "          '탈삼진':48,\n",
    "          '폭투':11,\n",
    "          'ERA':7.04,\n",
    "          'FIP':5.58,\n",
    "          '선발 이닝':47,\n",
    "          '구원 이닝':23.1,\n",
    "          '선발 WAR':-0.44,\n",
    "          '구원 WAR':0.48,\n",
    "          '종합 WAR':0.04,\n",
    "          '연봉':45000,\n",
    "          '비고1':'고졸',\n",
    "          '잔류 여부':'이적',\n",
    "          'FA 계약 연수':0,\n",
    "          'FA 계약 총액':0,\n",
    "          '사사구':34,\n",
    "          '완투':0,\n",
    "          '완봉':0,\n",
    "          '투구수':1318,\n",
    "          '피장타율':0.530,\n",
    "          '원클럽맨여부':0,\n",
    "          '득점파크팩터':1015,\n",
    "          '홈런파크팩터':1002,\n",
    "          '장타파크팩터':997,\n",
    "          '국대출전횟수':1,\n",
    "          '구종1':'포심',\n",
    "          '구종2':'슬라',\n",
    "          '구종1 구종가치':-1.3,}\n",
    "\n",
    "# 삽입할 위치 (예: 인덱스 2번 자리에 추가)\n",
    "insert_at = 114\n",
    "\n",
    "# 위/아래로 나눠서 concat\n",
    "df_top = df2.iloc[:insert_at]\n",
    "df_bottom = df2.iloc[insert_at:]\n",
    "\n",
    "# 새 행을 데이터프레임으로 만들어서 붙임\n",
    "df2 = pd.concat([df_top, pd.DataFrame([new_row]), df_bottom], ignore_index=True)"
   ]
  },
  {
   "cell_type": "markdown",
   "id": "bd10237a-ba5e-4b0c-9be6-9e709770062f",
   "metadata": {},
   "source": [
    "### 노경은 1차 fa 계약규모+ fa 1년차 추가"
   ]
  },
  {
   "cell_type": "code",
   "execution_count": null,
   "id": "b694f5b2-af9c-4d57-a021-822b40a47456",
   "metadata": {},
   "outputs": [],
   "source": [
    "df2[df2['선수명'] == '노경은'].index"
   ]
  },
  {
   "cell_type": "code",
   "execution_count": null,
   "id": "62a80f78-b134-482c-a373-e79681107e25",
   "metadata": {},
   "outputs": [],
   "source": [
    "new_row = {'FA년도': 2021, \n",
    "           '구단명':'롯데',\n",
    "          '선수명': '노경은',\n",
    "          '세부 포지션': 'SP',\n",
    "          '투':'우투',\n",
    "          '구분':'FA 1년차',\n",
    "          'FA등급':'A',\n",
    "          '플레이년도':2020,\n",
    "          '나이': 36,\n",
    "          '게임수':25,\n",
    "          '선발등판':24,\n",
    "          '구원등판':1,\n",
    "          '승리':5,\n",
    "          '패전':10,\n",
    "          '세이브':0,\n",
    "          '블론세이브': 0,\n",
    "          '홀드':0,\n",
    "          '블론홀드':0,\n",
    "          '이닝수':133,\n",
    "          '자책점':72,\n",
    "          '피안타':139,\n",
    "          '2루타허용':31,\n",
    "          '3루타허용':1,\n",
    "          '피홈런':19,\n",
    "          '볼넷허용':40,\n",
    "          '사구허용':3,\n",
    "          '탈삼진':77,\n",
    "          '폭투':3,\n",
    "          'ERA':4.87,\n",
    "          'FIP':5.20,\n",
    "          '선발 이닝':131.2,\n",
    "          '구원 이닝':1.1,\n",
    "          '선발 WAR':3.20,\n",
    "          '구원 WAR':-0.27,\n",
    "          '종합 WAR':2.93,\n",
    "          '연봉':20000,\n",
    "          '비고1':'고졸',\n",
    "          '잔류 여부':'잔류',\n",
    "          'FA 계약 연수':2,\n",
    "          'FA 계약 총액':110000,\n",
    "          '사사구':43,\n",
    "          '완투':1,\n",
    "          '완봉':0,\n",
    "          '투구수':2138,\n",
    "          '피장타율':0.440,\n",
    "          '원클럽맨여부':0,\n",
    "          '득점파크팩터':1043,\n",
    "          '홈런파크팩터':1047,\n",
    "          '장타파크팩터':1062,\n",
    "          '국대출전횟수':1,\n",
    "          '구종1':'슬라',\n",
    "          '구종2':'첸접',\n",
    "          '구종1 구종가치':8.3}\n",
    "    \n",
    "    \n",
    "\n",
    "\n",
    "# 삽입할 위치 (예: 인덱스 2번 자리에 추가)\n",
    "insert_at = 67\n",
    "\n",
    "# 위/아래로 나눠서 concat\n",
    "df_top = df2.iloc[:insert_at]\n",
    "df_bottom = df2.iloc[insert_at:]\n",
    "\n",
    "\n",
    "df2 = pd.concat([df_top, pd.DataFrame([new_row]), df_bottom], ignore_index=True)\n",
    "\n"
   ]
  },
  {
   "cell_type": "code",
   "execution_count": null,
   "id": "1b8b2e65-bd53-4ddd-8335-04a79e4162a2",
   "metadata": {},
   "outputs": [],
   "source": [
    "df2.loc[67, '플레이년도']"
   ]
  },
  {
   "cell_type": "markdown",
   "id": "04bf8caa-db63-4082-9adb-c3cd1d3d29d1",
   "metadata": {},
   "source": [
    "### # 22 양현종 (fa 1년차)+ 계약 규모"
   ]
  },
  {
   "cell_type": "code",
   "execution_count": null,
   "id": "f014583b-2362-4b8e-a8ae-7cac53344053",
   "metadata": {},
   "outputs": [],
   "source": [
    "df2[df2['선수명'] == '양현종'].index"
   ]
  },
  {
   "cell_type": "code",
   "execution_count": null,
   "id": "4334f071-877b-409e-8f0a-2646bd01b1c5",
   "metadata": {},
   "outputs": [],
   "source": [
    "new_row = {'FA년도': 2023, \n",
    "           '구단명':'KIA',\n",
    "          '선수명': '양현종',\n",
    "          '세부 포지션': 'SP',\n",
    "          '투':'좌투',\n",
    "          '구분':'FA 1년차',\n",
    "          'FA등급':'B',\n",
    "          '플레이년도':2022,\n",
    "          '나이': 34,\n",
    "          '게임수':30,\n",
    "          '선발등판':30,\n",
    "          '구원등판':0,\n",
    "          '승리':12,\n",
    "          '패전':7,\n",
    "          '세이브':0,\n",
    "          '블론세이브': 0,\n",
    "          '홀드':0,\n",
    "          '블론홀드':0,\n",
    "          '이닝수':175.1,\n",
    "          '자책점':75,\n",
    "          '피안타':170,\n",
    "          '2루타허용':33,\n",
    "          '3루타허용':3,\n",
    "          '피홈런':14,\n",
    "          '볼넷허용':50,\n",
    "          '사구허용':3,\n",
    "          '탈삼진':141,\n",
    "          '폭투':3,\n",
    "          'ERA':3.85,\n",
    "          'FIP':3.66,\n",
    "          '선발 이닝':175.1,\n",
    "          '구원 이닝':0,\n",
    "          '선발 WAR':3.46,\n",
    "          '구원 WAR':0,\n",
    "          '종합 WAR':3.46,\n",
    "          '연봉':100000,\n",
    "          '비고1':'고졸',\n",
    "          '잔류 여부':'잔류',\n",
    "          'FA 계약 연수':4,\n",
    "          'FA 계약 총액':1070000,\n",
    "          '사사구':53,\n",
    "          '완투':0,\n",
    "          '완봉':0,\n",
    "          '투구수':2856,\n",
    "          '피장타율':0.374,\n",
    "          '원클럽맨여부':1,\n",
    "          '득점파크팩터':989,\n",
    "          '홈런파크팩터':1013,\n",
    "          '장타파크팩터':1000,\n",
    "          '국대출전횟수':6,\n",
    "          '구종1':'포심',\n",
    "          '구종2':'슬라',\n",
    "          '구종1 구종가치':4.7}\n",
    "    \n",
    "    \n",
    "\n",
    "\n",
    "# 삽입할 위치 (예: 인덱스 2번 자리에 추가)\n",
    "insert_at = 145\n",
    "\n",
    "# 위/아래로 나눠서 concat\n",
    "df_top = df2.iloc[:insert_at]\n",
    "df_bottom = df2.iloc[insert_at:]\n",
    "\n",
    "\n",
    "df2= pd.concat([df_top, pd.DataFrame([new_row]), df_bottom], ignore_index=True)\n"
   ]
  },
  {
   "cell_type": "code",
   "execution_count": null,
   "id": "2fff8441-21b9-406d-a2c1-6516faad2d06",
   "metadata": {},
   "outputs": [],
   "source": [
    "df2.to_csv('KBO FA 투수 [2013-2024]_최종_전처리+행추가.csv', index = False)"
   ]
  },
  {
   "cell_type": "code",
   "execution_count": null,
   "id": "fcf80f5a-ad41-434f-9be2-5cb0e9440269",
   "metadata": {},
   "outputs": [],
   "source": []
  }
 ],
 "metadata": {
  "kernelspec": {
   "display_name": "Python [conda env:base] *",
   "language": "python",
   "name": "conda-base-py"
  },
  "language_info": {
   "codemirror_mode": {
    "name": "ipython",
    "version": 3
   },
   "file_extension": ".py",
   "mimetype": "text/x-python",
   "name": "python",
   "nbconvert_exporter": "python",
   "pygments_lexer": "ipython3",
   "version": "3.12.7"
  }
 },
 "nbformat": 4,
 "nbformat_minor": 5
}
