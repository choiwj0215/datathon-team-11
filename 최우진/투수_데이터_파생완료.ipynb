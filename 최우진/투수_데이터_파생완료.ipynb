{
 "cells": [
  {
   "cell_type": "code",
   "execution_count": 1,
   "id": "cb574d5d-23ae-441f-8ff4-e8cd517b3e97",
   "metadata": {},
   "outputs": [],
   "source": [
    "import pandas as pd\n",
    "import numpy as np\n",
    "import matplotlib.pyplot as plt\n",
    "import seaborn as sns\n",
    "\n",
    "import gc\n",
    "import glob\n",
    "\n",
    "# 그래프 기본 테마 설정\n",
    "# https://coldbrown.co.kr/2023/07/%ED%8C%8C%EC%9D%B4%EC%8D%AC-%EC%8B%A4%EC%A0%84%ED%8E%B8-08-seaborn-sns-set%EC%9D%84-%ED%86%B5%ED%95%B4-%EC%8A%A4%ED%83%80%EC%9D%BC-%EC%84%A4%EC%A0%95%ED%95%98%EA%B8%B0/\n",
    "sns.set()\n",
    "\n",
    "# 그래프 기본 설정\n",
    "plt.rcParams['font.family'] = 'Malgun Gothic'\n",
    "# plt.rcParams['font.family'] = 'AppleGothic'\n",
    "plt.rcParams['figure.figsize'] = 12, 6\n",
    "plt.rcParams['font.size'] = 14\n",
    "plt.rcParams['axes.unicode_minus'] = False\n",
    "\n",
    "\n",
    "# 복잡한 통계 처리를 위한 라이브러리\n",
    "from scipy import stats"
   ]
  },
  {
   "cell_type": "code",
   "execution_count": 2,
   "id": "e2abc153-5072-489e-9a3c-20aa12ba6259",
   "metadata": {},
   "outputs": [],
   "source": [
    "df1 = pd.read_csv('data/KBO FA 투수 [2013-2024]_최종_전처리+파생.csv', encoding='utf_8')"
   ]
  },
  {
   "cell_type": "code",
   "execution_count": 3,
   "id": "e9c19d3a-7e03-4295-b07c-7916644e8375",
   "metadata": {},
   "outputs": [],
   "source": [
    "df2 = pd.read_csv('data/파크팩터.csv', encoding='cp949')"
   ]
  },
  {
   "cell_type": "code",
   "execution_count": 4,
   "id": "d69d9be3-cea5-45e6-a339-0a5c05fd7393",
   "metadata": {},
   "outputs": [],
   "source": [
    "df3 = pd.read_csv('data/국대출전선수.csv', encoding='cp949')"
   ]
  },
  {
   "cell_type": "code",
   "execution_count": 5,
   "id": "4f568f80-201d-44f7-906f-fba9ff4754fe",
   "metadata": {},
   "outputs": [],
   "source": [
    "df4 = pd.read_csv('data/구종가치.csv', encoding='utf-8')"
   ]
  },
  {
   "cell_type": "code",
   "execution_count": 6,
   "id": "22ef1524-e254-47f5-8717-8f49324e6380",
   "metadata": {},
   "outputs": [
    {
     "data": {
      "text/plain": [
       "Index(['FA년도', '구단명', '선수명', '세부 포지션', '투', '구분', 'FA등급', '플레이년도', '나이', '게임수',\n",
       "       '선발등판', '구원등판', '승리', '패전', '세이브', '블론세이브', '홀드', '블론홀드', '이닝수', '자책점',\n",
       "       '피안타', '2루타허용', '3루타허용', '피홈런', '볼넷허용', '사구허용', '탈삼진', '폭투', 'ERA',\n",
       "       'FIP', '선발 이닝', '구원 이닝', '선발 WAR', '구원 WAR', '종합 WAR', '연봉', '비고1',\n",
       "       '잔류 여부', 'FA 계약 연수', 'FA 계약 총액', '사사구', '완투', '완봉', '투구수', '피장타율',\n",
       "       '원클럽맨여부'],\n",
       "      dtype='object')"
      ]
     },
     "execution_count": 6,
     "metadata": {},
     "output_type": "execute_result"
    }
   ],
   "source": [
    "df1.columns"
   ]
  },
  {
   "cell_type": "code",
   "execution_count": 7,
   "id": "e353d691-f8a6-4cbd-b44b-a00bb15d7a8e",
   "metadata": {},
   "outputs": [
    {
     "data": {
      "text/plain": [
       "array(['강영식', '강윤구', '고효준', '권오준', '권혁', '금민철', '김광현', '김대우', '김사율',\n",
       "       '김상수', '김승회', '김재윤', '김진성', '노경은', '마일영', '마정길', '박정진', '배영수',\n",
       "       '백정현', '봉중근', '손승락', '송승준', '송은범', '심수창', '안영명', '안지만', '양현종',\n",
       "       '오승환', '오주원', '우규민', '원종현', '유동훈', '유희관', '윤규진', '윤길현', '윤석민',\n",
       "       '윤성환', '이동현', '이보근', '이용찬', '이재영', '이재학', '이정훈', '이태양', '이현승',\n",
       "       '임찬규', '임창민', '장민재', '장시환', '장원삼', '장원준', '정우람', '정찬헌', '정현욱',\n",
       "       '주권', '진해수', '차우찬', '채병용', '한현희', '함덕주', '홍건희', '문승원', '박종훈',\n",
       "       '박세웅', '류현진', '고영표', '구창모'], dtype=object)"
      ]
     },
     "execution_count": 7,
     "metadata": {},
     "output_type": "execute_result"
    }
   ],
   "source": [
    "df1['선수명'].unique()"
   ]
  },
  {
   "cell_type": "code",
   "execution_count": 9,
   "id": "121ebb68-0dd9-4a3c-b89b-a6c7be70ca54",
   "metadata": {},
   "outputs": [
    {
     "name": "stdout",
     "output_type": "stream",
     "text": [
      "   FA년도 구단명  선수명 세부 포지션   투      구분 FA등급  플레이년도    나이   게임수  ...  FA 계약 총액  \\\n",
      "0  2011  롯데  강영식     RP  좌투    자격유지    A   2010  29.0  63.0  ...       0.0   \n",
      "1  2012  롯데  강영식     RP  좌투    자격유지    A   2011  30.0  64.0  ...       0.0   \n",
      "2  2013  롯데  강영식     RP  좌투    자격유지    A   2012  31.0  55.0  ...       0.0   \n",
      "3  2014  롯데  강영식     RP  좌투    자격유지    A   2013  32.0  55.0  ...  170000.0   \n",
      "4  2015  롯데  강영식     RP  좌투  FA 1년차    A   2014  33.0  52.0  ...       0.0   \n",
      "\n",
      "    사사구  완투  완봉  투구수   피장타율  원클럽맨여부  득점파크팩터  홈런파크팩터  장타파크팩터  \n",
      "0  25.0   0   0  907  0.412     0.0  1032.0  1128.0  1093.0  \n",
      "1  24.0   0   0  731  0.360     0.0  1044.0  1128.0  1093.0  \n",
      "2  19.0   0   0  757  0.340     0.0  1033.0  1128.0  1093.0  \n",
      "3  21.0   0   0  675  0.298     0.0  1058.0  1128.0  1093.0  \n",
      "4  26.0   0   0  813  0.393     0.0  1045.0  1102.0  1062.0  \n",
      "\n",
      "[5 rows x 49 columns]\n"
     ]
    }
   ],
   "source": [
    "# 파크팩터 병합\n",
    "merge_cols = ['플레이년도', '구단명']\n",
    "factor_cols = ['득점파크팩터', '홈런파크팩터', '장타파크팩터']\n",
    "\n",
    "# 병합 수행 (left join: df1 기준, df2 정보 가져오기)\n",
    "merged_df = pd.merge(df1, df2[merge_cols + factor_cols], on=merge_cols, how='left')\n",
    "\n",
    "# 결과 확인\n",
    "print(merged_df.head())"
   ]
  },
  {
   "cell_type": "code",
   "execution_count": 11,
   "id": "5515fd92-c2ac-4a8d-9644-cb3ec5f4ba9e",
   "metadata": {},
   "outputs": [
    {
     "data": {
      "text/plain": [
       "6"
      ]
     },
     "execution_count": 11,
     "metadata": {},
     "output_type": "execute_result"
    }
   ],
   "source": [
    "#미국 선수들 파크팩터는 nan\n",
    "merged_df['득점파크팩터'].isna().sum()"
   ]
  },
  {
   "cell_type": "code",
   "execution_count": 12,
   "id": "80bf616e-65b2-435b-b128-3353c1fa1366",
   "metadata": {},
   "outputs": [
    {
     "data": {
      "text/plain": [
       "6"
      ]
     },
     "execution_count": 12,
     "metadata": {},
     "output_type": "execute_result"
    }
   ],
   "source": [
    "merged_df['홈런파크팩터'].isna().sum()"
   ]
  },
  {
   "cell_type": "code",
   "execution_count": 13,
   "id": "a25355b9-83a7-47f2-877f-c0a27868958f",
   "metadata": {},
   "outputs": [
    {
     "data": {
      "text/plain": [
       "6"
      ]
     },
     "execution_count": 13,
     "metadata": {},
     "output_type": "execute_result"
    }
   ],
   "source": [
    "merged_df['장타파크팩터'].isna().sum()"
   ]
  },
  {
   "cell_type": "code",
   "execution_count": 14,
   "id": "e3d12146-e7de-45b9-b297-c5debcc5e5a1",
   "metadata": {},
   "outputs": [],
   "source": [
    "#df_merged.to_csv('파크팩터 추가.csv')"
   ]
  },
  {
   "cell_type": "code",
   "execution_count": 15,
   "id": "96d9fdcb-7eee-4d3e-a8b5-193537d953d8",
   "metadata": {
    "scrolled": true
   },
   "outputs": [
    {
     "name": "stdout",
     "output_type": "stream",
     "text": [
      "     FA년도 구단명  선수명 세부 포지션   투      구분  FA등급  플레이년도    나이   게임수  ...   사사구  완투  \\\n",
      "0    2011  롯데  강영식     RP  좌투    자격유지     A   2010  29.0  63.0  ...  25.0   0   \n",
      "1    2012  롯데  강영식     RP  좌투    자격유지     A   2011  30.0  64.0  ...  24.0   0   \n",
      "2    2013  롯데  강영식     RP  좌투    자격유지     A   2012  31.0  55.0  ...  19.0   0   \n",
      "3    2014  롯데  강영식     RP  좌투    자격유지     A   2013  32.0  55.0  ...  21.0   0   \n",
      "4    2015  롯데  강영식     RP  좌투  FA 1년차     A   2014  33.0  52.0  ...  26.0   0   \n",
      "..    ...  ..  ...    ...  ..     ...   ...    ...   ...   ...  ...   ...  ..   \n",
      "360  2019  NC  구창모     SP  좌투    다년계약  다년계약   2018  21.0  36.0  ...  59.0   0   \n",
      "361  2020  NC  구창모     SP  좌투    다년계약  다년계약   2019  22.0  23.0  ...  47.0   0   \n",
      "362  2021  NC  구창모     SP  좌투    다년계약  다년계약   2020  23.0  15.0  ...  18.0   0   \n",
      "363  2023  NC  구창모     SP  좌투    다년계약  다년계약   2022  25.0  19.0  ...  33.0   0   \n",
      "364  2024  NC  구창모     SP  좌투  FA 1년차  다년계약   2023  26.0  11.0  ...  16.0   0   \n",
      "\n",
      "     완봉   투구수   피장타율  원클럽맨여부  득점파크팩터  홈런파크팩터  장타파크팩터  국대출전횟수  \n",
      "0     0   907  0.412     0.0  1032.0  1128.0  1093.0       0  \n",
      "1     0   731  0.360     0.0  1044.0  1128.0  1093.0       0  \n",
      "2     0   757  0.340     0.0  1033.0  1128.0  1093.0       0  \n",
      "3     0   675  0.298     0.0  1058.0  1128.0  1093.0       0  \n",
      "4     0   813  0.393     0.0  1045.0  1102.0  1062.0       0  \n",
      "..   ..   ...    ...     ...     ...     ...     ...     ...  \n",
      "360   0  2383  0.483     1.0  1004.0  1093.0   992.0       1  \n",
      "361   0  1780  0.338     1.0  1043.0  1084.0  1018.0       1  \n",
      "362   0  1378  0.278     1.0  1037.0  1091.0  1026.0       1  \n",
      "363   0  1756  0.314     1.0  1013.0  1095.0  1026.0       1  \n",
      "364   0   845  0.283     1.0  1005.0  1094.0  1029.0       1  \n",
      "\n",
      "[365 rows x 50 columns]\n"
     ]
    }
   ],
   "source": [
    "#국대출전횟수 병합 및 처리\n",
    "merged_df = merged_df.merge(df3, on='선수명', how='left')\n",
    "merged_df['국대출전횟수'] = merged_df['국대출전횟수'].fillna(0).astype(int)\n",
    "\n",
    "print(merged_df)"
   ]
  },
  {
   "cell_type": "code",
   "execution_count": 16,
   "id": "0f87ae07-8016-453a-803e-7e1ba4300380",
   "metadata": {},
   "outputs": [],
   "source": [
    "merged_df = merged_df.merge(df4[['선수명', '플레이년도', '구종1', '구종2', '구종1 구종가치']],\n",
    "                      on=['선수명', '플레이년도'], how='left')"
   ]
  },
  {
   "cell_type": "code",
   "execution_count": 17,
   "id": "83b5e318-9255-40d1-a373-803cf3b787d4",
   "metadata": {},
   "outputs": [
    {
     "data": {
      "text/html": [
       "<div>\n",
       "<style scoped>\n",
       "    .dataframe tbody tr th:only-of-type {\n",
       "        vertical-align: middle;\n",
       "    }\n",
       "\n",
       "    .dataframe tbody tr th {\n",
       "        vertical-align: top;\n",
       "    }\n",
       "\n",
       "    .dataframe thead th {\n",
       "        text-align: right;\n",
       "    }\n",
       "</style>\n",
       "<table border=\"1\" class=\"dataframe\">\n",
       "  <thead>\n",
       "    <tr style=\"text-align: right;\">\n",
       "      <th></th>\n",
       "      <th>FA년도</th>\n",
       "      <th>구단명</th>\n",
       "      <th>선수명</th>\n",
       "      <th>세부 포지션</th>\n",
       "      <th>투</th>\n",
       "      <th>구분</th>\n",
       "      <th>FA등급</th>\n",
       "      <th>플레이년도</th>\n",
       "      <th>나이</th>\n",
       "      <th>게임수</th>\n",
       "      <th>...</th>\n",
       "      <th>투구수</th>\n",
       "      <th>피장타율</th>\n",
       "      <th>원클럽맨여부</th>\n",
       "      <th>득점파크팩터</th>\n",
       "      <th>홈런파크팩터</th>\n",
       "      <th>장타파크팩터</th>\n",
       "      <th>국대출전횟수</th>\n",
       "      <th>구종1</th>\n",
       "      <th>구종2</th>\n",
       "      <th>구종1 구종가치</th>\n",
       "    </tr>\n",
       "  </thead>\n",
       "  <tbody>\n",
       "    <tr>\n",
       "      <th>0</th>\n",
       "      <td>2011</td>\n",
       "      <td>롯데</td>\n",
       "      <td>강영식</td>\n",
       "      <td>RP</td>\n",
       "      <td>좌투</td>\n",
       "      <td>자격유지</td>\n",
       "      <td>A</td>\n",
       "      <td>2010</td>\n",
       "      <td>29.0</td>\n",
       "      <td>63.0</td>\n",
       "      <td>...</td>\n",
       "      <td>907</td>\n",
       "      <td>0.412</td>\n",
       "      <td>0.0</td>\n",
       "      <td>1032.0</td>\n",
       "      <td>1128.0</td>\n",
       "      <td>1093.0</td>\n",
       "      <td>0</td>\n",
       "      <td>NaN</td>\n",
       "      <td>NaN</td>\n",
       "      <td>NaN</td>\n",
       "    </tr>\n",
       "    <tr>\n",
       "      <th>1</th>\n",
       "      <td>2012</td>\n",
       "      <td>롯데</td>\n",
       "      <td>강영식</td>\n",
       "      <td>RP</td>\n",
       "      <td>좌투</td>\n",
       "      <td>자격유지</td>\n",
       "      <td>A</td>\n",
       "      <td>2011</td>\n",
       "      <td>30.0</td>\n",
       "      <td>64.0</td>\n",
       "      <td>...</td>\n",
       "      <td>731</td>\n",
       "      <td>0.360</td>\n",
       "      <td>0.0</td>\n",
       "      <td>1044.0</td>\n",
       "      <td>1128.0</td>\n",
       "      <td>1093.0</td>\n",
       "      <td>0</td>\n",
       "      <td>NaN</td>\n",
       "      <td>NaN</td>\n",
       "      <td>NaN</td>\n",
       "    </tr>\n",
       "    <tr>\n",
       "      <th>2</th>\n",
       "      <td>2013</td>\n",
       "      <td>롯데</td>\n",
       "      <td>강영식</td>\n",
       "      <td>RP</td>\n",
       "      <td>좌투</td>\n",
       "      <td>자격유지</td>\n",
       "      <td>A</td>\n",
       "      <td>2012</td>\n",
       "      <td>31.0</td>\n",
       "      <td>55.0</td>\n",
       "      <td>...</td>\n",
       "      <td>757</td>\n",
       "      <td>0.340</td>\n",
       "      <td>0.0</td>\n",
       "      <td>1033.0</td>\n",
       "      <td>1128.0</td>\n",
       "      <td>1093.0</td>\n",
       "      <td>0</td>\n",
       "      <td>NaN</td>\n",
       "      <td>NaN</td>\n",
       "      <td>NaN</td>\n",
       "    </tr>\n",
       "    <tr>\n",
       "      <th>3</th>\n",
       "      <td>2014</td>\n",
       "      <td>롯데</td>\n",
       "      <td>강영식</td>\n",
       "      <td>RP</td>\n",
       "      <td>좌투</td>\n",
       "      <td>자격유지</td>\n",
       "      <td>A</td>\n",
       "      <td>2013</td>\n",
       "      <td>32.0</td>\n",
       "      <td>55.0</td>\n",
       "      <td>...</td>\n",
       "      <td>675</td>\n",
       "      <td>0.298</td>\n",
       "      <td>0.0</td>\n",
       "      <td>1058.0</td>\n",
       "      <td>1128.0</td>\n",
       "      <td>1093.0</td>\n",
       "      <td>0</td>\n",
       "      <td>포심</td>\n",
       "      <td>슬라</td>\n",
       "      <td>5.0</td>\n",
       "    </tr>\n",
       "    <tr>\n",
       "      <th>4</th>\n",
       "      <td>2015</td>\n",
       "      <td>롯데</td>\n",
       "      <td>강영식</td>\n",
       "      <td>RP</td>\n",
       "      <td>좌투</td>\n",
       "      <td>FA 1년차</td>\n",
       "      <td>A</td>\n",
       "      <td>2014</td>\n",
       "      <td>33.0</td>\n",
       "      <td>52.0</td>\n",
       "      <td>...</td>\n",
       "      <td>813</td>\n",
       "      <td>0.393</td>\n",
       "      <td>0.0</td>\n",
       "      <td>1045.0</td>\n",
       "      <td>1102.0</td>\n",
       "      <td>1062.0</td>\n",
       "      <td>0</td>\n",
       "      <td>포심</td>\n",
       "      <td>슬라</td>\n",
       "      <td>-5.6</td>\n",
       "    </tr>\n",
       "    <tr>\n",
       "      <th>...</th>\n",
       "      <td>...</td>\n",
       "      <td>...</td>\n",
       "      <td>...</td>\n",
       "      <td>...</td>\n",
       "      <td>...</td>\n",
       "      <td>...</td>\n",
       "      <td>...</td>\n",
       "      <td>...</td>\n",
       "      <td>...</td>\n",
       "      <td>...</td>\n",
       "      <td>...</td>\n",
       "      <td>...</td>\n",
       "      <td>...</td>\n",
       "      <td>...</td>\n",
       "      <td>...</td>\n",
       "      <td>...</td>\n",
       "      <td>...</td>\n",
       "      <td>...</td>\n",
       "      <td>...</td>\n",
       "      <td>...</td>\n",
       "      <td>...</td>\n",
       "    </tr>\n",
       "    <tr>\n",
       "      <th>360</th>\n",
       "      <td>2019</td>\n",
       "      <td>NC</td>\n",
       "      <td>구창모</td>\n",
       "      <td>SP</td>\n",
       "      <td>좌투</td>\n",
       "      <td>다년계약</td>\n",
       "      <td>다년계약</td>\n",
       "      <td>2018</td>\n",
       "      <td>21.0</td>\n",
       "      <td>36.0</td>\n",
       "      <td>...</td>\n",
       "      <td>2383</td>\n",
       "      <td>0.483</td>\n",
       "      <td>1.0</td>\n",
       "      <td>1004.0</td>\n",
       "      <td>1093.0</td>\n",
       "      <td>992.0</td>\n",
       "      <td>1</td>\n",
       "      <td>포심</td>\n",
       "      <td>커브</td>\n",
       "      <td>2.3</td>\n",
       "    </tr>\n",
       "    <tr>\n",
       "      <th>361</th>\n",
       "      <td>2020</td>\n",
       "      <td>NC</td>\n",
       "      <td>구창모</td>\n",
       "      <td>SP</td>\n",
       "      <td>좌투</td>\n",
       "      <td>다년계약</td>\n",
       "      <td>다년계약</td>\n",
       "      <td>2019</td>\n",
       "      <td>22.0</td>\n",
       "      <td>23.0</td>\n",
       "      <td>...</td>\n",
       "      <td>1780</td>\n",
       "      <td>0.338</td>\n",
       "      <td>1.0</td>\n",
       "      <td>1043.0</td>\n",
       "      <td>1084.0</td>\n",
       "      <td>1018.0</td>\n",
       "      <td>1</td>\n",
       "      <td>포심</td>\n",
       "      <td>슬라</td>\n",
       "      <td>17.8</td>\n",
       "    </tr>\n",
       "    <tr>\n",
       "      <th>362</th>\n",
       "      <td>2021</td>\n",
       "      <td>NC</td>\n",
       "      <td>구창모</td>\n",
       "      <td>SP</td>\n",
       "      <td>좌투</td>\n",
       "      <td>다년계약</td>\n",
       "      <td>다년계약</td>\n",
       "      <td>2020</td>\n",
       "      <td>23.0</td>\n",
       "      <td>15.0</td>\n",
       "      <td>...</td>\n",
       "      <td>1378</td>\n",
       "      <td>0.278</td>\n",
       "      <td>1.0</td>\n",
       "      <td>1037.0</td>\n",
       "      <td>1091.0</td>\n",
       "      <td>1026.0</td>\n",
       "      <td>1</td>\n",
       "      <td>포심</td>\n",
       "      <td>슬라</td>\n",
       "      <td>21.9</td>\n",
       "    </tr>\n",
       "    <tr>\n",
       "      <th>363</th>\n",
       "      <td>2023</td>\n",
       "      <td>NC</td>\n",
       "      <td>구창모</td>\n",
       "      <td>SP</td>\n",
       "      <td>좌투</td>\n",
       "      <td>다년계약</td>\n",
       "      <td>다년계약</td>\n",
       "      <td>2022</td>\n",
       "      <td>25.0</td>\n",
       "      <td>19.0</td>\n",
       "      <td>...</td>\n",
       "      <td>1756</td>\n",
       "      <td>0.314</td>\n",
       "      <td>1.0</td>\n",
       "      <td>1013.0</td>\n",
       "      <td>1095.0</td>\n",
       "      <td>1026.0</td>\n",
       "      <td>1</td>\n",
       "      <td>포심</td>\n",
       "      <td>슬라</td>\n",
       "      <td>23.4</td>\n",
       "    </tr>\n",
       "    <tr>\n",
       "      <th>364</th>\n",
       "      <td>2024</td>\n",
       "      <td>NC</td>\n",
       "      <td>구창모</td>\n",
       "      <td>SP</td>\n",
       "      <td>좌투</td>\n",
       "      <td>FA 1년차</td>\n",
       "      <td>다년계약</td>\n",
       "      <td>2023</td>\n",
       "      <td>26.0</td>\n",
       "      <td>11.0</td>\n",
       "      <td>...</td>\n",
       "      <td>845</td>\n",
       "      <td>0.283</td>\n",
       "      <td>1.0</td>\n",
       "      <td>1005.0</td>\n",
       "      <td>1094.0</td>\n",
       "      <td>1029.0</td>\n",
       "      <td>1</td>\n",
       "      <td>포심</td>\n",
       "      <td>슬라</td>\n",
       "      <td>10.9</td>\n",
       "    </tr>\n",
       "  </tbody>\n",
       "</table>\n",
       "<p>365 rows × 53 columns</p>\n",
       "</div>"
      ],
      "text/plain": [
       "     FA년도 구단명  선수명 세부 포지션   투      구분  FA등급  플레이년도    나이   게임수  ...   투구수  \\\n",
       "0    2011  롯데  강영식     RP  좌투    자격유지     A   2010  29.0  63.0  ...   907   \n",
       "1    2012  롯데  강영식     RP  좌투    자격유지     A   2011  30.0  64.0  ...   731   \n",
       "2    2013  롯데  강영식     RP  좌투    자격유지     A   2012  31.0  55.0  ...   757   \n",
       "3    2014  롯데  강영식     RP  좌투    자격유지     A   2013  32.0  55.0  ...   675   \n",
       "4    2015  롯데  강영식     RP  좌투  FA 1년차     A   2014  33.0  52.0  ...   813   \n",
       "..    ...  ..  ...    ...  ..     ...   ...    ...   ...   ...  ...   ...   \n",
       "360  2019  NC  구창모     SP  좌투    다년계약  다년계약   2018  21.0  36.0  ...  2383   \n",
       "361  2020  NC  구창모     SP  좌투    다년계약  다년계약   2019  22.0  23.0  ...  1780   \n",
       "362  2021  NC  구창모     SP  좌투    다년계약  다년계약   2020  23.0  15.0  ...  1378   \n",
       "363  2023  NC  구창모     SP  좌투    다년계약  다년계약   2022  25.0  19.0  ...  1756   \n",
       "364  2024  NC  구창모     SP  좌투  FA 1년차  다년계약   2023  26.0  11.0  ...   845   \n",
       "\n",
       "      피장타율  원클럽맨여부  득점파크팩터  홈런파크팩터  장타파크팩터  국대출전횟수  구종1  구종2  구종1 구종가치  \n",
       "0    0.412     0.0  1032.0  1128.0  1093.0       0  NaN  NaN       NaN  \n",
       "1    0.360     0.0  1044.0  1128.0  1093.0       0  NaN  NaN       NaN  \n",
       "2    0.340     0.0  1033.0  1128.0  1093.0       0  NaN  NaN       NaN  \n",
       "3    0.298     0.0  1058.0  1128.0  1093.0       0   포심   슬라       5.0  \n",
       "4    0.393     0.0  1045.0  1102.0  1062.0       0   포심   슬라      -5.6  \n",
       "..     ...     ...     ...     ...     ...     ...  ...  ...       ...  \n",
       "360  0.483     1.0  1004.0  1093.0   992.0       1   포심   커브       2.3  \n",
       "361  0.338     1.0  1043.0  1084.0  1018.0       1   포심   슬라      17.8  \n",
       "362  0.278     1.0  1037.0  1091.0  1026.0       1   포심   슬라      21.9  \n",
       "363  0.314     1.0  1013.0  1095.0  1026.0       1   포심   슬라      23.4  \n",
       "364  0.283     1.0  1005.0  1094.0  1029.0       1   포심   슬라      10.9  \n",
       "\n",
       "[365 rows x 53 columns]"
      ]
     },
     "execution_count": 17,
     "metadata": {},
     "output_type": "execute_result"
    }
   ],
   "source": [
    "merged_df"
   ]
  },
  {
   "cell_type": "code",
   "execution_count": 18,
   "id": "fb68c0a9-2ee6-4727-b830-a9391e5eb0e4",
   "metadata": {},
   "outputs": [
    {
     "data": {
      "text/plain": [
       "Index(['FA년도', '구단명', '선수명', '세부 포지션', '투', '구분', 'FA등급', '플레이년도', '나이', '게임수',\n",
       "       '선발등판', '구원등판', '승리', '패전', '세이브', '블론세이브', '홀드', '블론홀드', '이닝수', '자책점',\n",
       "       '피안타', '2루타허용', '3루타허용', '피홈런', '볼넷허용', '사구허용', '탈삼진', '폭투', 'ERA',\n",
       "       'FIP', '선발 이닝', '구원 이닝', '선발 WAR', '구원 WAR', '종합 WAR', '연봉', '비고1',\n",
       "       '잔류 여부', 'FA 계약 연수', 'FA 계약 총액', '사사구', '완투', '완봉', '투구수', '피장타율',\n",
       "       '원클럽맨여부', '득점파크팩터', '홈런파크팩터', '장타파크팩터', '국대출전횟수', '구종1', '구종2',\n",
       "       '구종1 구종가치'],\n",
       "      dtype='object')"
      ]
     },
     "execution_count": 18,
     "metadata": {},
     "output_type": "execute_result"
    }
   ],
   "source": [
    "merged_df.columns"
   ]
  },
  {
   "cell_type": "code",
   "execution_count": 19,
   "id": "d00b5496-3387-4d9b-8518-28acf19bd7be",
   "metadata": {},
   "outputs": [],
   "source": [
    "merged_df.to_csv('KBO FA 투수 [2013-2024]_최종_전처리+파생완료.csv')"
   ]
  },
  {
   "cell_type": "code",
   "execution_count": null,
   "id": "105045ff-46a4-45c1-963d-ab530b07040e",
   "metadata": {},
   "outputs": [],
   "source": []
  },
  {
   "cell_type": "code",
   "execution_count": null,
   "id": "6fb0c56d-38af-46bf-9605-97def794aa7b",
   "metadata": {},
   "outputs": [],
   "source": []
  },
  {
   "cell_type": "code",
   "execution_count": null,
   "id": "da48c659-33f8-4ac3-9fc6-bf5cb8e8e9bc",
   "metadata": {},
   "outputs": [],
   "source": []
  }
 ],
 "metadata": {
  "kernelspec": {
   "display_name": "Python [conda env:base] *",
   "language": "python",
   "name": "conda-base-py"
  },
  "language_info": {
   "codemirror_mode": {
    "name": "ipython",
    "version": 3
   },
   "file_extension": ".py",
   "mimetype": "text/x-python",
   "name": "python",
   "nbconvert_exporter": "python",
   "pygments_lexer": "ipython3",
   "version": "3.12.7"
  }
 },
 "nbformat": 4,
 "nbformat_minor": 5
}
