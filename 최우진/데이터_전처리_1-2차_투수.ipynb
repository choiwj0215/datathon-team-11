{
 "cells": [
  {
   "cell_type": "code",
   "execution_count": 2,
   "id": "2d039e6c-e8f3-4333-aecb-1ec66dd7e837",
   "metadata": {},
   "outputs": [],
   "source": [
    "# 기본 라이브러리\n",
    "import numpy as np\n",
    "import pandas as pd\n",
    "import matplotlib.pyplot as plt\n",
    "import seaborn as sns\n"
   ]
  },
  {
   "cell_type": "code",
   "execution_count": 5,
   "id": "fda3ecf2-9c9f-49a0-9ef2-135614282446",
   "metadata": {},
   "outputs": [],
   "source": [
    "df= pd.read_csv('야구데이터/스탯티즈_Raw_data/KBO FA 승인 선수 명단 (2013 ~ 2024)_투수.csv의 사본.csv',  encoding='cp949')\n",
    "\n",
    "df2= pd.read_csv('야구데이터/스탯티즈_Raw_data/KBO FA 투수 [2013-2024]_최종.csv의 사본.csv',  encoding='utf-8')\n",
    "\n",
    "df3= pd.read_csv('야구데이터/스탯티즈_Raw_data/KBO 투수 FA 명단 (2013~2024).csv의 사본.csv',  encoding='utf-8')"
   ]
  },
  {
   "cell_type": "code",
   "execution_count": 6,
   "id": "51f7b01c-5dc6-455d-83cb-1f8d9708c9f8",
   "metadata": {},
   "outputs": [
    {
     "data": {
      "text/plain": [
       "Index(['FA년도', '구단명', '선수명', '세부 포지션', '인정년수', '구분', 'FA등급', '플레이년도', 'Age',\n",
       "       'G', 'GS', 'GR', 'W', 'L', 'S', 'BLSV', 'HD', 'BLHD', 'IP', 'ER', 'H',\n",
       "       '2B', '3B', 'HR', 'BB', 'HP', 'SO', 'WP', 'ERA', '선발 이닝', '구원 이닝',\n",
       "       '선발 WAR', '구원 WAR', '종합 WAR', '연봉', '비고1', '비고2'],\n",
       "      dtype='object')"
      ]
     },
     "execution_count": 6,
     "metadata": {},
     "output_type": "execute_result"
    }
   ],
   "source": [
    "df.columns"
   ]
  },
  {
   "cell_type": "code",
   "execution_count": 8,
   "id": "d8798923-0983-41ac-88d0-9ad3884a888b",
   "metadata": {},
   "outputs": [
    {
     "data": {
      "text/plain": [
       "Index(['FA년도', '구단명', '선수명', '세부 포지션', '투', '인정년수', '구분', 'FA등급', '플레이년도',\n",
       "       'Age', 'G', 'GS', 'GR', 'W', 'L', 'S', 'BLSV', 'HD', 'BLHD', 'IP', 'ER',\n",
       "       'H', '2B', '3B', 'HR', 'BB', 'HP', 'SO', 'WP', 'ERA', 'FIP', '선발 이닝',\n",
       "       '구원 이닝', '선발 WAR', '구원 WAR', '종합 WAR', '연봉', '비고1', '비고2', '잔류 여부',\n",
       "       'FA 계약 연수', 'FA 계약 총액', 'TEAM RANK', 'TEAM G', 'TEAM GS', 'TEAM GR',\n",
       "       'TEAM W', 'TEAM L', 'TEAM S', 'TEAM BLSV', 'TEAM HD', 'TEAM BLHD',\n",
       "       'TEAM IP', 'TEAM ER', 'TEAM H', 'TEAM 2B', 'TEAM 3B', 'TEAM HR',\n",
       "       'TEAM BB', 'TEAM HP', 'TEAM SO', 'TEAM WP', 'TEAM ERA', 'TEAM FIP',\n",
       "       'TEAM 선발 이닝', 'TEAM 구원 이닝', 'TEAM 선발 WAR', 'TEAM 구원 WAR', 'TEAM 종합 WAR',\n",
       "       'TEAM 연봉', 'Unnamed: 70'],\n",
       "      dtype='object')"
      ]
     },
     "execution_count": 8,
     "metadata": {},
     "output_type": "execute_result"
    }
   ],
   "source": [
    "df2.columns"
   ]
  },
  {
   "cell_type": "code",
   "execution_count": 9,
   "id": "75b9be4b-4244-482a-950e-69cfe2265824",
   "metadata": {},
   "outputs": [
    {
     "data": {
      "text/plain": [
       "Index(['FA년도', '구단명', '선수명', '세부 포지션', '인정년수', '구분', 'FA등급', '플레이년도', 'Age',\n",
       "       'G', 'GS', 'GR', 'W', 'L', 'S', 'BLSV', 'HD', 'BLHD', 'IP', 'ER', 'H',\n",
       "       '2B', '3B', 'HR', 'BB', 'HP', 'SO', 'WP', 'ERA', 'FIP', '선발 이닝',\n",
       "       '구원 이닝', '선발 WAR', '구원 WAR', '종합 WAR', '연봉', '비고1', '비고2', '잔류 여부'],\n",
       "      dtype='object')"
      ]
     },
     "execution_count": 9,
     "metadata": {},
     "output_type": "execute_result"
    }
   ],
   "source": [
    "df3.columns"
   ]
  },
  {
   "cell_type": "code",
   "execution_count": 10,
   "id": "6153881c-bfc6-488b-9013-64d78426063c",
   "metadata": {},
   "outputs": [
    {
     "data": {
      "text/plain": [
       "FA년도        0\n",
       "구단명         0\n",
       "선수명         0\n",
       "세부 포지션      0\n",
       "인정년수        0\n",
       "구분          0\n",
       "FA등급        0\n",
       "플레이년도       0\n",
       "Age         0\n",
       "G           6\n",
       "GS          6\n",
       "GR          6\n",
       "W           6\n",
       "L           6\n",
       "S           6\n",
       "BLSV       39\n",
       "HD          6\n",
       "BLHD       39\n",
       "IP         10\n",
       "ER          6\n",
       "H           6\n",
       "2B         59\n",
       "3B         59\n",
       "HR          6\n",
       "BB          6\n",
       "HP          6\n",
       "SO          6\n",
       "WP          6\n",
       "ERA         6\n",
       "선발 이닝      59\n",
       "구원 이닝      59\n",
       "선발 WAR    144\n",
       "구원 WAR     45\n",
       "종합 WAR      6\n",
       "연봉         13\n",
       "비고1         0\n",
       "비고2       278\n",
       "dtype: int64"
      ]
     },
     "execution_count": 10,
     "metadata": {},
     "output_type": "execute_result"
    }
   ],
   "source": [
    "df.isna().sum()"
   ]
  },
  {
   "cell_type": "code",
   "execution_count": 13,
   "id": "5832fcb2-f40b-4b39-a43e-a24bc987a2e0",
   "metadata": {},
   "outputs": [
    {
     "data": {
      "text/plain": [
       "FA년도             0\n",
       "구단명              0\n",
       "선수명              0\n",
       "세부 포지션           8\n",
       "투                0\n",
       "              ... \n",
       "TEAM 선발 WAR     47\n",
       "TEAM 구원 WAR     47\n",
       "TEAM 종합 WAR     47\n",
       "TEAM 연봉         47\n",
       "Unnamed: 70    339\n",
       "Length: 71, dtype: int64"
      ]
     },
     "execution_count": 13,
     "metadata": {},
     "output_type": "execute_result"
    }
   ],
   "source": [
    "df2.isna().sum()"
   ]
  },
  {
   "cell_type": "code",
   "execution_count": 12,
   "id": "0b61985b-ff3b-4d61-8cbf-14d6acb3ba4e",
   "metadata": {},
   "outputs": [
    {
     "data": {
      "text/plain": [
       "FA년도        0\n",
       "구단명         0\n",
       "선수명         0\n",
       "세부 포지션      8\n",
       "인정년수       62\n",
       "구분          3\n",
       "FA등급       62\n",
       "플레이년도       0\n",
       "Age         9\n",
       "G          15\n",
       "GS         15\n",
       "GR         15\n",
       "W          15\n",
       "L          15\n",
       "S          15\n",
       "BLSV       50\n",
       "HD         15\n",
       "BLHD       50\n",
       "IP         19\n",
       "ER         15\n",
       "H          15\n",
       "2B         68\n",
       "3B         68\n",
       "HR         15\n",
       "BB         15\n",
       "HP         15\n",
       "SO         15\n",
       "WP         15\n",
       "ERA        15\n",
       "FIP        18\n",
       "선발 이닝      68\n",
       "구원 이닝      68\n",
       "선발 WAR    186\n",
       "구원 WAR     63\n",
       "종합 WAR     15\n",
       "연봉         22\n",
       "비고1        54\n",
       "비고2       339\n",
       "잔류 여부     272\n",
       "dtype: int64"
      ]
     },
     "execution_count": 12,
     "metadata": {},
     "output_type": "execute_result"
    }
   ],
   "source": [
    "df3.isna().sum()"
   ]
  },
  {
   "cell_type": "code",
   "execution_count": 15,
   "id": "07f22852-bf4f-4ebc-a997-70bf56d92c6d",
   "metadata": {},
   "outputs": [],
   "source": [
    "df2=df2.drop(['TEAM RANK', 'TEAM G', 'TEAM GS', 'TEAM GR',\n",
    "       'TEAM W', 'TEAM L', 'TEAM S', 'TEAM BLSV', 'TEAM HD', 'TEAM BLHD',\n",
    "       'TEAM IP', 'TEAM ER', 'TEAM H', 'TEAM 2B', 'TEAM 3B', 'TEAM HR',\n",
    "       'TEAM BB', 'TEAM HP', 'TEAM SO', 'TEAM WP', 'TEAM ERA', 'TEAM FIP',\n",
    "       'TEAM 선발 이닝', 'TEAM 구원 이닝', 'TEAM 선발 WAR', 'TEAM 구원 WAR', 'TEAM 종합 WAR',\n",
    "       'TEAM 연봉', 'Unnamed: 70'], axis = 1)"
   ]
  },
  {
   "cell_type": "code",
   "execution_count": 17,
   "id": "1745b845-0ce2-4264-a45e-bbce00e5bc06",
   "metadata": {},
   "outputs": [
    {
     "data": {
      "text/plain": [
       "Index(['FA년도', '구단명', '선수명', '세부 포지션', '투', '인정년수', '구분', 'FA등급', '플레이년도',\n",
       "       'Age', 'G', 'GS', 'GR', 'W', 'L', 'S', 'BLSV', 'HD', 'BLHD', 'IP', 'ER',\n",
       "       'H', '2B', '3B', 'HR', 'BB', 'HP', 'SO', 'WP', 'ERA', 'FIP', '선발 이닝',\n",
       "       '구원 이닝', '선발 WAR', '구원 WAR', '종합 WAR', '연봉', '비고1', '비고2', '잔류 여부',\n",
       "       'FA 계약 연수', 'FA 계약 총액'],\n",
       "      dtype='object')"
      ]
     },
     "execution_count": 17,
     "metadata": {},
     "output_type": "execute_result"
    }
   ],
   "source": [
    "df2.columns"
   ]
  },
  {
   "cell_type": "code",
   "execution_count": 27,
   "id": "e5ec3127-2d8e-4de4-af35-8bb08751dcbf",
   "metadata": {},
   "outputs": [
    {
     "data": {
      "text/plain": [
       "구단명\n",
       "삼성          66\n",
       "한화          44\n",
       "LG          39\n",
       "롯데          37\n",
       "넥센          25\n",
       "두산          24\n",
       "SK          24\n",
       "KIA         21\n",
       "NC          17\n",
       "키움          14\n",
       "KT          12\n",
       "군 복무         6\n",
       "은퇴           4\n",
       "SSG          3\n",
       "미국           2\n",
       "미계약          1\n",
       "우리           1\n",
       "일본           1\n",
       "부상 시즌 아웃     1\n",
       "Name: count, dtype: int64"
      ]
     },
     "execution_count": 27,
     "metadata": {},
     "output_type": "execute_result"
    }
   ],
   "source": [
    "df2['구단명'].value_counts()"
   ]
  },
  {
   "cell_type": "code",
   "execution_count": 51,
   "id": "bdc7d72f-c1bf-4241-8ac7-057f6d80a535",
   "metadata": {},
   "outputs": [],
   "source": [
    "filtered_df = df2[~df2['구단명'].isin(['군 복무', '은퇴', '미국', '미계약', '일본','부상 시즌 아웃'])]\n"
   ]
  },
  {
   "cell_type": "code",
   "execution_count": 52,
   "id": "730ee936-47ea-493f-a187-40356dd2db6e",
   "metadata": {},
   "outputs": [
    {
     "data": {
      "text/plain": [
       "FA년도          0\n",
       "구단명           0\n",
       "선수명           0\n",
       "세부 포지션        0\n",
       "투             0\n",
       "인정년수         53\n",
       "구분            0\n",
       "FA등급         53\n",
       "플레이년도         0\n",
       "Age           0\n",
       "G             0\n",
       "GS            0\n",
       "GR            0\n",
       "W             0\n",
       "L             0\n",
       "S             0\n",
       "BLSV         36\n",
       "HD            0\n",
       "BLHD         36\n",
       "IP            4\n",
       "ER            0\n",
       "H             0\n",
       "2B           53\n",
       "3B           53\n",
       "HR            0\n",
       "BB            0\n",
       "HP            0\n",
       "SO            0\n",
       "WP            0\n",
       "ERA           0\n",
       "FIP           4\n",
       "선발 이닝        53\n",
       "구원 이닝        53\n",
       "선발 WAR      171\n",
       "구원 WAR       48\n",
       "종합 WAR        0\n",
       "연봉            7\n",
       "비고1          53\n",
       "비고2         324\n",
       "잔류 여부       257\n",
       "FA 계약 연수    264\n",
       "FA 계약 총액    264\n",
       "dtype: int64"
      ]
     },
     "execution_count": 52,
     "metadata": {},
     "output_type": "execute_result"
    }
   ],
   "source": [
    "filtered_df.isna().sum()"
   ]
  },
  {
   "cell_type": "code",
   "execution_count": 53,
   "id": "c7ce74b0-8432-4bdf-b61f-1320cd91006e",
   "metadata": {},
   "outputs": [
    {
     "data": {
      "text/plain": [
       "구단명\n",
       "삼성     66\n",
       "한화     44\n",
       "LG     39\n",
       "롯데     37\n",
       "넥센     25\n",
       "SK     24\n",
       "두산     24\n",
       "KIA    21\n",
       "NC     17\n",
       "키움     14\n",
       "KT     12\n",
       "SSG     3\n",
       "우리      1\n",
       "Name: count, dtype: int64"
      ]
     },
     "execution_count": 53,
     "metadata": {},
     "output_type": "execute_result"
    }
   ],
   "source": [
    "filtered_df['구단명'].value_counts()"
   ]
  },
  {
   "cell_type": "code",
   "execution_count": 54,
   "id": "9d9d2249-3803-4720-86d1-9bce79988886",
   "metadata": {},
   "outputs": [
    {
     "data": {
      "text/plain": [
       "Index(['FA년도', '구단명', '선수명', '세부 포지션', '투', '인정년수', '구분', 'FA등급', '플레이년도',\n",
       "       'Age', 'G', 'GS', 'GR', 'W', 'L', 'S', 'BLSV', 'HD', 'BLHD', 'IP', 'ER',\n",
       "       'H', '2B', '3B', 'HR', 'BB', 'HP', 'SO', 'WP', 'ERA', 'FIP', '선발 이닝',\n",
       "       '구원 이닝', '선발 WAR', '구원 WAR', '종합 WAR', '연봉', '비고1', '비고2', '잔류 여부',\n",
       "       'FA 계약 연수', 'FA 계약 총액'],\n",
       "      dtype='object')"
      ]
     },
     "execution_count": 54,
     "metadata": {},
     "output_type": "execute_result"
    }
   ],
   "source": [
    "filtered_df.columns"
   ]
  },
  {
   "cell_type": "code",
   "execution_count": 55,
   "id": "9d26be5c-eaf9-46ab-aa57-d55914743a2b",
   "metadata": {},
   "outputs": [],
   "source": [
    "new_columns = ['FA년도', '구단명', '선수명', '세부 포지션', '투', '인정년수', '구분', 'FA등급', '플레이년도',\n",
    "               '나이','게임수','선발등판','구원등판','승리','패전','세이브','블론세이브','홀드','블론홀드','이닝수','자책점',\n",
    "               '피안타','2루타허용', '3루타허용','피홈런','볼넷허용','사구허용','탈삼진','폭투', 'ERA', 'FIP', '선발 이닝',\n",
    "               '구원 이닝', '선발 WAR', '구원 WAR', '종합 WAR', '연봉', '비고1', '비고2', '잔류 여부',\n",
    "               'FA 계약 연수', 'FA 계약 총액'\n",
    "              ]"
   ]
  },
  {
   "cell_type": "code",
   "execution_count": 56,
   "id": "c5cd33b3-e005-4d0c-bc8f-69d0b0efefd4",
   "metadata": {},
   "outputs": [],
   "source": [
    "filtered_df.columns = new_columns"
   ]
  },
  {
   "cell_type": "code",
   "execution_count": 58,
   "id": "9efacd04-fedf-4dc3-b4a7-0790e4fe83f5",
   "metadata": {},
   "outputs": [
    {
     "data": {
      "text/html": [
       "<div>\n",
       "<style scoped>\n",
       "    .dataframe tbody tr th:only-of-type {\n",
       "        vertical-align: middle;\n",
       "    }\n",
       "\n",
       "    .dataframe tbody tr th {\n",
       "        vertical-align: top;\n",
       "    }\n",
       "\n",
       "    .dataframe thead th {\n",
       "        text-align: right;\n",
       "    }\n",
       "</style>\n",
       "<table border=\"1\" class=\"dataframe\">\n",
       "  <thead>\n",
       "    <tr style=\"text-align: right;\">\n",
       "      <th></th>\n",
       "      <th>FA년도</th>\n",
       "      <th>구단명</th>\n",
       "      <th>선수명</th>\n",
       "      <th>세부 포지션</th>\n",
       "      <th>투</th>\n",
       "      <th>인정년수</th>\n",
       "      <th>구분</th>\n",
       "      <th>FA등급</th>\n",
       "      <th>플레이년도</th>\n",
       "      <th>나이</th>\n",
       "      <th>...</th>\n",
       "      <th>구원 이닝</th>\n",
       "      <th>선발 WAR</th>\n",
       "      <th>구원 WAR</th>\n",
       "      <th>종합 WAR</th>\n",
       "      <th>연봉</th>\n",
       "      <th>비고1</th>\n",
       "      <th>비고2</th>\n",
       "      <th>잔류 여부</th>\n",
       "      <th>FA 계약 연수</th>\n",
       "      <th>FA 계약 총액</th>\n",
       "    </tr>\n",
       "  </thead>\n",
       "  <tbody>\n",
       "    <tr>\n",
       "      <th>0</th>\n",
       "      <td>2011</td>\n",
       "      <td>롯데</td>\n",
       "      <td>강영식</td>\n",
       "      <td>RP</td>\n",
       "      <td>좌투</td>\n",
       "      <td>12.0</td>\n",
       "      <td>자격유지</td>\n",
       "      <td>A</td>\n",
       "      <td>2010</td>\n",
       "      <td>29.0</td>\n",
       "      <td>...</td>\n",
       "      <td>NaN</td>\n",
       "      <td>NaN</td>\n",
       "      <td>1.09</td>\n",
       "      <td>1.09</td>\n",
       "      <td>12000.0</td>\n",
       "      <td>고졸</td>\n",
       "      <td>NaN</td>\n",
       "      <td>NaN</td>\n",
       "      <td>NaN</td>\n",
       "      <td>NaN</td>\n",
       "    </tr>\n",
       "    <tr>\n",
       "      <th>1</th>\n",
       "      <td>2012</td>\n",
       "      <td>롯데</td>\n",
       "      <td>강영식</td>\n",
       "      <td>RP</td>\n",
       "      <td>좌투</td>\n",
       "      <td>12.0</td>\n",
       "      <td>자격유지</td>\n",
       "      <td>A</td>\n",
       "      <td>2011</td>\n",
       "      <td>30.0</td>\n",
       "      <td>...</td>\n",
       "      <td>NaN</td>\n",
       "      <td>NaN</td>\n",
       "      <td>1.26</td>\n",
       "      <td>1.26</td>\n",
       "      <td>30000.0</td>\n",
       "      <td>고졸</td>\n",
       "      <td>NaN</td>\n",
       "      <td>NaN</td>\n",
       "      <td>NaN</td>\n",
       "      <td>NaN</td>\n",
       "    </tr>\n",
       "    <tr>\n",
       "      <th>2</th>\n",
       "      <td>2013</td>\n",
       "      <td>롯데</td>\n",
       "      <td>강영식</td>\n",
       "      <td>RP</td>\n",
       "      <td>좌투</td>\n",
       "      <td>12.0</td>\n",
       "      <td>자격유지</td>\n",
       "      <td>A</td>\n",
       "      <td>2012</td>\n",
       "      <td>31.0</td>\n",
       "      <td>...</td>\n",
       "      <td>NaN</td>\n",
       "      <td>NaN</td>\n",
       "      <td>0.66</td>\n",
       "      <td>0.66</td>\n",
       "      <td>30000.0</td>\n",
       "      <td>고졸</td>\n",
       "      <td>NaN</td>\n",
       "      <td>NaN</td>\n",
       "      <td>NaN</td>\n",
       "      <td>NaN</td>\n",
       "    </tr>\n",
       "    <tr>\n",
       "      <th>3</th>\n",
       "      <td>2014</td>\n",
       "      <td>롯데</td>\n",
       "      <td>강영식</td>\n",
       "      <td>RP</td>\n",
       "      <td>좌투</td>\n",
       "      <td>12.0</td>\n",
       "      <td>자격유지</td>\n",
       "      <td>A</td>\n",
       "      <td>2013</td>\n",
       "      <td>32.0</td>\n",
       "      <td>...</td>\n",
       "      <td>39.2</td>\n",
       "      <td>NaN</td>\n",
       "      <td>0.49</td>\n",
       "      <td>0.49</td>\n",
       "      <td>30000.0</td>\n",
       "      <td>고졸</td>\n",
       "      <td>NaN</td>\n",
       "      <td>잔류</td>\n",
       "      <td>4.0</td>\n",
       "      <td>17.0</td>\n",
       "    </tr>\n",
       "    <tr>\n",
       "      <th>4</th>\n",
       "      <td>2015</td>\n",
       "      <td>롯데</td>\n",
       "      <td>강영식</td>\n",
       "      <td>RP</td>\n",
       "      <td>좌투</td>\n",
       "      <td>NaN</td>\n",
       "      <td>FA 1년차</td>\n",
       "      <td>NaN</td>\n",
       "      <td>2014</td>\n",
       "      <td>33.0</td>\n",
       "      <td>...</td>\n",
       "      <td>47.0</td>\n",
       "      <td>NaN</td>\n",
       "      <td>1.18</td>\n",
       "      <td>1.18</td>\n",
       "      <td>30000.0</td>\n",
       "      <td>NaN</td>\n",
       "      <td>NaN</td>\n",
       "      <td>NaN</td>\n",
       "      <td>NaN</td>\n",
       "      <td>NaN</td>\n",
       "    </tr>\n",
       "    <tr>\n",
       "      <th>...</th>\n",
       "      <td>...</td>\n",
       "      <td>...</td>\n",
       "      <td>...</td>\n",
       "      <td>...</td>\n",
       "      <td>...</td>\n",
       "      <td>...</td>\n",
       "      <td>...</td>\n",
       "      <td>...</td>\n",
       "      <td>...</td>\n",
       "      <td>...</td>\n",
       "      <td>...</td>\n",
       "      <td>...</td>\n",
       "      <td>...</td>\n",
       "      <td>...</td>\n",
       "      <td>...</td>\n",
       "      <td>...</td>\n",
       "      <td>...</td>\n",
       "      <td>...</td>\n",
       "      <td>...</td>\n",
       "      <td>...</td>\n",
       "      <td>...</td>\n",
       "    </tr>\n",
       "    <tr>\n",
       "      <th>337</th>\n",
       "      <td>2021</td>\n",
       "      <td>두산</td>\n",
       "      <td>홍건희</td>\n",
       "      <td>RP</td>\n",
       "      <td>우투</td>\n",
       "      <td>8.0</td>\n",
       "      <td>신규</td>\n",
       "      <td>A</td>\n",
       "      <td>2020</td>\n",
       "      <td>28.0</td>\n",
       "      <td>...</td>\n",
       "      <td>68.2</td>\n",
       "      <td>NaN</td>\n",
       "      <td>0.22</td>\n",
       "      <td>0.22</td>\n",
       "      <td>5300.0</td>\n",
       "      <td>고졸</td>\n",
       "      <td>NaN</td>\n",
       "      <td>NaN</td>\n",
       "      <td>NaN</td>\n",
       "      <td>NaN</td>\n",
       "    </tr>\n",
       "    <tr>\n",
       "      <th>338</th>\n",
       "      <td>2022</td>\n",
       "      <td>두산</td>\n",
       "      <td>홍건희</td>\n",
       "      <td>RP</td>\n",
       "      <td>우투</td>\n",
       "      <td>8.0</td>\n",
       "      <td>신규</td>\n",
       "      <td>A</td>\n",
       "      <td>2021</td>\n",
       "      <td>29.0</td>\n",
       "      <td>...</td>\n",
       "      <td>74.1</td>\n",
       "      <td>NaN</td>\n",
       "      <td>2.67</td>\n",
       "      <td>2.67</td>\n",
       "      <td>11000.0</td>\n",
       "      <td>고졸</td>\n",
       "      <td>NaN</td>\n",
       "      <td>NaN</td>\n",
       "      <td>NaN</td>\n",
       "      <td>NaN</td>\n",
       "    </tr>\n",
       "    <tr>\n",
       "      <th>339</th>\n",
       "      <td>2023</td>\n",
       "      <td>두산</td>\n",
       "      <td>홍건희</td>\n",
       "      <td>CP</td>\n",
       "      <td>우투</td>\n",
       "      <td>8.0</td>\n",
       "      <td>신규</td>\n",
       "      <td>A</td>\n",
       "      <td>2022</td>\n",
       "      <td>30.0</td>\n",
       "      <td>...</td>\n",
       "      <td>62.0</td>\n",
       "      <td>NaN</td>\n",
       "      <td>0.49</td>\n",
       "      <td>0.49</td>\n",
       "      <td>25000.0</td>\n",
       "      <td>고졸</td>\n",
       "      <td>NaN</td>\n",
       "      <td>NaN</td>\n",
       "      <td>NaN</td>\n",
       "      <td>NaN</td>\n",
       "    </tr>\n",
       "    <tr>\n",
       "      <th>340</th>\n",
       "      <td>2024</td>\n",
       "      <td>두산</td>\n",
       "      <td>홍건희</td>\n",
       "      <td>CP</td>\n",
       "      <td>우투</td>\n",
       "      <td>8.0</td>\n",
       "      <td>신규</td>\n",
       "      <td>A</td>\n",
       "      <td>2023</td>\n",
       "      <td>31.0</td>\n",
       "      <td>...</td>\n",
       "      <td>61.2</td>\n",
       "      <td>NaN</td>\n",
       "      <td>1.23</td>\n",
       "      <td>1.23</td>\n",
       "      <td>30000.0</td>\n",
       "      <td>고졸</td>\n",
       "      <td>NaN</td>\n",
       "      <td>잔류</td>\n",
       "      <td>4.0</td>\n",
       "      <td>24.5</td>\n",
       "    </tr>\n",
       "    <tr>\n",
       "      <th>341</th>\n",
       "      <td>2025</td>\n",
       "      <td>두산</td>\n",
       "      <td>홍건희</td>\n",
       "      <td>CP</td>\n",
       "      <td>우투</td>\n",
       "      <td>NaN</td>\n",
       "      <td>FA 1년차</td>\n",
       "      <td>NaN</td>\n",
       "      <td>2024</td>\n",
       "      <td>32.0</td>\n",
       "      <td>...</td>\n",
       "      <td>59.1</td>\n",
       "      <td>NaN</td>\n",
       "      <td>1.59</td>\n",
       "      <td>1.59</td>\n",
       "      <td>30000.0</td>\n",
       "      <td>NaN</td>\n",
       "      <td>NaN</td>\n",
       "      <td>NaN</td>\n",
       "      <td>NaN</td>\n",
       "      <td>NaN</td>\n",
       "    </tr>\n",
       "  </tbody>\n",
       "</table>\n",
       "<p>327 rows × 42 columns</p>\n",
       "</div>"
      ],
      "text/plain": [
       "     FA년도 구단명  선수명 세부 포지션   투  인정년수      구분 FA등급  플레이년도    나이  ...  구원 이닝  \\\n",
       "0    2011  롯데  강영식     RP  좌투  12.0    자격유지    A   2010  29.0  ...    NaN   \n",
       "1    2012  롯데  강영식     RP  좌투  12.0    자격유지    A   2011  30.0  ...    NaN   \n",
       "2    2013  롯데  강영식     RP  좌투  12.0    자격유지    A   2012  31.0  ...    NaN   \n",
       "3    2014  롯데  강영식     RP  좌투  12.0    자격유지    A   2013  32.0  ...   39.2   \n",
       "4    2015  롯데  강영식     RP  좌투   NaN  FA 1년차  NaN   2014  33.0  ...   47.0   \n",
       "..    ...  ..  ...    ...  ..   ...     ...  ...    ...   ...  ...    ...   \n",
       "337  2021  두산  홍건희     RP  우투   8.0      신규    A   2020  28.0  ...   68.2   \n",
       "338  2022  두산  홍건희     RP  우투   8.0      신규    A   2021  29.0  ...   74.1   \n",
       "339  2023  두산  홍건희     CP  우투   8.0      신규    A   2022  30.0  ...   62.0   \n",
       "340  2024  두산  홍건희     CP  우투   8.0      신규    A   2023  31.0  ...   61.2   \n",
       "341  2025  두산  홍건희     CP  우투   NaN  FA 1년차  NaN   2024  32.0  ...   59.1   \n",
       "\n",
       "     선발 WAR  구원 WAR  종합 WAR       연봉  비고1  비고2  잔류 여부  FA 계약 연수  FA 계약 총액  \n",
       "0       NaN    1.09    1.09  12000.0   고졸  NaN    NaN       NaN       NaN  \n",
       "1       NaN    1.26    1.26  30000.0   고졸  NaN    NaN       NaN       NaN  \n",
       "2       NaN    0.66    0.66  30000.0   고졸  NaN    NaN       NaN       NaN  \n",
       "3       NaN    0.49    0.49  30000.0   고졸  NaN     잔류       4.0      17.0  \n",
       "4       NaN    1.18    1.18  30000.0  NaN  NaN    NaN       NaN       NaN  \n",
       "..      ...     ...     ...      ...  ...  ...    ...       ...       ...  \n",
       "337     NaN    0.22    0.22   5300.0   고졸  NaN    NaN       NaN       NaN  \n",
       "338     NaN    2.67    2.67  11000.0   고졸  NaN    NaN       NaN       NaN  \n",
       "339     NaN    0.49    0.49  25000.0   고졸  NaN    NaN       NaN       NaN  \n",
       "340     NaN    1.23    1.23  30000.0   고졸  NaN     잔류       4.0      24.5  \n",
       "341     NaN    1.59    1.59  30000.0  NaN  NaN    NaN       NaN       NaN  \n",
       "\n",
       "[327 rows x 42 columns]"
      ]
     },
     "execution_count": 58,
     "metadata": {},
     "output_type": "execute_result"
    }
   ],
   "source": [
    "filtered_df"
   ]
  },
  {
   "cell_type": "code",
   "execution_count": 59,
   "id": "5530e7c6-7c9f-482f-9e85-bbe42f80fb18",
   "metadata": {},
   "outputs": [],
   "source": [
    "filtered_df.to_csv('FA투수데이터 1차.csv', index=False)"
   ]
  },
  {
   "cell_type": "code",
   "execution_count": 60,
   "id": "7209a50e-ab83-4fd5-8c3f-0fd055ebd0d7",
   "metadata": {},
   "outputs": [
    {
     "name": "stdout",
     "output_type": "stream",
     "text": [
      "     FA년도 구단명  선수명 세부 포지션   투  인정년수      구분 FA등급  플레이년도    나이  ...  구원 WAR  \\\n",
      "0    2011  롯데  강영식     RP  좌투  12.0    자격유지    A   2010  29.0  ...    1.09   \n",
      "1    2012  롯데  강영식     RP  좌투  12.0    자격유지    A   2011  30.0  ...    1.26   \n",
      "2    2013  롯데  강영식     RP  좌투  12.0    자격유지    A   2012  31.0  ...    0.66   \n",
      "3    2014  롯데  강영식     RP  좌투  12.0    자격유지    A   2013  32.0  ...    0.49   \n",
      "4    2015  롯데  강영식     RP  좌투   NaN  FA 1년차  NaN   2014  33.0  ...    1.18   \n",
      "..    ...  ..  ...    ...  ..   ...     ...  ...    ...   ...  ...     ...   \n",
      "337  2021  두산  홍건희     RP  우투   8.0      신규    A   2020  28.0  ...    0.22   \n",
      "338  2022  두산  홍건희     RP  우투   8.0      신규    A   2021  29.0  ...    2.67   \n",
      "339  2023  두산  홍건희     CP  우투   8.0      신규    A   2022  30.0  ...    0.49   \n",
      "340  2024  두산  홍건희     CP  우투   8.0      신규    A   2023  31.0  ...    1.23   \n",
      "341  2025  두산  홍건희     CP  우투   NaN  FA 1년차  NaN   2024  32.0  ...    1.59   \n",
      "\n",
      "     종합 WAR       연봉  비고1  비고2  잔류 여부  FA 계약 연수  FA 계약 총액  is_nan  is_equal  \n",
      "0      1.09  12000.0   고졸  NaN    NaN       NaN       NaN    True      None  \n",
      "1      1.26  30000.0   고졸  NaN    NaN       NaN       NaN    True      None  \n",
      "2      0.66  30000.0   고졸  NaN    NaN       NaN       NaN    True      None  \n",
      "3      0.49  30000.0   고졸  NaN     잔류       4.0      17.0   False      True  \n",
      "4      1.18  30000.0  NaN  NaN    NaN       NaN       NaN   False      True  \n",
      "..      ...      ...  ...  ...    ...       ...       ...     ...       ...  \n",
      "337    0.22   5300.0   고졸  NaN    NaN       NaN       NaN   False      True  \n",
      "338    2.67  11000.0   고졸  NaN    NaN       NaN       NaN   False      True  \n",
      "339    0.49  25000.0   고졸  NaN    NaN       NaN       NaN   False      True  \n",
      "340    1.23  30000.0   고졸  NaN     잔류       4.0      24.5   False      True  \n",
      "341    1.59  30000.0  NaN  NaN    NaN       NaN       NaN   False      True  \n",
      "\n",
      "[327 rows x 44 columns]\n"
     ]
    },
    {
     "name": "stderr",
     "output_type": "stream",
     "text": [
      "C:\\Users\\Public\\Documents\\ESTsoft\\CreatorTemp\\ipykernel_29448\\3663778690.py:2: SettingWithCopyWarning: \n",
      "A value is trying to be set on a copy of a slice from a DataFrame.\n",
      "Try using .loc[row_indexer,col_indexer] = value instead\n",
      "\n",
      "See the caveats in the documentation: https://pandas.pydata.org/pandas-docs/stable/user_guide/indexing.html#returning-a-view-versus-a-copy\n",
      "  filtered_df['is_nan'] = filtered_df[['선발 이닝', '구원 이닝', '이닝수']].isna().any(axis=1)\n",
      "C:\\Users\\Public\\Documents\\ESTsoft\\CreatorTemp\\ipykernel_29448\\3663778690.py:5: SettingWithCopyWarning: \n",
      "A value is trying to be set on a copy of a slice from a DataFrame.\n",
      "Try using .loc[row_indexer,col_indexer] = value instead\n",
      "\n",
      "See the caveats in the documentation: https://pandas.pydata.org/pandas-docs/stable/user_guide/indexing.html#returning-a-view-versus-a-copy\n",
      "  filtered_df['is_equal'] = (filtered_df['선발 이닝'] + filtered_df['구원 이닝'] == filtered_df['이닝수'])\n",
      "C:\\Users\\Public\\Documents\\ESTsoft\\CreatorTemp\\ipykernel_29448\\3663778690.py:8: SettingWithCopyWarning: \n",
      "A value is trying to be set on a copy of a slice from a DataFrame.\n",
      "Try using .loc[row_indexer,col_indexer] = value instead\n",
      "\n",
      "See the caveats in the documentation: https://pandas.pydata.org/pandas-docs/stable/user_guide/indexing.html#returning-a-view-versus-a-copy\n",
      "  filtered_df['is_equal'] = filtered_df.apply(lambda row: None if row['is_nan'] else row['is_equal'], axis=1)\n"
     ]
    }
   ],
   "source": [
    "# NaN이 포함된 행을 따로 구분 (a, b, c 컬럼에서 NaN이 있는지 확인)\n",
    "filtered_df['is_nan'] = filtered_df[['선발 이닝', '구원 이닝', '이닝수']].isna().any(axis=1)\n",
    "\n",
    "# a + b가 c와 일치하는지 확인 (NaN이 있는 경우는 비교하지 않음)\n",
    "filtered_df['is_equal'] = (filtered_df['선발 이닝'] + filtered_df['구원 이닝'] == filtered_df['이닝수'])\n",
    "\n",
    "# NaN이 있는 행은 is_equal에 NaN으로 표시 (NaN이 있을 경우는 비교 안함)\n",
    "filtered_df['is_equal'] = filtered_df.apply(lambda row: None if row['is_nan'] else row['is_equal'], axis=1)\n",
    "\n",
    "# 결과 확인\n",
    "print(filtered_df)"
   ]
  },
  {
   "cell_type": "code",
   "execution_count": 63,
   "id": "49ef7767-7915-42a3-886a-75400418f03f",
   "metadata": {},
   "outputs": [
    {
     "data": {
      "text/plain": [
       "is_equal\n",
       "True     239\n",
       "False     31\n",
       "Name: count, dtype: int64"
      ]
     },
     "execution_count": 63,
     "metadata": {},
     "output_type": "execute_result"
    }
   ],
   "source": [
    "filtered_df['is_equal'].value_counts()"
   ]
  },
  {
   "cell_type": "code",
   "execution_count": 65,
   "id": "8ef30d03-9cb0-431a-8f21-65effd94d202",
   "metadata": {},
   "outputs": [
    {
     "name": "stdout",
     "output_type": "stream",
     "text": [
      "     FA년도  구단명  선수명 세부 포지션   투  인정년수      구분 FA등급  플레이년도    나이  ...  구원 WAR  \\\n",
      "11   2018  KIA  고효준     RP  좌투   9.0      신규    A   2017  34.0  ...    1.00   \n",
      "25   2016   넥센  금민철     SP  좌투   9.0      신규    A   2015  29.0  ...    0.08   \n",
      "30   2014   SK  김광현     SP  좌투   9.0      신규    A   2013  25.0  ...    0.03   \n",
      "33   2017   SK  김광현     SP  좌투   9.0      신규    A   2016  28.0  ...    0.22   \n",
      "42   2014   롯데  김사율     CP  우투   9.0      신규    A   2013  33.0  ...    0.71   \n",
      "51   2016   롯데  김승회     RP  우투  -1.0    자격유지    A   2015  34.0  ...   -0.04   \n",
      "66   2017   롯데  노경은     SP  우투   9.0      신규    A   2016  32.0  ...   -0.35   \n",
      "68   2019   롯데  노경은     SP  우투   9.0      신규    A   2018  34.0  ...    0.64   \n",
      "74   2014   한화  마일영     RP  좌투   NaN  FA 1년차  NaN   2013  32.0  ...    0.07   \n",
      "95   2020   삼성  백정현     SP  좌투   9.0      신규    B   2019  32.0  ...   -0.17   \n",
      "102  2017   LG  봉중근     RP  좌투   9.0      신규    A   2016  36.0  ...    0.08   \n",
      "115  2015   롯데  송승준     SP  우투   9.0      신규    A   2014  34.0  ...    0.23   \n",
      "116  2016   롯데  송승준     SP  우투   9.0      신규    A   2015  35.0  ...    0.29   \n",
      "126  2021   LG  송은범     RP  우투   NaN  FA 1년차  NaN   2020  36.0  ...    0.91   \n",
      "131  2017   한화  심수창     RP  우투   NaN  FA 1년차  NaN   2016  35.0  ...    0.33   \n",
      "135  2018   한화  안영명     SP  우투   9.0      신규    A   2017  33.0  ...    0.05   \n",
      "142  2014  KIA  양현종     SP  좌투   9.0      신규    A   2013  25.0  ...    0.57   \n",
      "187  2020   두산  유희관     SP  좌투   8.0      신규    A   2019  33.0  ...   -0.19   \n",
      "191  2018   한화  윤규진     SP  우투   9.0      신규    A   2017  33.0  ...   -0.08   \n",
      "237  2023   NC  이재학     SP  우사   9.0      신규    B   2022  32.0  ...   -0.29   \n",
      "250  2015   두산  이현승     RP  좌투   8.0      신규    A   2014  31.0  ...    0.17   \n",
      "265  2022   한화  장민재     SP  우투   8.0      신규    C   2021  31.0  ...   -0.18   \n",
      "266  2023   한화  장민재     SP  우투   8.0      신규    C   2022  32.0  ...    0.06   \n",
      "306  2024   KT   주권     RP  우투   8.0      신규    A   2023  28.0  ...    0.67   \n",
      "307  2025   KT   주권     CP  우투   NaN  FA 1년차  NaN   2024  29.0  ...   -0.03   \n",
      "315  2016   삼성  차우찬     SP  좌투   9.0      신규    A   2015  28.0  ...    0.25   \n",
      "323  2014   SK  채병용     RP  우투   9.0      신규    A   2013  31.0  ...    0.04   \n",
      "324  2015   SK  채병용     SP  우투   9.0      신규    A   2014  32.0  ...    0.26   \n",
      "325  2016   SK  채병용     RP  우투   9.0      신규    A   2015  33.0  ...    0.58   \n",
      "331  2024   롯데  한현희     RP  우사   NaN  FA 1년차  NaN   2023  30.0  ...   -0.42   \n",
      "333  2022   LG  함덕주     RP  좌투   8.0      신규    B   2021  26.0  ...    0.30   \n",
      "\n",
      "     종합 WAR       연봉  비고1  비고2  잔류 여부  FA 계약 연수  FA 계약 총액  is_nan  is_equal  \n",
      "11     1.08   8000.0   고졸  NaN    NaN       NaN       NaN   False     False  \n",
      "25     0.76   8800.0   고졸  NaN    NaN       NaN       NaN   False     False  \n",
      "30     1.79  24000.0   고졸  NaN    NaN       NaN       NaN   False     False  \n",
      "33     4.12  85000.0   고졸  NaN     미국       4.0      85.0   False     False  \n",
      "42     1.47  19000.0   고졸  NaN    NaN       NaN       NaN   False     False  \n",
      "51     0.77  19000.0   고졸  NaN    NaN       NaN       NaN   False     False  \n",
      "66     0.75  20000.0   고졸  NaN    NaN       NaN       NaN   False     False  \n",
      "68     4.18  10000.0   고졸  NaN    미계약       NaN       NaN   False     False  \n",
      "74    -0.07  15000.0  NaN  NaN    NaN       NaN       NaN   False     False  \n",
      "95     2.91  21000.0   고졸  NaN    NaN       NaN       NaN   False     False  \n",
      "102    0.62  30000.0   고졸  NaN     잔류       2.0      15.0   False     False  \n",
      "115    1.91  36000.0   고졸  NaN    NaN       NaN       NaN   False     False  \n",
      "116    3.00  34000.0   고졸  NaN     잔류       4.0      40.0   False     False  \n",
      "126    0.58  27000.0  NaN  NaN    NaN       NaN       NaN   False     False  \n",
      "131    0.33  25000.0  NaN  NaN    NaN       NaN       NaN   False     False  \n",
      "135    0.66  20000.0   고졸  NaN     잔류       2.0      12.0   False     False  \n",
      "142    4.34   9000.0   고졸  NaN    NaN       NaN       NaN   False     False  \n",
      "187    4.52  35000.0   대졸  NaN    NaN       NaN       NaN   False     False  \n",
      "191    2.28  18000.0   고졸  NaN    NaN       NaN       NaN   False     False  \n",
      "237    1.05  18000.0   고졸  NaN     잔류       3.0       9.0   False     False  \n",
      "250    0.53  11000.0   대졸  NaN    NaN       NaN       NaN   False     False  \n",
      "265    0.47  10000.0   고졸  NaN    NaN       NaN       NaN   False     False  \n",
      "266    3.33   7600.0   고졸  NaN    NaN       NaN       NaN   False     False  \n",
      "306    0.41  29500.0   고졸  NaN     잔류       4.0      16.0   False     False  \n",
      "307   -0.18  20000.0  NaN  NaN    NaN       NaN       NaN   False     False  \n",
      "315    3.52  30000.0   고졸  NaN    NaN       NaN       NaN   False     False  \n",
      "323   -0.07  16000.0   고졸  NaN    NaN       NaN       NaN   False     False  \n",
      "324    1.84  13500.0   고졸  NaN    NaN       NaN       NaN   False     False  \n",
      "325    0.33  22000.0   고졸  NaN     잔류       3.0      10.5   False     False  \n",
      "331    0.79  20000.0  NaN  NaN    NaN       NaN       NaN   False     False  \n",
      "333    0.32  16500.0   고졸  NaN    NaN       NaN       NaN   False     False  \n",
      "\n",
      "[31 rows x 44 columns]\n"
     ]
    }
   ],
   "source": [
    "false_rows = filtered_df[filtered_df['is_equal'] == False]\n",
    "print(false_rows)"
   ]
  },
  {
   "cell_type": "code",
   "execution_count": 67,
   "id": "240fe170-a698-432b-8f26-040b2257fb1a",
   "metadata": {},
   "outputs": [
    {
     "data": {
      "text/plain": [
       "선발 이닝     97.1\n",
       "구원 이닝      7.1\n",
       "이닝수      104.2\n",
       "Name: 142, dtype: object"
      ]
     },
     "execution_count": 67,
     "metadata": {},
     "output_type": "execute_result"
    }
   ],
   "source": [
    "filtered_df.loc[142, ['선발 이닝', '구원 이닝', '이닝수']]"
   ]
  },
  {
   "cell_type": "code",
   "execution_count": 68,
   "id": "5bee7631-07fb-4ddf-8c66-9f8f240455db",
   "metadata": {},
   "outputs": [
    {
     "data": {
      "text/plain": [
       "104.19999999999999"
      ]
     },
     "execution_count": 68,
     "metadata": {},
     "output_type": "execute_result"
    }
   ],
   "source": [
    "97.1+7.1"
   ]
  },
  {
   "cell_type": "code",
   "execution_count": 69,
   "id": "3a691ce5-184e-4cf3-a107-d4b3a7d90678",
   "metadata": {},
   "outputs": [
    {
     "name": "stdout",
     "output_type": "stream",
     "text": [
      "     선발 이닝  구원 이닝    이닝수\n",
      "11     4.2   35.1   40.0\n",
      "25    19.1    2.2   22.0\n",
      "30   127.2    5.1  133.0\n",
      "33   126.2   10.1  137.0\n",
      "42    38.2   35.2   74.1\n",
      "51    33.2   41.1   75.0\n",
      "66    92.1    2.1   94.2\n",
      "68   110.2   21.2  132.1\n",
      "74     1.2   10.2   12.1\n",
      "95   153.2    3.1  157.0\n",
      "102   18.2   17.2   36.1\n",
      "115  117.2    4.1  122.0\n",
      "116  120.2    4.1  125.0\n",
      "126    2.1   53.2   56.0\n",
      "131   32.2   80.2  113.1\n",
      "135   75.1   12.1   87.2\n",
      "142   97.1    7.1  104.2\n",
      "187  165.2    0.2  166.1\n",
      "191   98.2   20.1  119.0\n",
      "237   73.2   17.1   91.0\n",
      "250   11.1   43.2   55.0\n",
      "265   23.2    5.2   29.1\n",
      "266  120.1    6.1  126.2\n",
      "306    6.1   40.2   47.0\n",
      "307    2.2   55.1   58.0\n",
      "315  170.1    2.2  173.0\n",
      "323    7.2   12.2   20.1\n",
      "324  124.1    5.2  130.0\n",
      "325   33.1   49.2   83.0\n",
      "331   86.1   17.2  104.0\n",
      "333    8.1   12.2   21.0\n"
     ]
    }
   ],
   "source": [
    "selected_values = false_rows[['선발 이닝', '구원 이닝', '이닝수']]\n",
    "print(selected_values)"
   ]
  },
  {
   "cell_type": "code",
   "execution_count": 76,
   "id": "42cb76a4-1910-4aa6-a94a-1ee349a2ad50",
   "metadata": {},
   "outputs": [
    {
     "name": "stderr",
     "output_type": "stream",
     "text": [
      "C:\\Users\\Public\\Documents\\ESTsoft\\CreatorTemp\\ipykernel_29448\\2347926837.py:1: SettingWithCopyWarning: \n",
      "A value is trying to be set on a copy of a slice from a DataFrame\n",
      "\n",
      "See the caveats in the documentation: https://pandas.pydata.org/pandas-docs/stable/user_guide/indexing.html#returning-a-view-versus-a-copy\n",
      "  filtered_df['선발 이닝'].fillna(0, inplace=True)\n",
      "C:\\Users\\Public\\Documents\\ESTsoft\\CreatorTemp\\ipykernel_29448\\2347926837.py:2: FutureWarning: A value is trying to be set on a copy of a DataFrame or Series through chained assignment using an inplace method.\n",
      "The behavior will change in pandas 3.0. This inplace method will never work because the intermediate object on which we are setting values always behaves as a copy.\n",
      "\n",
      "For example, when doing 'df[col].method(value, inplace=True)', try using 'df.method({col: value}, inplace=True)' or df[col] = df[col].method(value) instead, to perform the operation inplace on the original object.\n",
      "\n",
      "\n",
      "  filtered_df['구원 이닝'].fillna(0, inplace=True)\n",
      "C:\\Users\\Public\\Documents\\ESTsoft\\CreatorTemp\\ipykernel_29448\\2347926837.py:2: SettingWithCopyWarning: \n",
      "A value is trying to be set on a copy of a slice from a DataFrame\n",
      "\n",
      "See the caveats in the documentation: https://pandas.pydata.org/pandas-docs/stable/user_guide/indexing.html#returning-a-view-versus-a-copy\n",
      "  filtered_df['구원 이닝'].fillna(0, inplace=True)\n"
     ]
    }
   ],
   "source": [
    "filtered_df['선발 이닝'].fillna(0, inplace=True)\n",
    "filtered_df['구원 이닝'].fillna(0, inplace=True)"
   ]
  },
  {
   "cell_type": "code",
   "execution_count": 77,
   "id": "2de5fd31-2b03-4c1d-acb0-36706435ef73",
   "metadata": {},
   "outputs": [
    {
     "data": {
      "text/plain": [
       "0"
      ]
     },
     "execution_count": 77,
     "metadata": {},
     "output_type": "execute_result"
    }
   ],
   "source": [
    "filtered_df['구원 이닝'].isna().sum()"
   ]
  },
  {
   "cell_type": "code",
   "execution_count": 78,
   "id": "bd1ef3cc-ef0f-42cf-bd09-a638e4e60b86",
   "metadata": {},
   "outputs": [],
   "source": [
    "new_df= filtered_df.drop(['is_equal', 'is_nan'], axis=1)"
   ]
  },
  {
   "cell_type": "code",
   "execution_count": 80,
   "id": "65a78f92-79a8-446e-91df-e08de1ed2527",
   "metadata": {},
   "outputs": [],
   "source": [
    "new_df.to_csv('FA투수데이터 2차.csv', index = False)"
   ]
  },
  {
   "cell_type": "code",
   "execution_count": null,
   "id": "a6a0709f-13b2-4bb4-b4ce-e93609c943ec",
   "metadata": {},
   "outputs": [],
   "source": []
  }
 ],
 "metadata": {
  "kernelspec": {
   "display_name": "Python [conda env:base] *",
   "language": "python",
   "name": "conda-base-py"
  },
  "language_info": {
   "codemirror_mode": {
    "name": "ipython",
    "version": 3
   },
   "file_extension": ".py",
   "mimetype": "text/x-python",
   "name": "python",
   "nbconvert_exporter": "python",
   "pygments_lexer": "ipython3",
   "version": "3.12.7"
  }
 },
 "nbformat": 4,
 "nbformat_minor": 5
}
