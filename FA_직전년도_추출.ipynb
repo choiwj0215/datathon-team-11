{
 "cells": [
  {
   "cell_type": "code",
   "execution_count": 1,
   "id": "e658a7cb-9e66-4630-9d25-fc480416c688",
   "metadata": {},
   "outputs": [],
   "source": [
    "import pandas as pd"
   ]
  },
  {
   "cell_type": "code",
   "execution_count": 2,
   "id": "e7a74011-0a65-437e-a0d7-61724015dd53",
   "metadata": {},
   "outputs": [],
   "source": [
    "df = pd.read_csv(\"data/KBO FA 야수 [2013-2024]_최종.FA1년차구분.csv\")"
   ]
  },
  {
   "cell_type": "code",
   "execution_count": 3,
   "id": "b090e447-79b6-4fa9-aa70-ad80e2e538d3",
   "metadata": {},
   "outputs": [],
   "source": [
    "# 선수별 연도 기준 정렬\n",
    "df = df.sort_values(by=[\"선수명\", \"FA년도\"]).reset_index(drop=True)"
   ]
  },
  {
   "cell_type": "code",
   "execution_count": 4,
   "id": "1f347f8a-e0e9-4477-9193-afb3bceafe3c",
   "metadata": {},
   "outputs": [],
   "source": [
    "# FA 1년차 선수 추출\n",
    "fa_players = df[df[\"구분\"] == \"FA 1년차\"].copy()"
   ]
  },
  {
   "cell_type": "code",
   "execution_count": 5,
   "id": "79ec15d4-3c24-4ac9-b52f-d0f36493b3fe",
   "metadata": {},
   "outputs": [],
   "source": [
    "# FA 1년차 선수의 직전 연도 계산\n",
    "fa_players[\"FA_직전년도\"] = fa_players[\"FA년도\"] - 1"
   ]
  },
  {
   "cell_type": "code",
   "execution_count": 6,
   "id": "b7fc4f89-973f-4456-b570-838b6f342071",
   "metadata": {},
   "outputs": [],
   "source": [
    "# FA 선수명 + 직전년도 기준으로 원본에서 직전년도 성적 추출\n",
    "merged = pd.merge(\n",
    "    fa_players[[\"선수명\", \"FA_직전년도\"]],\n",
    "    df,\n",
    "    left_on=[\"선수명\", \"FA_직전년도\"],\n",
    "    right_on=[\"선수명\", \"FA년도\"],\n",
    "    how=\"inner\"\n",
    ")"
   ]
  },
  {
   "cell_type": "code",
   "execution_count": 7,
   "id": "10e298dc-dbec-40b1-a42c-9e427665f11e",
   "metadata": {
    "scrolled": true
   },
   "outputs": [
    {
     "name": "stdout",
     "output_type": "stream",
     "text": [
      "FA 1년차 직전년도 성적 데이터:\n",
      "   선수명  FA_직전년도  FA년도 구단명 포지션   투   타  인정년수   구분 FA등급  ...  TEAM BB  TEAM SO  \\\n",
      "0  강민호     2014  2014  롯데   C  우투  우타   9.0   신규    A  ...    503.0    862.0   \n",
      "1  강민호     2018  2018  롯데   C  우투  우타   4.0  재자격    A  ...    457.0   1018.0   \n",
      "2  강민호     2022  2022  삼성   C  우투  우타   4.0  재자격    C  ...    545.0    902.0   \n",
      "3  강한울     2024  2024  삼성  3B  우투  좌타   7.0   신규    C  ...    487.0    954.0   \n",
      "4  고영민     2016  2016  두산  2B  우투  우타   9.0   신규    A  ...    567.0    820.0   \n",
      "\n",
      "   TEAM GDP  TEAM SF  TEAM 수비_필딩 RAA  TEAM 수비_포지션 RAA  TEAM 전체수비 RAA  \\\n",
      "0      92.0     41.0           17.08             1.43          18.51   \n",
      "1     146.0     32.0           16.21             8.53           6.50   \n",
      "2      98.0     68.0          -10.30            12.57         -19.22   \n",
      "3     114.0     43.0          -15.16            -4.02         -21.28   \n",
      "4     139.0     60.0            4.50           -15.85          -3.26   \n",
      "\n",
      "   TEAM oWAR  TEAM dWAR   TEAM 연봉  \n",
      "0      15.17       2.53  311900.0  \n",
      "1      17.96       1.67  858600.0  \n",
      "2      18.47      -1.19  578200.0  \n",
      "3      15.69      -0.28  838000.0  \n",
      "4      29.31       0.42  588000.0  \n",
      "\n",
      "[5 rows x 61 columns]\n"
     ]
    }
   ],
   "source": [
    "# 확인\n",
    "print(\"FA 1년차 직전년도 성적 데이터:\")\n",
    "print(merged.head())"
   ]
  },
  {
   "cell_type": "code",
   "execution_count": 8,
   "id": "24b0945a-ea72-46cc-a860-04f88b8b039f",
   "metadata": {},
   "outputs": [],
   "source": [
    "merged.to_csv(\"data/FA_직전년도.csv\", index=False)"
   ]
  }
 ],
 "metadata": {
  "kernelspec": {
   "display_name": "Python 3 (ipykernel)",
   "language": "python",
   "name": "python3"
  },
  "language_info": {
   "codemirror_mode": {
    "name": "ipython",
    "version": 3
   },
   "file_extension": ".py",
   "mimetype": "text/x-python",
   "name": "python",
   "nbconvert_exporter": "python",
   "pygments_lexer": "ipython3",
   "version": "3.12.7"
  }
 },
 "nbformat": 4,
 "nbformat_minor": 5
}
