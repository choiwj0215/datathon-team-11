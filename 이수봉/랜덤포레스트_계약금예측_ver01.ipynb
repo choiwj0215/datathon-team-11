{
 "cells": [
  {
   "cell_type": "code",
   "execution_count": null,
   "id": "60c9f07e-3cc2-435e-ba2d-b8e325fd558c",
   "metadata": {},
   "outputs": [],
   "source": [
    "import pandas as pd\n",
    "import numpy as np\n",
    "import matplotlib.pyplot as plt\n",
    "import seaborn as sns\n",
    "\n",
    "from sklearn.model_selection import train_test_split\n",
    "from sklearn.ensemble import RandomForestRegressor\n",
    "from sklearn.metrics import mean_squared_error"
   ]
  },
  {
   "cell_type": "code",
   "execution_count": null,
   "id": "ff5acb50-1704-4198-82a5-919cebf5a392",
   "metadata": {},
   "outputs": [],
   "source": [
    "df1 = pd.read_csv(\"data/야수_전처리_ver12.csv\")\n",
    "df2 = pd.read_csv(\"data/2026_FA예정_타자.csv\")"
   ]
  },
  {
   "cell_type": "code",
   "execution_count": null,
   "id": "85b4915e-e602-4670-9bd6-f0ccc08a0894",
   "metadata": {},
   "outputs": [],
   "source": [
    "# 계약금 컬럼 생성\n",
    "df1['FA 계약 총액'] = df1['FA 계약 총액'].fillna(0)\n",
    "df1['연봉'] = df1['연봉'].fillna(0)\n",
    "df1['계약금'] = df1['FA 계약 총액'] + df1['연봉']"
   ]
  },
  {
   "cell_type": "code",
   "execution_count": null,
   "id": "f4f81ac9-5d87-4788-86ea-57d6aa97978e",
   "metadata": {},
   "outputs": [],
   "source": [
    "# 전처리 함수 정의\n",
    "def preprocess(df):\n",
    "    df = df.copy()\n",
    "    if '구분' in df.columns:\n",
    "        df = df[~df['구분'].isin(['해외', 'FA 1년차'])]\n",
    "    if 'FA등급' in df.columns:\n",
    "        df = df[~df['FA등급'].isin(['해외', 'FA 1년차'])]\n",
    "    if '플레이년도' in df.columns:\n",
    "        df = df[df['플레이년도'] > 2015]\n",
    "    \n",
    "    drop_cols = ['선수명_수정', 'FA 계약 총액', '연봉', '잔류여부']\n",
    "    df = df.drop(columns=[col for col in drop_cols if col in df.columns], errors='ignore')\n",
    "    df = df.groupby('선수명', as_index=False).mean(numeric_only=True)\n",
    "    return df\n",
    "\n",
    "# 전처리 적용\n",
    "df1_cleaned = preprocess(df1)\n",
    "df2_cleaned = preprocess(df2)"
   ]
  },
  {
   "cell_type": "code",
   "execution_count": null,
   "id": "fcba2197-9e43-4fd5-8247-42cd6ae45b6e",
   "metadata": {},
   "outputs": [],
   "source": [
    "# 상관계수 계산 및 가중치\n",
    "correlations = df1_cleaned.corr(numeric_only=True)['계약금'].drop('계약금').sort_values(ascending=False)\n",
    "weights = correlations.abs() / correlations.abs().sum()\n",
    "weight_df = pd.DataFrame({'컬럼명': weights.index, '가중치': weights.values})\n",
    "\n",
    "# 한글 폰트 설정\n",
    "plt.rcParams['font.family'] = 'Malgun Gothic'\n",
    "plt.rcParams['axes.unicode_minus'] = False\n",
    "\n",
    "# 상관계수 시각화\n",
    "plt.figure(figsize=(10, 6))\n",
    "sns.barplot(x=correlations.values, y=correlations.index, palette='Blues_d')\n",
    "plt.title('계약금과의 상관계수')\n",
    "plt.xlabel('상관계수')\n",
    "plt.tight_layout()\n",
    "plt.show()"
   ]
  },
  {
   "cell_type": "code",
   "execution_count": null,
   "id": "9009a4c8-4a66-47f2-8b77-e94abc819eb0",
   "metadata": {},
   "outputs": [],
   "source": [
    "# 예측에 사용할 공통 피처 추출\n",
    "predict_features = [f for f in weights.index if f in df1_cleaned.columns and f in df2_cleaned.columns]\n",
    "print(f\"예측에 사용될 공통 피처: {predict_features}\")\n",
    "\n",
    "# 학습/검증/테스트 데이터 준비\n",
    "X = df1_cleaned[predict_features]\n",
    "y = df1_cleaned['계약금']\n",
    "Xy = pd.concat([X, y], axis=1).dropna()\n",
    "X = Xy[predict_features]\n",
    "y = Xy['계약금']\n",
    "\n",
    "X_train, X_val, y_train, y_val = train_test_split(X, y, test_size=0.2, random_state=42)\n",
    "X_test = df2_cleaned[predict_features]"
   ]
  },
  {
   "cell_type": "code",
   "execution_count": null,
   "id": "34120400-b06f-44c0-9c78-e818ba8301b4",
   "metadata": {},
   "outputs": [],
   "source": [
    "# 랜덤포레스트 모델 훈련 (기본값)\n",
    "model = RandomForestRegressor(random_state=42)\n",
    "model.fit(X_train, y_train)"
   ]
  },
  {
   "cell_type": "code",
   "execution_count": null,
   "id": "01a674f7-0f51-4f52-9abc-2ab464eab6be",
   "metadata": {},
   "outputs": [],
   "source": [
    "# 검증 성능 확인\n",
    "val_pred = model.predict(X_val)\n",
    "rmse = mean_squared_error(y_val, val_pred, squared=False)\n",
    "print(f\"[RandomForest] 검증 RMSE: {rmse:,.2f}\")\n",
    "\n",
    "# 예측 결과 저장\n",
    "df2_cleaned['계약금'] = model.predict(X_test)"
   ]
  },
  {
   "cell_type": "code",
   "execution_count": null,
   "id": "e57676d9-6ad7-433f-a60a-23dc92abab4b",
   "metadata": {},
   "outputs": [],
   "source": [
    "# 피처 중요도 계산\n",
    "importance_df = pd.DataFrame({\n",
    "    '컬럼명': predict_features,\n",
    "    '중요도 (RandomForest)': model.feature_importances_,\n",
    "    '상관계수 기반 가중치': [weights[f] for f in predict_features]\n",
    "}).sort_values(by='중요도 (RandomForest)', ascending=False)\n",
    "\n",
    "print(\"피처 중요도 (RandomForest):\")\n",
    "print(importance_df)\n",
    "\n",
    "# 중요도 시각화\n",
    "plt.figure(figsize=(10, 6))\n",
    "sns.barplot(data=importance_df, x='중요도 (RandomForest)', y='컬럼명', palette='YlOrRd')\n",
    "plt.title('🎯 피처 중요도 (RandomForest)')\n",
    "plt.xlabel('중요도')\n",
    "plt.tight_layout()\n",
    "plt.show()"
   ]
  },
  {
   "cell_type": "code",
   "execution_count": null,
   "id": "628862a9-ef33-43f4-9b2e-4450606a6e8a",
   "metadata": {},
   "outputs": [],
   "source": [
    "# 예측 결과 출력\n",
    "print(\"예측 계약금 상위 선수 (RandomForest):\")\n",
    "print(df2_cleaned[['선수명', '계약금']].sort_values(by='선수명', ascending=True))"
   ]
  }
 ],
 "metadata": {
  "kernelspec": {
   "display_name": "Python 3 (ipykernel)",
   "language": "python",
   "name": "python3"
  },
  "language_info": {
   "codemirror_mode": {
    "name": "ipython",
    "version": 3
   },
   "file_extension": ".py",
   "mimetype": "text/x-python",
   "name": "python",
   "nbconvert_exporter": "python",
   "pygments_lexer": "ipython3",
   "version": "3.12.7"
  }
 },
 "nbformat": 4,
 "nbformat_minor": 5
}
