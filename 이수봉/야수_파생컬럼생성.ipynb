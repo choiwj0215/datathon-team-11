{
 "cells": [
  {
   "cell_type": "code",
   "execution_count": 1,
   "id": "e963e9eb-ba6b-4d0a-859e-365722feabcd",
   "metadata": {},
   "outputs": [],
   "source": [
    "import pandas as pd"
   ]
  },
  {
   "cell_type": "code",
   "execution_count": 2,
   "id": "c952db55-5cfa-43f8-91d4-313ba497d840",
   "metadata": {},
   "outputs": [],
   "source": [
    "df1 = pd.read_csv(\"data/야수_전처리_ver12.csv\")\n",
    "df2 = pd.read_csv(\"data/2026_FA예정_타자.csv\")"
   ]
  },
  {
   "cell_type": "code",
   "execution_count": 3,
   "id": "448df41a-2a48-4c10-93ce-0556f565d618",
   "metadata": {},
   "outputs": [],
   "source": [
    "# 볼삼비\n",
    "df1['볼삼비'] = df1['볼넷'] / df1['삼진']\n",
    "df2['볼삼비'] = df2['볼넷'] / df2['삼진']\n",
    "\n",
    "df1['출루율'] = df1['출루율'].round(3)\n",
    "df2['출루율'] = df2['출루율'].round(3)"
   ]
  },
  {
   "cell_type": "code",
   "execution_count": 4,
   "id": "f871f800-84b4-4ce0-b6f5-71c5216494d4",
   "metadata": {},
   "outputs": [],
   "source": [
    "# 루타\n",
    "df1['루타'] = (\n",
    "    (df1['안타'] - df1['2루타'] - df1['3루타'] - df1['홈런']) * 1 +\n",
    "    df1['2루타'] * 2 +\n",
    "    df1['3루타'] * 3 +\n",
    "    df1['홈런'] * 4\n",
    ")\n",
    "\n",
    "df2['루타'] = (\n",
    "    (df2['안타'] - df2['2루타'] - df2['3루타'] - df2['홈런']) * 1 +\n",
    "    df2['2루타'] * 2 +\n",
    "    df2['3루타'] * 3 +\n",
    "    df2['홈런'] * 4\n",
    ")"
   ]
  },
  {
   "cell_type": "code",
   "execution_count": 5,
   "id": "5ab4e41c-c167-4b91-931e-22cf8a7b0062",
   "metadata": {},
   "outputs": [],
   "source": [
    "# 장타율, 출루율, OPS 조정\n",
    "df1 = df1.drop(columns=['장타율', '출루율', 'OPS'], errors='ignore')\n",
    "df2 = df2.drop(columns=['장타율', '출루율', 'OPS'], errors='ignore')\n",
    "\n",
    "# 장타율\n",
    "df1['장타율'] = df1['루타'] / df1['타수']\n",
    "df2['장타율'] = df2['루타'] / df2['타수']\n",
    "\n",
    "# 출루율\n",
    "df1['출루율'] = ((df1['안타'] + df1['볼넷'] + df1['사구']) / \n",
    "              (df1['타수'] + df1['볼넷'] + df1['사구'] + df1['희생플라이']))\n",
    "df2['출루율'] = ((df2['안타'] + df2['볼넷'] + df2['사구']) / \n",
    "              (df2['타수'] + df2['볼넷'] + df2['사구'] + df2['희생플라이']))\n",
    "\n",
    "# OPS\n",
    "df1['OPS'] = df1['장타율'] + df1['출루율']\n",
    "df2['OPS'] = df2['장타율'] + df2['출루율']\n",
    "\n",
    "df1['장타율'] = df1['장타율'].round(3)\n",
    "df2['장타율'] = df2['장타율'].round(3)\n",
    "df1['출루율'] = df1['출루율'].round(3)\n",
    "df2['출루율'] = df2['출루율'].round(3)\n",
    "df1['OPS'] = df1['OPS'].round(3)\n",
    "df2['OPS'] = df2['OPS'].round(3)"
   ]
  },
  {
   "cell_type": "code",
   "execution_count": 6,
   "id": "032d11d1-caea-464e-a2fa-35a404c6158f",
   "metadata": {},
   "outputs": [],
   "source": [
    "# GPA\n",
    "df1['GPA'] = ((df1['출루율'] * 1.8) + df1['장타율'] / 4)\n",
    "df2['GPA'] = ((df2['출루율'] * 1.8) + df2['장타율'] / 4)\n",
    "\n",
    "df1['GPA'] = df1['GPA'].round(3)\n",
    "df2['GPA'] = df2['GPA'].round(3)"
   ]
  },
  {
   "cell_type": "code",
   "execution_count": 7,
   "id": "bc817e97-841f-48fd-a17b-a568d43c48d0",
   "metadata": {},
   "outputs": [],
   "source": [
    "df1.to_csv(\"data/야수_전처리_ver13.csv\", index=False)\n",
    "df2.to_csv(\"data/26년FA_야수_ver2.csv\", index=False)"
   ]
  }
 ],
 "metadata": {
  "kernelspec": {
   "display_name": "Python 3 (ipykernel)",
   "language": "python",
   "name": "python3"
  },
  "language_info": {
   "codemirror_mode": {
    "name": "ipython",
    "version": 3
   },
   "file_extension": ".py",
   "mimetype": "text/x-python",
   "name": "python",
   "nbconvert_exporter": "python",
   "pygments_lexer": "ipython3",
   "version": "3.12.7"
  }
 },
 "nbformat": 4,
 "nbformat_minor": 5
}
