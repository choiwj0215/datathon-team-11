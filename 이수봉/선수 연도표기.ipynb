{
 "cells": [
  {
   "cell_type": "code",
   "execution_count": 1,
   "id": "caaadd8a-c1ad-4dfa-b3fb-2d5fcf2a5627",
   "metadata": {},
   "outputs": [],
   "source": [
    "import pandas as pd"
   ]
  },
  {
   "cell_type": "code",
   "execution_count": 2,
   "id": "44ca9950-a3e7-4b74-8348-a48fbcf8094c",
   "metadata": {},
   "outputs": [],
   "source": [
    "df = pd.read_csv(\"data/직전년도_추가 - 복사본.csv\")"
   ]
  },
  {
   "cell_type": "code",
   "execution_count": 3,
   "id": "7411e3e8-58e9-4389-abb1-d17454b27cb8",
   "metadata": {},
   "outputs": [
    {
     "name": "stdout",
     "output_type": "stream",
     "text": [
      "     FA년도 구단명        선수명 포지션   투   타  인정년수      구분 FA등급  플레이년도  ...  TEAM 삼진  \\\n",
      "0    2011  롯데  강민호(2011)   C  우투  우타   9.0      신규    A   2010  ...      NaN   \n",
      "1    2012  롯데  강민호(2011)   C  우투  우타   9.0      신규    A   2011  ...      NaN   \n",
      "2    2013  롯데  강민호(2011)   C  우투  우타   9.0      신규    A   2012  ...    890.0   \n",
      "3    2014  롯데  강민호(2011)   C  우투  우타   9.0      신규    A   2013  ...    862.0   \n",
      "4    2015  롯데  강민호(2015)   C  우투  우타   4.0  FA 1년차    A   2014  ...    964.0   \n",
      "..    ...  ..        ...  ..  ..  ..   ...     ...  ...    ...  ...      ...   \n",
      "632  2019  KT  황재균(2019)  3B  우투  우타   4.0     재자격    B   2018  ...   1109.0   \n",
      "633  2020  KT  황재균(2019)  3B  우투  우타   4.0     재자격    B   2019  ...    975.0   \n",
      "634  2021  KT  황재균(2019)  3B  우투  우타   4.0     재자격    B   2020  ...   1097.0   \n",
      "635  2022  KT  황재균(2019)  3B  우투  우타   4.0     재자격    B   2021  ...   1047.0   \n",
      "636  2023  KT  황재균(2023)  3B  우투  우타   NaN  FA 1년차  NaN   2022  ...   1183.0   \n",
      "\n",
      "     TEAM 병살타  TEAM 희생플라이  TEAM 평균대비수비득점기여  TEAM 수비_포지션 RAA  TEAM 전체수비 RAA  \\\n",
      "0         NaN         NaN              NaN              NaN            NaN   \n",
      "1         NaN         NaN              NaN              NaN            NaN   \n",
      "2        91.0        26.0           -41.49            13.36         -35.33   \n",
      "3        92.0        41.0            17.08             1.43          18.51   \n",
      "4        95.0        41.0             1.14            15.71          -6.57   \n",
      "..        ...         ...              ...              ...            ...   \n",
      "632     103.0        26.0            -2.41            -7.35         -12.03   \n",
      "633     113.0        45.0            36.35            39.04          26.31   \n",
      "634     104.0        45.0            21.71            15.80          11.90   \n",
      "635     105.0        44.0            10.21            -7.11           0.42   \n",
      "636     105.0        44.0            13.16            14.83           4.34   \n",
      "\n",
      "     TEAM 공격WAR  TEAM 수비WAR   TEAM 연봉   wRC+  \n",
      "0           NaN         NaN       NaN  134.4  \n",
      "1           NaN         NaN       NaN  130.3  \n",
      "2         21.15       -3.15  289700.0  132.9  \n",
      "3         15.17        2.53  311900.0   99.2  \n",
      "4         16.88        0.10  510600.0   85.0  \n",
      "..          ...         ...       ...    ...  \n",
      "632       16.22       -0.35  607700.0  117.0  \n",
      "633       21.52        3.72  514900.0  127.0  \n",
      "634       27.89        2.10  584000.0  129.5  \n",
      "635       21.86        1.33  575800.0  107.9  \n",
      "636       17.82        1.35  749000.0   97.1  \n",
      "\n",
      "[637 rows x 61 columns]\n"
     ]
    }
   ],
   "source": [
    "# 직전년도 제거\n",
    "df = df[df['구분'] != '직전년도'].reset_index(drop=True)\n",
    "\n",
    "# 정렬\n",
    "df = df.sort_values(by=['선수명', 'FA년도']).reset_index(drop=True)\n",
    "\n",
    "# 비교용 원본 데이터프레임\n",
    "기준_df = df.copy()\n",
    "\n",
    "# 선수별 최초 '신규' FA년도\n",
    "first_fa_by_신규 = 기준_df[기준_df['구분'] == '신규'].groupby('선수명')['FA년도'].min().to_dict()\n",
    "\n",
    "# 선수별 '자격유지' 중 가장 작은 FA년도 (예외처리용)\n",
    "min_fa_by_자격유지 = 기준_df[기준_df['구분'] == '자격유지'].groupby('선수명')['FA년도'].min().to_dict()\n",
    "\n",
    "# 선수별 '재자격' 중 가장 작은 FA년도 (예외처리용)\n",
    "min_fa_by_재자격 = 기준_df[기준_df['구분'] == '재자격'].groupby('선수명')['FA년도'].min().to_dict()\n",
    "\n",
    "# 전처리 실행\n",
    "for i, row in df.iterrows():\n",
    "    선수명 = row['선수명']\n",
    "    구분 = row['구분']\n",
    "    fa_year = row['FA년도']\n",
    "\n",
    "    # 1. 신규\n",
    "    if 구분 == '신규' and 선수명 in first_fa_by_신규:\n",
    "        df.at[i, '선수명'] = f\"{선수명}({int(first_fa_by_신규[선수명])})\"\n",
    "\n",
    "    # 2. FA 1년차\n",
    "    elif 구분 == 'FA 1년차':\n",
    "        df.at[i, '선수명'] = f\"{선수명}({int(fa_year)})\"\n",
    "\n",
    "    # 3. 재자격\n",
    "    elif 구분 == '재자격':\n",
    "        후보 = 기준_df[\n",
    "            (기준_df['선수명'] == 선수명) &\n",
    "            (기준_df['구분'] == 'FA 1년차') &\n",
    "            (기준_df['FA년도'] < fa_year)\n",
    "        ]\n",
    "        if not 후보.empty:\n",
    "            최신_FA년도 = 후보['FA년도'].max()\n",
    "            df.at[i, '선수명'] = f\"{선수명}({int(최신_FA년도)})\"\n",
    "        elif 선수명 in min_fa_by_재자격:\n",
    "            df.at[i, '선수명'] = f\"{선수명}({int(min_fa_by_재자격[선수명])})\"\n",
    "\n",
    "    # 4. 자격유지\n",
    "    elif 구분 == '자격유지':\n",
    "        후보 = 기준_df[\n",
    "            (기준_df['선수명'] == 선수명) &\n",
    "            (기준_df['구분'] == 'FA 1년차') &\n",
    "            (기준_df['FA년도'] < fa_year)\n",
    "        ]\n",
    "        if not 후보.empty:\n",
    "            최신_FA년도 = 후보['FA년도'].max()\n",
    "            df.at[i, '선수명'] = f\"{선수명}({int(최신_FA년도)})\"\n",
    "        elif 선수명 in min_fa_by_자격유지:\n",
    "            df.at[i, '선수명'] = f\"{선수명}({int(min_fa_by_자격유지[선수명])})\"\n",
    "\n",
    "# 결과 출력\n",
    "print(df)"
   ]
  },
  {
   "cell_type": "code",
   "execution_count": 5,
   "id": "6eabed95-93b6-419f-ba97-d5975e87b5ec",
   "metadata": {},
   "outputs": [],
   "source": [
    "# 저장\n",
    "df.to_csv(\"data/선수 연도표기.csv\", index=False)"
   ]
  }
 ],
 "metadata": {
  "kernelspec": {
   "display_name": "Python 3 (ipykernel)",
   "language": "python",
   "name": "python3"
  },
  "language_info": {
   "codemirror_mode": {
    "name": "ipython",
    "version": 3
   },
   "file_extension": ".py",
   "mimetype": "text/x-python",
   "name": "python",
   "nbconvert_exporter": "python",
   "pygments_lexer": "ipython3",
   "version": "3.12.7"
  }
 },
 "nbformat": 4,
 "nbformat_minor": 5
}
